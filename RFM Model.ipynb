{
 "cells": [
  {
   "cell_type": "markdown",
   "id": "16f6ace3",
   "metadata": {},
   "source": [
    "# Project Title :  Customer Segmentation Using RFM Analysis\n",
    "## Objective : \n",
    "* 1.Analyze customer behavior \n",
    "* 2.classifie customers into 3 groups \"High, Mid, Low\" based on their purchase history using three key metrics: Recency, Frequency, and Monetary Value"
   ]
  },
  {
   "cell_type": "markdown",
   "id": "ecc7692b",
   "metadata": {},
   "source": [
    "# Import Libraries"
   ]
  },
  {
   "cell_type": "code",
   "execution_count": 35,
   "id": "e3a007c1",
   "metadata": {},
   "outputs": [],
   "source": [
    "#%pip install nbformat --upgrade"
   ]
  },
  {
   "cell_type": "code",
   "execution_count": 25,
   "id": "07f298e5",
   "metadata": {},
   "outputs": [],
   "source": [
    "import pandas as pd\n",
    "import numpy as np\n",
    "import matplotlib.pyplot as plt\n",
    "import seaborn as sns\n",
    "import plotly as py\n",
    "import plotly.express as px\n",
    "import plotly.graph_objects as go\n",
    "import plotly.colors\n",
    "from plotly.subplots import make_subplots\n",
    "%matplotlib inline"
   ]
  },
  {
   "cell_type": "code",
   "execution_count": 3,
   "id": "d36df3f7",
   "metadata": {},
   "outputs": [],
   "source": [
    "from datetime import datetime as dt , timedelta"
   ]
  },
  {
   "cell_type": "markdown",
   "id": "c2020ef1",
   "metadata": {},
   "source": [
    "# Read Data "
   ]
  },
  {
   "cell_type": "code",
   "execution_count": 4,
   "id": "13c63b59",
   "metadata": {},
   "outputs": [],
   "source": [
    "data = pd.read_csv(\"online_retail.csv\")"
   ]
  },
  {
   "cell_type": "code",
   "execution_count": 5,
   "id": "d064e974",
   "metadata": {},
   "outputs": [
    {
     "data": {
      "text/html": [
       "<div>\n",
       "<style scoped>\n",
       "    .dataframe tbody tr th:only-of-type {\n",
       "        vertical-align: middle;\n",
       "    }\n",
       "\n",
       "    .dataframe tbody tr th {\n",
       "        vertical-align: top;\n",
       "    }\n",
       "\n",
       "    .dataframe thead th {\n",
       "        text-align: right;\n",
       "    }\n",
       "</style>\n",
       "<table border=\"1\" class=\"dataframe\">\n",
       "  <thead>\n",
       "    <tr style=\"text-align: right;\">\n",
       "      <th></th>\n",
       "      <th>InvoiceNo</th>\n",
       "      <th>StockCode</th>\n",
       "      <th>Description</th>\n",
       "      <th>Quantity</th>\n",
       "      <th>InvoiceDate</th>\n",
       "      <th>UnitPrice</th>\n",
       "      <th>CustomerID</th>\n",
       "      <th>Country</th>\n",
       "    </tr>\n",
       "  </thead>\n",
       "  <tbody>\n",
       "    <tr>\n",
       "      <th>0</th>\n",
       "      <td>536365</td>\n",
       "      <td>85123A</td>\n",
       "      <td>WHITE HANGING HEART T-LIGHT HOLDER</td>\n",
       "      <td>6</td>\n",
       "      <td>2010-12-01 08:26:00</td>\n",
       "      <td>2.55</td>\n",
       "      <td>17850.0</td>\n",
       "      <td>United Kingdom</td>\n",
       "    </tr>\n",
       "    <tr>\n",
       "      <th>1</th>\n",
       "      <td>536365</td>\n",
       "      <td>71053</td>\n",
       "      <td>WHITE METAL LANTERN</td>\n",
       "      <td>6</td>\n",
       "      <td>2010-12-01 08:26:00</td>\n",
       "      <td>3.39</td>\n",
       "      <td>17850.0</td>\n",
       "      <td>United Kingdom</td>\n",
       "    </tr>\n",
       "    <tr>\n",
       "      <th>2</th>\n",
       "      <td>536365</td>\n",
       "      <td>84406B</td>\n",
       "      <td>CREAM CUPID HEARTS COAT HANGER</td>\n",
       "      <td>8</td>\n",
       "      <td>2010-12-01 08:26:00</td>\n",
       "      <td>2.75</td>\n",
       "      <td>17850.0</td>\n",
       "      <td>United Kingdom</td>\n",
       "    </tr>\n",
       "    <tr>\n",
       "      <th>3</th>\n",
       "      <td>536365</td>\n",
       "      <td>84029G</td>\n",
       "      <td>KNITTED UNION FLAG HOT WATER BOTTLE</td>\n",
       "      <td>6</td>\n",
       "      <td>2010-12-01 08:26:00</td>\n",
       "      <td>3.39</td>\n",
       "      <td>17850.0</td>\n",
       "      <td>United Kingdom</td>\n",
       "    </tr>\n",
       "    <tr>\n",
       "      <th>4</th>\n",
       "      <td>536365</td>\n",
       "      <td>84029E</td>\n",
       "      <td>RED WOOLLY HOTTIE WHITE HEART.</td>\n",
       "      <td>6</td>\n",
       "      <td>2010-12-01 08:26:00</td>\n",
       "      <td>3.39</td>\n",
       "      <td>17850.0</td>\n",
       "      <td>United Kingdom</td>\n",
       "    </tr>\n",
       "  </tbody>\n",
       "</table>\n",
       "</div>"
      ],
      "text/plain": [
       "  InvoiceNo StockCode                          Description  Quantity  \\\n",
       "0    536365    85123A   WHITE HANGING HEART T-LIGHT HOLDER         6   \n",
       "1    536365     71053                  WHITE METAL LANTERN         6   \n",
       "2    536365    84406B       CREAM CUPID HEARTS COAT HANGER         8   \n",
       "3    536365    84029G  KNITTED UNION FLAG HOT WATER BOTTLE         6   \n",
       "4    536365    84029E       RED WOOLLY HOTTIE WHITE HEART.         6   \n",
       "\n",
       "           InvoiceDate  UnitPrice  CustomerID         Country  \n",
       "0  2010-12-01 08:26:00       2.55     17850.0  United Kingdom  \n",
       "1  2010-12-01 08:26:00       3.39     17850.0  United Kingdom  \n",
       "2  2010-12-01 08:26:00       2.75     17850.0  United Kingdom  \n",
       "3  2010-12-01 08:26:00       3.39     17850.0  United Kingdom  \n",
       "4  2010-12-01 08:26:00       3.39     17850.0  United Kingdom  "
      ]
     },
     "execution_count": 5,
     "metadata": {},
     "output_type": "execute_result"
    }
   ],
   "source": [
    "data.head()"
   ]
  },
  {
   "cell_type": "code",
   "execution_count": 6,
   "id": "24215646",
   "metadata": {},
   "outputs": [
    {
     "data": {
      "text/html": [
       "<div>\n",
       "<style scoped>\n",
       "    .dataframe tbody tr th:only-of-type {\n",
       "        vertical-align: middle;\n",
       "    }\n",
       "\n",
       "    .dataframe tbody tr th {\n",
       "        vertical-align: top;\n",
       "    }\n",
       "\n",
       "    .dataframe thead th {\n",
       "        text-align: right;\n",
       "    }\n",
       "</style>\n",
       "<table border=\"1\" class=\"dataframe\">\n",
       "  <thead>\n",
       "    <tr style=\"text-align: right;\">\n",
       "      <th></th>\n",
       "      <th>InvoiceNo</th>\n",
       "      <th>StockCode</th>\n",
       "      <th>Description</th>\n",
       "      <th>Quantity</th>\n",
       "      <th>InvoiceDate</th>\n",
       "      <th>UnitPrice</th>\n",
       "      <th>CustomerID</th>\n",
       "      <th>Country</th>\n",
       "    </tr>\n",
       "  </thead>\n",
       "  <tbody>\n",
       "    <tr>\n",
       "      <th>541904</th>\n",
       "      <td>581587</td>\n",
       "      <td>22613</td>\n",
       "      <td>PACK OF 20 SPACEBOY NAPKINS</td>\n",
       "      <td>12</td>\n",
       "      <td>2011-12-09 12:50:00</td>\n",
       "      <td>0.85</td>\n",
       "      <td>12680.0</td>\n",
       "      <td>France</td>\n",
       "    </tr>\n",
       "    <tr>\n",
       "      <th>541905</th>\n",
       "      <td>581587</td>\n",
       "      <td>22899</td>\n",
       "      <td>CHILDREN'S APRON DOLLY GIRL</td>\n",
       "      <td>6</td>\n",
       "      <td>2011-12-09 12:50:00</td>\n",
       "      <td>2.10</td>\n",
       "      <td>12680.0</td>\n",
       "      <td>France</td>\n",
       "    </tr>\n",
       "    <tr>\n",
       "      <th>541906</th>\n",
       "      <td>581587</td>\n",
       "      <td>23254</td>\n",
       "      <td>CHILDRENS CUTLERY DOLLY GIRL</td>\n",
       "      <td>4</td>\n",
       "      <td>2011-12-09 12:50:00</td>\n",
       "      <td>4.15</td>\n",
       "      <td>12680.0</td>\n",
       "      <td>France</td>\n",
       "    </tr>\n",
       "    <tr>\n",
       "      <th>541907</th>\n",
       "      <td>581587</td>\n",
       "      <td>23255</td>\n",
       "      <td>CHILDRENS CUTLERY CIRCUS PARADE</td>\n",
       "      <td>4</td>\n",
       "      <td>2011-12-09 12:50:00</td>\n",
       "      <td>4.15</td>\n",
       "      <td>12680.0</td>\n",
       "      <td>France</td>\n",
       "    </tr>\n",
       "    <tr>\n",
       "      <th>541908</th>\n",
       "      <td>581587</td>\n",
       "      <td>22138</td>\n",
       "      <td>BAKING SET 9 PIECE RETROSPOT</td>\n",
       "      <td>3</td>\n",
       "      <td>2011-12-09 12:50:00</td>\n",
       "      <td>4.95</td>\n",
       "      <td>12680.0</td>\n",
       "      <td>France</td>\n",
       "    </tr>\n",
       "  </tbody>\n",
       "</table>\n",
       "</div>"
      ],
      "text/plain": [
       "       InvoiceNo StockCode                      Description  Quantity  \\\n",
       "541904    581587     22613      PACK OF 20 SPACEBOY NAPKINS        12   \n",
       "541905    581587     22899     CHILDREN'S APRON DOLLY GIRL          6   \n",
       "541906    581587     23254    CHILDRENS CUTLERY DOLLY GIRL          4   \n",
       "541907    581587     23255  CHILDRENS CUTLERY CIRCUS PARADE         4   \n",
       "541908    581587     22138    BAKING SET 9 PIECE RETROSPOT          3   \n",
       "\n",
       "                InvoiceDate  UnitPrice  CustomerID Country  \n",
       "541904  2011-12-09 12:50:00       0.85     12680.0  France  \n",
       "541905  2011-12-09 12:50:00       2.10     12680.0  France  \n",
       "541906  2011-12-09 12:50:00       4.15     12680.0  France  \n",
       "541907  2011-12-09 12:50:00       4.15     12680.0  France  \n",
       "541908  2011-12-09 12:50:00       4.95     12680.0  France  "
      ]
     },
     "execution_count": 6,
     "metadata": {},
     "output_type": "execute_result"
    }
   ],
   "source": [
    "data.tail()"
   ]
  },
  {
   "cell_type": "markdown",
   "id": "f22fd98c",
   "metadata": {},
   "source": [
    "# EDA"
   ]
  },
  {
   "cell_type": "code",
   "execution_count": 7,
   "id": "1f8f790c",
   "metadata": {},
   "outputs": [
    {
     "data": {
      "text/plain": [
       "(541909, 8)"
      ]
     },
     "execution_count": 7,
     "metadata": {},
     "output_type": "execute_result"
    }
   ],
   "source": [
    "data.shape"
   ]
  },
  {
   "cell_type": "code",
   "execution_count": 8,
   "id": "18fc9627",
   "metadata": {},
   "outputs": [
    {
     "name": "stdout",
     "output_type": "stream",
     "text": [
      "Data Columns :  ['InvoiceNo', 'StockCode', 'Description', 'Quantity', 'InvoiceDate', 'UnitPrice', 'CustomerID', 'Country']\n"
     ]
    }
   ],
   "source": [
    "print(f\"Data Columns :  {data.columns.tolist()}\")"
   ]
  },
  {
   "cell_type": "code",
   "execution_count": 9,
   "id": "940488ec",
   "metadata": {},
   "outputs": [
    {
     "name": "stdout",
     "output_type": "stream",
     "text": [
      "<class 'pandas.core.frame.DataFrame'>\n",
      "RangeIndex: 541909 entries, 0 to 541908\n",
      "Data columns (total 8 columns):\n",
      " #   Column       Non-Null Count   Dtype  \n",
      "---  ------       --------------   -----  \n",
      " 0   InvoiceNo    541909 non-null  object \n",
      " 1   StockCode    541909 non-null  object \n",
      " 2   Description  540455 non-null  object \n",
      " 3   Quantity     541909 non-null  int64  \n",
      " 4   InvoiceDate  541909 non-null  object \n",
      " 5   UnitPrice    541909 non-null  float64\n",
      " 6   CustomerID   406829 non-null  float64\n",
      " 7   Country      541909 non-null  object \n",
      "dtypes: float64(2), int64(1), object(5)\n",
      "memory usage: 33.1+ MB\n"
     ]
    }
   ],
   "source": [
    "data.info()"
   ]
  },
  {
   "cell_type": "code",
   "execution_count": 10,
   "id": "bc4c9344",
   "metadata": {},
   "outputs": [
    {
     "data": {
      "text/html": [
       "<div>\n",
       "<style scoped>\n",
       "    .dataframe tbody tr th:only-of-type {\n",
       "        vertical-align: middle;\n",
       "    }\n",
       "\n",
       "    .dataframe tbody tr th {\n",
       "        vertical-align: top;\n",
       "    }\n",
       "\n",
       "    .dataframe thead th {\n",
       "        text-align: right;\n",
       "    }\n",
       "</style>\n",
       "<table border=\"1\" class=\"dataframe\">\n",
       "  <thead>\n",
       "    <tr style=\"text-align: right;\">\n",
       "      <th></th>\n",
       "      <th>InvoiceNo</th>\n",
       "      <th>StockCode</th>\n",
       "      <th>Description</th>\n",
       "      <th>Quantity</th>\n",
       "      <th>InvoiceDate</th>\n",
       "      <th>UnitPrice</th>\n",
       "      <th>CustomerID</th>\n",
       "      <th>Country</th>\n",
       "    </tr>\n",
       "  </thead>\n",
       "  <tbody>\n",
       "    <tr>\n",
       "      <th>count</th>\n",
       "      <td>541909</td>\n",
       "      <td>541909</td>\n",
       "      <td>540455</td>\n",
       "      <td>541909.000000</td>\n",
       "      <td>541909</td>\n",
       "      <td>541909.000000</td>\n",
       "      <td>406829.000000</td>\n",
       "      <td>541909</td>\n",
       "    </tr>\n",
       "    <tr>\n",
       "      <th>unique</th>\n",
       "      <td>25900</td>\n",
       "      <td>4070</td>\n",
       "      <td>4223</td>\n",
       "      <td>NaN</td>\n",
       "      <td>23260</td>\n",
       "      <td>NaN</td>\n",
       "      <td>NaN</td>\n",
       "      <td>38</td>\n",
       "    </tr>\n",
       "    <tr>\n",
       "      <th>top</th>\n",
       "      <td>573585</td>\n",
       "      <td>85123A</td>\n",
       "      <td>WHITE HANGING HEART T-LIGHT HOLDER</td>\n",
       "      <td>NaN</td>\n",
       "      <td>2011-10-31 14:41:00</td>\n",
       "      <td>NaN</td>\n",
       "      <td>NaN</td>\n",
       "      <td>United Kingdom</td>\n",
       "    </tr>\n",
       "    <tr>\n",
       "      <th>freq</th>\n",
       "      <td>1114</td>\n",
       "      <td>2313</td>\n",
       "      <td>2369</td>\n",
       "      <td>NaN</td>\n",
       "      <td>1114</td>\n",
       "      <td>NaN</td>\n",
       "      <td>NaN</td>\n",
       "      <td>495478</td>\n",
       "    </tr>\n",
       "    <tr>\n",
       "      <th>mean</th>\n",
       "      <td>NaN</td>\n",
       "      <td>NaN</td>\n",
       "      <td>NaN</td>\n",
       "      <td>9.552250</td>\n",
       "      <td>NaN</td>\n",
       "      <td>4.611114</td>\n",
       "      <td>15287.690570</td>\n",
       "      <td>NaN</td>\n",
       "    </tr>\n",
       "    <tr>\n",
       "      <th>std</th>\n",
       "      <td>NaN</td>\n",
       "      <td>NaN</td>\n",
       "      <td>NaN</td>\n",
       "      <td>218.081158</td>\n",
       "      <td>NaN</td>\n",
       "      <td>96.759853</td>\n",
       "      <td>1713.600303</td>\n",
       "      <td>NaN</td>\n",
       "    </tr>\n",
       "    <tr>\n",
       "      <th>min</th>\n",
       "      <td>NaN</td>\n",
       "      <td>NaN</td>\n",
       "      <td>NaN</td>\n",
       "      <td>-80995.000000</td>\n",
       "      <td>NaN</td>\n",
       "      <td>-11062.060000</td>\n",
       "      <td>12346.000000</td>\n",
       "      <td>NaN</td>\n",
       "    </tr>\n",
       "    <tr>\n",
       "      <th>25%</th>\n",
       "      <td>NaN</td>\n",
       "      <td>NaN</td>\n",
       "      <td>NaN</td>\n",
       "      <td>1.000000</td>\n",
       "      <td>NaN</td>\n",
       "      <td>1.250000</td>\n",
       "      <td>13953.000000</td>\n",
       "      <td>NaN</td>\n",
       "    </tr>\n",
       "    <tr>\n",
       "      <th>50%</th>\n",
       "      <td>NaN</td>\n",
       "      <td>NaN</td>\n",
       "      <td>NaN</td>\n",
       "      <td>3.000000</td>\n",
       "      <td>NaN</td>\n",
       "      <td>2.080000</td>\n",
       "      <td>15152.000000</td>\n",
       "      <td>NaN</td>\n",
       "    </tr>\n",
       "    <tr>\n",
       "      <th>75%</th>\n",
       "      <td>NaN</td>\n",
       "      <td>NaN</td>\n",
       "      <td>NaN</td>\n",
       "      <td>10.000000</td>\n",
       "      <td>NaN</td>\n",
       "      <td>4.130000</td>\n",
       "      <td>16791.000000</td>\n",
       "      <td>NaN</td>\n",
       "    </tr>\n",
       "    <tr>\n",
       "      <th>max</th>\n",
       "      <td>NaN</td>\n",
       "      <td>NaN</td>\n",
       "      <td>NaN</td>\n",
       "      <td>80995.000000</td>\n",
       "      <td>NaN</td>\n",
       "      <td>38970.000000</td>\n",
       "      <td>18287.000000</td>\n",
       "      <td>NaN</td>\n",
       "    </tr>\n",
       "  </tbody>\n",
       "</table>\n",
       "</div>"
      ],
      "text/plain": [
       "       InvoiceNo StockCode                         Description       Quantity  \\\n",
       "count     541909    541909                              540455  541909.000000   \n",
       "unique     25900      4070                                4223            NaN   \n",
       "top       573585    85123A  WHITE HANGING HEART T-LIGHT HOLDER            NaN   \n",
       "freq        1114      2313                                2369            NaN   \n",
       "mean         NaN       NaN                                 NaN       9.552250   \n",
       "std          NaN       NaN                                 NaN     218.081158   \n",
       "min          NaN       NaN                                 NaN  -80995.000000   \n",
       "25%          NaN       NaN                                 NaN       1.000000   \n",
       "50%          NaN       NaN                                 NaN       3.000000   \n",
       "75%          NaN       NaN                                 NaN      10.000000   \n",
       "max          NaN       NaN                                 NaN   80995.000000   \n",
       "\n",
       "                InvoiceDate      UnitPrice     CustomerID         Country  \n",
       "count                541909  541909.000000  406829.000000          541909  \n",
       "unique                23260            NaN            NaN              38  \n",
       "top     2011-10-31 14:41:00            NaN            NaN  United Kingdom  \n",
       "freq                   1114            NaN            NaN          495478  \n",
       "mean                    NaN       4.611114   15287.690570             NaN  \n",
       "std                     NaN      96.759853    1713.600303             NaN  \n",
       "min                     NaN  -11062.060000   12346.000000             NaN  \n",
       "25%                     NaN       1.250000   13953.000000             NaN  \n",
       "50%                     NaN       2.080000   15152.000000             NaN  \n",
       "75%                     NaN       4.130000   16791.000000             NaN  \n",
       "max                     NaN   38970.000000   18287.000000             NaN  "
      ]
     },
     "execution_count": 10,
     "metadata": {},
     "output_type": "execute_result"
    }
   ],
   "source": [
    "data.describe(include='all')"
   ]
  },
  {
   "cell_type": "code",
   "execution_count": 11,
   "id": "fcfb45bb",
   "metadata": {},
   "outputs": [
    {
     "name": "stdout",
     "output_type": "stream",
     "text": [
      "Number of Duplicated Rows : 5268\n"
     ]
    }
   ],
   "source": [
    "print(f\"Number of Duplicated Rows : {data.duplicated().sum()}\")"
   ]
  },
  {
   "cell_type": "code",
   "execution_count": 12,
   "id": "4813fe43",
   "metadata": {},
   "outputs": [
    {
     "data": {
      "text/plain": [
       "InvoiceNo           0\n",
       "StockCode           0\n",
       "Description      1454\n",
       "Quantity            0\n",
       "InvoiceDate         0\n",
       "UnitPrice           0\n",
       "CustomerID     135080\n",
       "Country             0\n",
       "dtype: int64"
      ]
     },
     "execution_count": 12,
     "metadata": {},
     "output_type": "execute_result"
    }
   ],
   "source": [
    "data.isnull().sum() "
   ]
  },
  {
   "cell_type": "markdown",
   "id": "86a6f4cf",
   "metadata": {},
   "source": [
    "# Data Cleaning"
   ]
  },
  {
   "cell_type": "code",
   "execution_count": 13,
   "id": "50d5a470",
   "metadata": {},
   "outputs": [
    {
     "data": {
      "text/plain": [
       "InvoiceNo       0.000000\n",
       "StockCode       0.000000\n",
       "Description     0.268311\n",
       "Quantity        0.000000\n",
       "InvoiceDate     0.000000\n",
       "UnitPrice       0.000000\n",
       "CustomerID     24.926694\n",
       "Country         0.000000\n",
       "dtype: float64"
      ]
     },
     "execution_count": 13,
     "metadata": {},
     "output_type": "execute_result"
    }
   ],
   "source": [
    "data.isnull().sum()/len(data) * 100"
   ]
  },
  {
   "cell_type": "code",
   "execution_count": 14,
   "id": "f216d726",
   "metadata": {},
   "outputs": [],
   "source": [
    "data.dropna(subset=['CustomerID'],inplace=True)"
   ]
  },
  {
   "cell_type": "code",
   "execution_count": 15,
   "id": "b78e885e",
   "metadata": {},
   "outputs": [],
   "source": [
    "data['InvoiceDate'] = pd.to_datetime(data['InvoiceDate'])"
   ]
  },
  {
   "cell_type": "markdown",
   "id": "2241fd5d",
   "metadata": {},
   "source": [
    "# Data Transformation"
   ]
  },
  {
   "cell_type": "code",
   "execution_count": 16,
   "id": "3f972275",
   "metadata": {},
   "outputs": [],
   "source": [
    "data['TotalAmount'] = data['Quantity'] * data['UnitPrice']"
   ]
  },
  {
   "cell_type": "code",
   "execution_count": 17,
   "id": "1b5acdef",
   "metadata": {},
   "outputs": [
    {
     "data": {
      "text/html": [
       "<div>\n",
       "<style scoped>\n",
       "    .dataframe tbody tr th:only-of-type {\n",
       "        vertical-align: middle;\n",
       "    }\n",
       "\n",
       "    .dataframe tbody tr th {\n",
       "        vertical-align: top;\n",
       "    }\n",
       "\n",
       "    .dataframe thead th {\n",
       "        text-align: right;\n",
       "    }\n",
       "</style>\n",
       "<table border=\"1\" class=\"dataframe\">\n",
       "  <thead>\n",
       "    <tr style=\"text-align: right;\">\n",
       "      <th></th>\n",
       "      <th>InvoiceNo</th>\n",
       "      <th>StockCode</th>\n",
       "      <th>Description</th>\n",
       "      <th>Quantity</th>\n",
       "      <th>InvoiceDate</th>\n",
       "      <th>UnitPrice</th>\n",
       "      <th>CustomerID</th>\n",
       "      <th>Country</th>\n",
       "      <th>TotalAmount</th>\n",
       "    </tr>\n",
       "  </thead>\n",
       "  <tbody>\n",
       "    <tr>\n",
       "      <th>0</th>\n",
       "      <td>536365</td>\n",
       "      <td>85123A</td>\n",
       "      <td>WHITE HANGING HEART T-LIGHT HOLDER</td>\n",
       "      <td>6</td>\n",
       "      <td>2010-12-01 08:26:00</td>\n",
       "      <td>2.55</td>\n",
       "      <td>17850.0</td>\n",
       "      <td>United Kingdom</td>\n",
       "      <td>15.30</td>\n",
       "    </tr>\n",
       "    <tr>\n",
       "      <th>1</th>\n",
       "      <td>536365</td>\n",
       "      <td>71053</td>\n",
       "      <td>WHITE METAL LANTERN</td>\n",
       "      <td>6</td>\n",
       "      <td>2010-12-01 08:26:00</td>\n",
       "      <td>3.39</td>\n",
       "      <td>17850.0</td>\n",
       "      <td>United Kingdom</td>\n",
       "      <td>20.34</td>\n",
       "    </tr>\n",
       "    <tr>\n",
       "      <th>2</th>\n",
       "      <td>536365</td>\n",
       "      <td>84406B</td>\n",
       "      <td>CREAM CUPID HEARTS COAT HANGER</td>\n",
       "      <td>8</td>\n",
       "      <td>2010-12-01 08:26:00</td>\n",
       "      <td>2.75</td>\n",
       "      <td>17850.0</td>\n",
       "      <td>United Kingdom</td>\n",
       "      <td>22.00</td>\n",
       "    </tr>\n",
       "    <tr>\n",
       "      <th>3</th>\n",
       "      <td>536365</td>\n",
       "      <td>84029G</td>\n",
       "      <td>KNITTED UNION FLAG HOT WATER BOTTLE</td>\n",
       "      <td>6</td>\n",
       "      <td>2010-12-01 08:26:00</td>\n",
       "      <td>3.39</td>\n",
       "      <td>17850.0</td>\n",
       "      <td>United Kingdom</td>\n",
       "      <td>20.34</td>\n",
       "    </tr>\n",
       "    <tr>\n",
       "      <th>4</th>\n",
       "      <td>536365</td>\n",
       "      <td>84029E</td>\n",
       "      <td>RED WOOLLY HOTTIE WHITE HEART.</td>\n",
       "      <td>6</td>\n",
       "      <td>2010-12-01 08:26:00</td>\n",
       "      <td>3.39</td>\n",
       "      <td>17850.0</td>\n",
       "      <td>United Kingdom</td>\n",
       "      <td>20.34</td>\n",
       "    </tr>\n",
       "  </tbody>\n",
       "</table>\n",
       "</div>"
      ],
      "text/plain": [
       "  InvoiceNo StockCode                          Description  Quantity  \\\n",
       "0    536365    85123A   WHITE HANGING HEART T-LIGHT HOLDER         6   \n",
       "1    536365     71053                  WHITE METAL LANTERN         6   \n",
       "2    536365    84406B       CREAM CUPID HEARTS COAT HANGER         8   \n",
       "3    536365    84029G  KNITTED UNION FLAG HOT WATER BOTTLE         6   \n",
       "4    536365    84029E       RED WOOLLY HOTTIE WHITE HEART.         6   \n",
       "\n",
       "          InvoiceDate  UnitPrice  CustomerID         Country  TotalAmount  \n",
       "0 2010-12-01 08:26:00       2.55     17850.0  United Kingdom        15.30  \n",
       "1 2010-12-01 08:26:00       3.39     17850.0  United Kingdom        20.34  \n",
       "2 2010-12-01 08:26:00       2.75     17850.0  United Kingdom        22.00  \n",
       "3 2010-12-01 08:26:00       3.39     17850.0  United Kingdom        20.34  \n",
       "4 2010-12-01 08:26:00       3.39     17850.0  United Kingdom        20.34  "
      ]
     },
     "execution_count": 17,
     "metadata": {},
     "output_type": "execute_result"
    }
   ],
   "source": [
    "data.head()"
   ]
  },
  {
   "cell_type": "code",
   "execution_count": 18,
   "id": "33612355",
   "metadata": {},
   "outputs": [],
   "source": [
    "referrence_date = data['InvoiceDate'].max() + timedelta(days=1)"
   ]
  },
  {
   "cell_type": "code",
   "execution_count": 19,
   "id": "a464ad44",
   "metadata": {},
   "outputs": [
    {
     "data": {
      "text/plain": [
       "Timestamp('2011-12-10 12:50:00')"
      ]
     },
     "execution_count": 19,
     "metadata": {},
     "output_type": "execute_result"
    }
   ],
   "source": [
    "referrence_date"
   ]
  },
  {
   "cell_type": "markdown",
   "id": "8fe0bf07",
   "metadata": {},
   "source": [
    "# Analysis and visualization"
   ]
  },
  {
   "cell_type": "markdown",
   "id": "9068ca78",
   "metadata": {},
   "source": [
    "KPI'S"
   ]
  },
  {
   "cell_type": "code",
   "execution_count": 29,
   "id": "770dd511",
   "metadata": {},
   "outputs": [
    {
     "name": "stdout",
     "output_type": "stream",
     "text": [
      "Number of Unique Customers : 4372\n",
      "Number of Unique Products : 3684\n",
      "Number of Unique Invoices : 22190\n",
      "Number of Countries : 37\n",
      "Total Revenue : 8300065.813999999\n",
      "Total Quantity Sold : 4906888\n",
      "Average Sales Amount per Transaction : 20.401853884555916\n",
      "Average Quantity Sold per Transaction : 12.06130339774205\n",
      "Maximum Sales Amount in a Transaction : 168469.6\n",
      "Minimum Sales Amount in a Transaction : -168469.6\n",
      "Maximum Quantity Sold in a Transaction : 80995\n",
      "Minimum Quantity Sold in a Transaction : -80995\n",
      "Average Revenue per Customer : 1898.4597012808783\n",
      "Average Revenue per Order : 374.0453273546642\n"
     ]
    }
   ],
   "source": [
    "Number_of_unique_customers = data['CustomerID'].nunique()\n",
    "print(f\"Number of Unique Customers : {Number_of_unique_customers}\")\n",
    "\n",
    "Number_of_unique_products = data['StockCode'].nunique()\n",
    "print(f\"Number of Unique Products : {Number_of_unique_products}\")\n",
    "\n",
    "Number_of_unique_invoices = data['InvoiceNo'].nunique()\n",
    "print(f\"Number of Unique Invoices : {Number_of_unique_invoices}\")\n",
    "\n",
    "Number_of_countries = data['Country'].nunique()\n",
    "print(f\"Number of Countries : {Number_of_countries}\")\n",
    "\n",
    "Total_Revenue = data['TotalAmount'].sum()\n",
    "print(f\"Total Revenue : {Total_Revenue}\")\n",
    "\n",
    "Total_Quantity_Sold = data['Quantity'].sum()\n",
    "print(f\"Total Quantity Sold : {Total_Quantity_Sold}\")\n",
    "\n",
    "Avg_Sales_Amount_per_Transaction = data['TotalAmount'].mean()\n",
    "print(f\"Average Sales Amount per Transaction : {Avg_Sales_Amount_per_Transaction}\")\n",
    "\n",
    "Avg_Quantity_Sold_per_Transaction = data['Quantity'].mean()\n",
    "print(f\"Average Quantity Sold per Transaction : {Avg_Quantity_Sold_per_Transaction}\")\n",
    "\n",
    "Maximum_Sales_Amount_in_a_Transaction = data['TotalAmount'].max()\n",
    "print(f\"Maximum Sales Amount in a Transaction : {Maximum_Sales_Amount_in_a_Transaction}\")\n",
    "\n",
    "Minimum_Sales_Amount_in_a_Transaction = data['TotalAmount'].min()\n",
    "print(f\"Minimum Sales Amount in a Transaction : {Minimum_Sales_Amount_in_a_Transaction}\")\n",
    "\n",
    "Maximum_Quantity_Sold_in_a_Transaction = data['Quantity'].max()\n",
    "print(f\"Maximum Quantity Sold in a Transaction : {Maximum_Quantity_Sold_in_a_Transaction}\")\n",
    "\n",
    "Minimum_Quantity_Sold_in_a_Transaction = data['Quantity'].min()\n",
    "print(f\"Minimum Quantity Sold in a Transaction : {Minimum_Quantity_Sold_in_a_Transaction}\")\n",
    "\n",
    "Average_Revenue_per_Customer = data.groupby('CustomerID')['TotalAmount'].sum().mean()\n",
    "print(f\"Average Revenue per Customer : {Average_Revenue_per_Customer}\")\n",
    "\n",
    "Average_revenue_per_order = data.groupby('InvoiceNo')['TotalAmount'].sum().mean()\n",
    "print(f\"Average Revenue per Order : {Average_revenue_per_order}\")"
   ]
  },
  {
   "cell_type": "markdown",
   "id": "04cbee5d",
   "metadata": {},
   "source": [
    "Vsualise KPI'S as Cards"
   ]
  },
  {
   "cell_type": "code",
   "execution_count": null,
   "id": "0f557787",
   "metadata": {},
   "outputs": [
    {
     "data": {
      "application/vnd.plotly.v1+json": {
       "config": {
        "plotlyServerURL": "https://plot.ly"
       },
       "data": [
        {
         "domain": {
          "x": [
           0,
           0.2125
          ],
          "y": [
           0.7333333333333333,
           1
          ]
         },
         "mode": "number",
         "title": {
          "text": "Unique Customers"
         },
         "type": "indicator",
         "value": 4372
        },
        {
         "domain": {
          "x": [
           0.2625,
           0.475
          ],
          "y": [
           0.7333333333333333,
           1
          ]
         },
         "mode": "number",
         "title": {
          "text": "Unique Products"
         },
         "type": "indicator",
         "value": 3684
        },
        {
         "domain": {
          "x": [
           0.525,
           0.7375
          ],
          "y": [
           0.7333333333333333,
           1
          ]
         },
         "mode": "number",
         "title": {
          "text": "Unique Invoices"
         },
         "type": "indicator",
         "value": 22190
        },
        {
         "domain": {
          "x": [
           0.7875,
           1
          ],
          "y": [
           0.7333333333333333,
           1
          ]
         },
         "mode": "number",
         "title": {
          "text": "Countries"
         },
         "type": "indicator",
         "value": 37
        },
        {
         "domain": {
          "x": [
           0,
           0.2125
          ],
          "y": [
           0.36666666666666664,
           0.6333333333333333
          ]
         },
         "mode": "number",
         "number": {
          "prefix": "$",
          "valueformat": ",.2f"
         },
         "title": {
          "text": "Total Revenue"
         },
         "type": "indicator",
         "value": 8300065.813999999
        },
        {
         "domain": {
          "x": [
           0.2625,
           0.475
          ],
          "y": [
           0.36666666666666664,
           0.6333333333333333
          ]
         },
         "mode": "number",
         "title": {
          "text": "Total Quantity Sold"
         },
         "type": "indicator",
         "value": 4906888
        },
        {
         "domain": {
          "x": [
           0.525,
           0.7375
          ],
          "y": [
           0.36666666666666664,
           0.6333333333333333
          ]
         },
         "mode": "number",
         "number": {
          "prefix": "$",
          "valueformat": ",.2f"
         },
         "title": {
          "text": "Avg Sales/Transaction"
         },
         "type": "indicator",
         "value": 20.401853884555916
        },
        {
         "domain": {
          "x": [
           0.7875,
           1
          ],
          "y": [
           0.36666666666666664,
           0.6333333333333333
          ]
         },
         "mode": "number",
         "number": {
          "valueformat": ",.2f"
         },
         "title": {
          "text": "Avg Qty/Transaction"
         },
         "type": "indicator",
         "value": 12.06130339774205
        },
        {
         "domain": {
          "x": [
           0.2625,
           0.475
          ],
          "y": [
           0,
           0.26666666666666666
          ]
         },
         "mode": "number",
         "number": {
          "prefix": "$",
          "valueformat": ",.2f"
         },
         "title": {
          "text": "Avg Rev/Customer"
         },
         "type": "indicator",
         "value": 1898.4597012808783
        },
        {
         "domain": {
          "x": [
           0.525,
           0.7375
          ],
          "y": [
           0,
           0.26666666666666666
          ]
         },
         "mode": "number",
         "number": {
          "prefix": "$",
          "valueformat": ",.2f"
         },
         "title": {
          "text": "Avg Rev/Order"
         },
         "type": "indicator",
         "value": 374.0453273546642
        }
       ],
       "layout": {
        "height": 800,
        "margin": {
         "b": 20,
         "l": 20,
         "r": 20,
         "t": 60
        },
        "template": {
         "data": {
          "bar": [
           {
            "error_x": {
             "color": "#2a3f5f"
            },
            "error_y": {
             "color": "#2a3f5f"
            },
            "marker": {
             "line": {
              "color": "#E5ECF6",
              "width": 0.5
             },
             "pattern": {
              "fillmode": "overlay",
              "size": 10,
              "solidity": 0.2
             }
            },
            "type": "bar"
           }
          ],
          "barpolar": [
           {
            "marker": {
             "line": {
              "color": "#E5ECF6",
              "width": 0.5
             },
             "pattern": {
              "fillmode": "overlay",
              "size": 10,
              "solidity": 0.2
             }
            },
            "type": "barpolar"
           }
          ],
          "carpet": [
           {
            "aaxis": {
             "endlinecolor": "#2a3f5f",
             "gridcolor": "white",
             "linecolor": "white",
             "minorgridcolor": "white",
             "startlinecolor": "#2a3f5f"
            },
            "baxis": {
             "endlinecolor": "#2a3f5f",
             "gridcolor": "white",
             "linecolor": "white",
             "minorgridcolor": "white",
             "startlinecolor": "#2a3f5f"
            },
            "type": "carpet"
           }
          ],
          "choropleth": [
           {
            "colorbar": {
             "outlinewidth": 0,
             "ticks": ""
            },
            "type": "choropleth"
           }
          ],
          "contour": [
           {
            "colorbar": {
             "outlinewidth": 0,
             "ticks": ""
            },
            "colorscale": [
             [
              0,
              "#0d0887"
             ],
             [
              0.1111111111111111,
              "#46039f"
             ],
             [
              0.2222222222222222,
              "#7201a8"
             ],
             [
              0.3333333333333333,
              "#9c179e"
             ],
             [
              0.4444444444444444,
              "#bd3786"
             ],
             [
              0.5555555555555556,
              "#d8576b"
             ],
             [
              0.6666666666666666,
              "#ed7953"
             ],
             [
              0.7777777777777778,
              "#fb9f3a"
             ],
             [
              0.8888888888888888,
              "#fdca26"
             ],
             [
              1,
              "#f0f921"
             ]
            ],
            "type": "contour"
           }
          ],
          "contourcarpet": [
           {
            "colorbar": {
             "outlinewidth": 0,
             "ticks": ""
            },
            "type": "contourcarpet"
           }
          ],
          "heatmap": [
           {
            "colorbar": {
             "outlinewidth": 0,
             "ticks": ""
            },
            "colorscale": [
             [
              0,
              "#0d0887"
             ],
             [
              0.1111111111111111,
              "#46039f"
             ],
             [
              0.2222222222222222,
              "#7201a8"
             ],
             [
              0.3333333333333333,
              "#9c179e"
             ],
             [
              0.4444444444444444,
              "#bd3786"
             ],
             [
              0.5555555555555556,
              "#d8576b"
             ],
             [
              0.6666666666666666,
              "#ed7953"
             ],
             [
              0.7777777777777778,
              "#fb9f3a"
             ],
             [
              0.8888888888888888,
              "#fdca26"
             ],
             [
              1,
              "#f0f921"
             ]
            ],
            "type": "heatmap"
           }
          ],
          "histogram": [
           {
            "marker": {
             "pattern": {
              "fillmode": "overlay",
              "size": 10,
              "solidity": 0.2
             }
            },
            "type": "histogram"
           }
          ],
          "histogram2d": [
           {
            "colorbar": {
             "outlinewidth": 0,
             "ticks": ""
            },
            "colorscale": [
             [
              0,
              "#0d0887"
             ],
             [
              0.1111111111111111,
              "#46039f"
             ],
             [
              0.2222222222222222,
              "#7201a8"
             ],
             [
              0.3333333333333333,
              "#9c179e"
             ],
             [
              0.4444444444444444,
              "#bd3786"
             ],
             [
              0.5555555555555556,
              "#d8576b"
             ],
             [
              0.6666666666666666,
              "#ed7953"
             ],
             [
              0.7777777777777778,
              "#fb9f3a"
             ],
             [
              0.8888888888888888,
              "#fdca26"
             ],
             [
              1,
              "#f0f921"
             ]
            ],
            "type": "histogram2d"
           }
          ],
          "histogram2dcontour": [
           {
            "colorbar": {
             "outlinewidth": 0,
             "ticks": ""
            },
            "colorscale": [
             [
              0,
              "#0d0887"
             ],
             [
              0.1111111111111111,
              "#46039f"
             ],
             [
              0.2222222222222222,
              "#7201a8"
             ],
             [
              0.3333333333333333,
              "#9c179e"
             ],
             [
              0.4444444444444444,
              "#bd3786"
             ],
             [
              0.5555555555555556,
              "#d8576b"
             ],
             [
              0.6666666666666666,
              "#ed7953"
             ],
             [
              0.7777777777777778,
              "#fb9f3a"
             ],
             [
              0.8888888888888888,
              "#fdca26"
             ],
             [
              1,
              "#f0f921"
             ]
            ],
            "type": "histogram2dcontour"
           }
          ],
          "mesh3d": [
           {
            "colorbar": {
             "outlinewidth": 0,
             "ticks": ""
            },
            "type": "mesh3d"
           }
          ],
          "parcoords": [
           {
            "line": {
             "colorbar": {
              "outlinewidth": 0,
              "ticks": ""
             }
            },
            "type": "parcoords"
           }
          ],
          "pie": [
           {
            "automargin": true,
            "type": "pie"
           }
          ],
          "scatter": [
           {
            "fillpattern": {
             "fillmode": "overlay",
             "size": 10,
             "solidity": 0.2
            },
            "type": "scatter"
           }
          ],
          "scatter3d": [
           {
            "line": {
             "colorbar": {
              "outlinewidth": 0,
              "ticks": ""
             }
            },
            "marker": {
             "colorbar": {
              "outlinewidth": 0,
              "ticks": ""
             }
            },
            "type": "scatter3d"
           }
          ],
          "scattercarpet": [
           {
            "marker": {
             "colorbar": {
              "outlinewidth": 0,
              "ticks": ""
             }
            },
            "type": "scattercarpet"
           }
          ],
          "scattergeo": [
           {
            "marker": {
             "colorbar": {
              "outlinewidth": 0,
              "ticks": ""
             }
            },
            "type": "scattergeo"
           }
          ],
          "scattergl": [
           {
            "marker": {
             "colorbar": {
              "outlinewidth": 0,
              "ticks": ""
             }
            },
            "type": "scattergl"
           }
          ],
          "scattermap": [
           {
            "marker": {
             "colorbar": {
              "outlinewidth": 0,
              "ticks": ""
             }
            },
            "type": "scattermap"
           }
          ],
          "scattermapbox": [
           {
            "marker": {
             "colorbar": {
              "outlinewidth": 0,
              "ticks": ""
             }
            },
            "type": "scattermapbox"
           }
          ],
          "scatterpolar": [
           {
            "marker": {
             "colorbar": {
              "outlinewidth": 0,
              "ticks": ""
             }
            },
            "type": "scatterpolar"
           }
          ],
          "scatterpolargl": [
           {
            "marker": {
             "colorbar": {
              "outlinewidth": 0,
              "ticks": ""
             }
            },
            "type": "scatterpolargl"
           }
          ],
          "scatterternary": [
           {
            "marker": {
             "colorbar": {
              "outlinewidth": 0,
              "ticks": ""
             }
            },
            "type": "scatterternary"
           }
          ],
          "surface": [
           {
            "colorbar": {
             "outlinewidth": 0,
             "ticks": ""
            },
            "colorscale": [
             [
              0,
              "#0d0887"
             ],
             [
              0.1111111111111111,
              "#46039f"
             ],
             [
              0.2222222222222222,
              "#7201a8"
             ],
             [
              0.3333333333333333,
              "#9c179e"
             ],
             [
              0.4444444444444444,
              "#bd3786"
             ],
             [
              0.5555555555555556,
              "#d8576b"
             ],
             [
              0.6666666666666666,
              "#ed7953"
             ],
             [
              0.7777777777777778,
              "#fb9f3a"
             ],
             [
              0.8888888888888888,
              "#fdca26"
             ],
             [
              1,
              "#f0f921"
             ]
            ],
            "type": "surface"
           }
          ],
          "table": [
           {
            "cells": {
             "fill": {
              "color": "#EBF0F8"
             },
             "line": {
              "color": "white"
             }
            },
            "header": {
             "fill": {
              "color": "#C8D4E3"
             },
             "line": {
              "color": "white"
             }
            },
            "type": "table"
           }
          ]
         },
         "layout": {
          "annotationdefaults": {
           "arrowcolor": "#2a3f5f",
           "arrowhead": 0,
           "arrowwidth": 1
          },
          "autotypenumbers": "strict",
          "coloraxis": {
           "colorbar": {
            "outlinewidth": 0,
            "ticks": ""
           }
          },
          "colorscale": {
           "diverging": [
            [
             0,
             "#8e0152"
            ],
            [
             0.1,
             "#c51b7d"
            ],
            [
             0.2,
             "#de77ae"
            ],
            [
             0.3,
             "#f1b6da"
            ],
            [
             0.4,
             "#fde0ef"
            ],
            [
             0.5,
             "#f7f7f7"
            ],
            [
             0.6,
             "#e6f5d0"
            ],
            [
             0.7,
             "#b8e186"
            ],
            [
             0.8,
             "#7fbc41"
            ],
            [
             0.9,
             "#4d9221"
            ],
            [
             1,
             "#276419"
            ]
           ],
           "sequential": [
            [
             0,
             "#0d0887"
            ],
            [
             0.1111111111111111,
             "#46039f"
            ],
            [
             0.2222222222222222,
             "#7201a8"
            ],
            [
             0.3333333333333333,
             "#9c179e"
            ],
            [
             0.4444444444444444,
             "#bd3786"
            ],
            [
             0.5555555555555556,
             "#d8576b"
            ],
            [
             0.6666666666666666,
             "#ed7953"
            ],
            [
             0.7777777777777778,
             "#fb9f3a"
            ],
            [
             0.8888888888888888,
             "#fdca26"
            ],
            [
             1,
             "#f0f921"
            ]
           ],
           "sequentialminus": [
            [
             0,
             "#0d0887"
            ],
            [
             0.1111111111111111,
             "#46039f"
            ],
            [
             0.2222222222222222,
             "#7201a8"
            ],
            [
             0.3333333333333333,
             "#9c179e"
            ],
            [
             0.4444444444444444,
             "#bd3786"
            ],
            [
             0.5555555555555556,
             "#d8576b"
            ],
            [
             0.6666666666666666,
             "#ed7953"
            ],
            [
             0.7777777777777778,
             "#fb9f3a"
            ],
            [
             0.8888888888888888,
             "#fdca26"
            ],
            [
             1,
             "#f0f921"
            ]
           ]
          },
          "colorway": [
           "#636efa",
           "#EF553B",
           "#00cc96",
           "#ab63fa",
           "#FFA15A",
           "#19d3f3",
           "#FF6692",
           "#B6E880",
           "#FF97FF",
           "#FECB52"
          ],
          "font": {
           "color": "#2a3f5f"
          },
          "geo": {
           "bgcolor": "white",
           "lakecolor": "white",
           "landcolor": "#E5ECF6",
           "showlakes": true,
           "showland": true,
           "subunitcolor": "white"
          },
          "hoverlabel": {
           "align": "left"
          },
          "hovermode": "closest",
          "mapbox": {
           "style": "light"
          },
          "paper_bgcolor": "white",
          "plot_bgcolor": "#E5ECF6",
          "polar": {
           "angularaxis": {
            "gridcolor": "white",
            "linecolor": "white",
            "ticks": ""
           },
           "bgcolor": "#E5ECF6",
           "radialaxis": {
            "gridcolor": "white",
            "linecolor": "white",
            "ticks": ""
           }
          },
          "scene": {
           "xaxis": {
            "backgroundcolor": "#E5ECF6",
            "gridcolor": "white",
            "gridwidth": 2,
            "linecolor": "white",
            "showbackground": true,
            "ticks": "",
            "zerolinecolor": "white"
           },
           "yaxis": {
            "backgroundcolor": "#E5ECF6",
            "gridcolor": "white",
            "gridwidth": 2,
            "linecolor": "white",
            "showbackground": true,
            "ticks": "",
            "zerolinecolor": "white"
           },
           "zaxis": {
            "backgroundcolor": "#E5ECF6",
            "gridcolor": "white",
            "gridwidth": 2,
            "linecolor": "white",
            "showbackground": true,
            "ticks": "",
            "zerolinecolor": "white"
           }
          },
          "shapedefaults": {
           "line": {
            "color": "#2a3f5f"
           }
          },
          "ternary": {
           "aaxis": {
            "gridcolor": "white",
            "linecolor": "white",
            "ticks": ""
           },
           "baxis": {
            "gridcolor": "white",
            "linecolor": "white",
            "ticks": ""
           },
           "bgcolor": "#E5ECF6",
           "caxis": {
            "gridcolor": "white",
            "linecolor": "white",
            "ticks": ""
           }
          },
          "title": {
           "x": 0.05
          },
          "xaxis": {
           "automargin": true,
           "gridcolor": "white",
           "linecolor": "white",
           "ticks": "",
           "title": {
            "standoff": 15
           },
           "zerolinecolor": "white",
           "zerolinewidth": 2
          },
          "yaxis": {
           "automargin": true,
           "gridcolor": "white",
           "linecolor": "white",
           "ticks": "",
           "title": {
            "standoff": 15
           },
           "zerolinecolor": "white",
           "zerolinewidth": 2
          }
         }
        },
        "title": {
         "text": "                                                                 📊 Business & Transaction KPIs Dashboard"
        },
        "width": 1200
       }
      }
     },
     "metadata": {},
     "output_type": "display_data"
    }
   ],
   "source": [
    "import plotly.graph_objects as go\n",
    "from plotly.subplots import make_subplots\n",
    "\n",
    "# Create subplot grid (3 rows × 5 cols → 15 slots)\n",
    "fig = make_subplots(rows=3, cols=4,\n",
    "                    specs=[[{\"type\":\"indicator\"}]*4,\n",
    "                           [{\"type\":\"indicator\"}]*4,\n",
    "                           [{\"type\":\"indicator\"}]*4])\n",
    "\n",
    "# Row 1\n",
    "fig.add_trace(go.Indicator(mode=\"number\", value=Number_of_unique_customers,\n",
    "    title={\"text\": \"Unique Customers\"}), row=1, col=1)\n",
    "\n",
    "fig.add_trace(go.Indicator(mode=\"number\", value=Number_of_unique_products,\n",
    "    title={\"text\": \"Unique Products\"}), row=1, col=2)\n",
    "\n",
    "fig.add_trace(go.Indicator(mode=\"number\", value=Number_of_unique_invoices,\n",
    "    title={\"text\": \"Unique Invoices\"}), row=1, col=3)\n",
    "\n",
    "fig.add_trace(go.Indicator(mode=\"number\", value=Number_of_countries,\n",
    "    title={\"text\": \"Countries\"}), row=1, col=4)\n",
    "\n",
    "fig.add_trace(go.Indicator(mode=\"number\", value=Total_Revenue,\n",
    "    title={\"text\": \"Total Revenue\"}, number={\"prefix\":\"$\",\"valueformat\":\",.2f\"}), row=2, col=1)\n",
    "\n",
    "# Row 2\n",
    "fig.add_trace(go.Indicator(mode=\"number\", value=Total_Quantity_Sold,\n",
    "    title={\"text\": \"Total Quantity Sold\"}), row=2, col=2)\n",
    "\n",
    "fig.add_trace(go.Indicator(mode=\"number\", value=Avg_Sales_Amount_per_Transaction,\n",
    "    title={\"text\": \"Avg Sales/Transaction\"}, number={\"prefix\":\"$\",\"valueformat\":\",.2f\"}), row=2, col=3)\n",
    "\n",
    "fig.add_trace(go.Indicator(mode=\"number\", value=Avg_Quantity_Sold_per_Transaction,\n",
    "    title={\"text\": \"Avg Qty/Transaction\"}, number={\"valueformat\":\",.2f\"}), row=2, col=4)\n",
    "\n",
    "fig.add_trace(go.Indicator(mode=\"number\", value=Average_Revenue_per_Customer,\n",
    "    title={\"text\": \"Avg Rev/Customer\"}, number={\"prefix\":\"$\",\"valueformat\":\",.2f\"}), row=3, col=2)\n",
    "\n",
    "fig.add_trace(go.Indicator(mode=\"number\", value=Average_revenue_per_order,\n",
    "    title={\"text\": \"Avg Rev/Order\"}, number={\"prefix\":\"$\",\"valueformat\":\",.2f\"}), row=3, col=3)\n",
    "\n",
    "\n",
    "\n",
    "# Layout\n",
    "fig.update_layout(\n",
    "    height=800, width=1200,\n",
    "    title_text=\"📊 Business & Transaction KPIs Dashboard\",\n",
    "    margin=dict(l=20, r=20, t=60, b=20)\n",
    ")\n",
    "\n",
    "fig.show()\n"
   ]
  },
  {
   "cell_type": "markdown",
   "id": "4ee8a32c",
   "metadata": {},
   "source": [
    "Analysis"
   ]
  },
  {
   "cell_type": "code",
   "execution_count": 34,
   "id": "51ba975f",
   "metadata": {},
   "outputs": [
    {
     "name": "stderr",
     "output_type": "stream",
     "text": [
      "C:\\Users\\حازممدحتعبدالعزيزعبد\\AppData\\Local\\Temp\\ipykernel_7036\\2843541138.py:4: DeprecationWarning:\n",
      "\n",
      "The library used by the *country names* `locationmode` option is changing in an upcoming version. Country names in existing plots may not work in the new version. To ensure consistent behavior, consider setting `locationmode` to *ISO-3*.\n",
      "\n"
     ]
    },
    {
     "data": {
      "application/vnd.plotly.v1+json": {
       "config": {
        "plotlyServerURL": "https://plot.ly"
       },
       "data": [
        {
         "coloraxis": "coloraxis",
         "geo": "geo",
         "hovertemplate": "<b>%{hovertext}</b><br><br>Country=%{location}<br>CustomerCount=%{z}<extra></extra>",
         "hovertext": [
          "United Kingdom",
          "Germany",
          "France",
          "EIRE",
          "Spain",
          "Netherlands",
          "Belgium",
          "Switzerland",
          "Portugal",
          "Australia",
          "Norway",
          "Italy",
          "Channel Islands",
          "Finland",
          "Cyprus",
          "Sweden",
          "Austria",
          "Denmark",
          "Japan",
          "Poland",
          "USA",
          "Israel",
          "Unspecified",
          "Singapore",
          "Iceland",
          "Canada",
          "Greece",
          "Malta",
          "United Arab Emirates",
          "European Community",
          "RSA",
          "Lebanon",
          "Lithuania",
          "Brazil",
          "Czech Republic",
          "Bahrain",
          "Saudi Arabia"
         ],
         "locationmode": "country names",
         "locations": [
          "United Kingdom",
          "Germany",
          "France",
          "EIRE",
          "Spain",
          "Netherlands",
          "Belgium",
          "Switzerland",
          "Portugal",
          "Australia",
          "Norway",
          "Italy",
          "Channel Islands",
          "Finland",
          "Cyprus",
          "Sweden",
          "Austria",
          "Denmark",
          "Japan",
          "Poland",
          "USA",
          "Israel",
          "Unspecified",
          "Singapore",
          "Iceland",
          "Canada",
          "Greece",
          "Malta",
          "United Arab Emirates",
          "European Community",
          "RSA",
          "Lebanon",
          "Lithuania",
          "Brazil",
          "Czech Republic",
          "Bahrain",
          "Saudi Arabia"
         ],
         "name": "",
         "type": "choropleth",
         "z": {
          "bdata": "loUFABclAAArIQAAPR0AAOUJAABDCQAAFQgAAFUHAADIBQAA6wQAAD4EAAAjAwAA9gIAALcCAABuAgAAzgEAAJEBAACFAQAAZgEAAFUBAAAjAQAA+gAAAPQAAADlAAAAtgAAAJcAAACSAAAAfwAAAEQAAAA9AAAAOgAAAC0AAAAjAAAAIAAAAB4AAAARAAAACgAAAA==",
          "dtype": "i4"
         }
        }
       ],
       "layout": {
        "coloraxis": {
         "colorbar": {
          "title": {
           "text": "CustomerCount"
          }
         },
         "colorscale": [
          [
           0,
           "#0d0887"
          ],
          [
           0.1111111111111111,
           "#46039f"
          ],
          [
           0.2222222222222222,
           "#7201a8"
          ],
          [
           0.3333333333333333,
           "#9c179e"
          ],
          [
           0.4444444444444444,
           "#bd3786"
          ],
          [
           0.5555555555555556,
           "#d8576b"
          ],
          [
           0.6666666666666666,
           "#ed7953"
          ],
          [
           0.7777777777777778,
           "#fb9f3a"
          ],
          [
           0.8888888888888888,
           "#fdca26"
          ],
          [
           1,
           "#f0f921"
          ]
         ]
        },
        "geo": {
         "center": {},
         "domain": {
          "x": [
           0,
           1
          ],
          "y": [
           0,
           1
          ]
         }
        },
        "legend": {
         "tracegroupgap": 0
        },
        "template": {
         "data": {
          "bar": [
           {
            "error_x": {
             "color": "#2a3f5f"
            },
            "error_y": {
             "color": "#2a3f5f"
            },
            "marker": {
             "line": {
              "color": "#E5ECF6",
              "width": 0.5
             },
             "pattern": {
              "fillmode": "overlay",
              "size": 10,
              "solidity": 0.2
             }
            },
            "type": "bar"
           }
          ],
          "barpolar": [
           {
            "marker": {
             "line": {
              "color": "#E5ECF6",
              "width": 0.5
             },
             "pattern": {
              "fillmode": "overlay",
              "size": 10,
              "solidity": 0.2
             }
            },
            "type": "barpolar"
           }
          ],
          "carpet": [
           {
            "aaxis": {
             "endlinecolor": "#2a3f5f",
             "gridcolor": "white",
             "linecolor": "white",
             "minorgridcolor": "white",
             "startlinecolor": "#2a3f5f"
            },
            "baxis": {
             "endlinecolor": "#2a3f5f",
             "gridcolor": "white",
             "linecolor": "white",
             "minorgridcolor": "white",
             "startlinecolor": "#2a3f5f"
            },
            "type": "carpet"
           }
          ],
          "choropleth": [
           {
            "colorbar": {
             "outlinewidth": 0,
             "ticks": ""
            },
            "type": "choropleth"
           }
          ],
          "contour": [
           {
            "colorbar": {
             "outlinewidth": 0,
             "ticks": ""
            },
            "colorscale": [
             [
              0,
              "#0d0887"
             ],
             [
              0.1111111111111111,
              "#46039f"
             ],
             [
              0.2222222222222222,
              "#7201a8"
             ],
             [
              0.3333333333333333,
              "#9c179e"
             ],
             [
              0.4444444444444444,
              "#bd3786"
             ],
             [
              0.5555555555555556,
              "#d8576b"
             ],
             [
              0.6666666666666666,
              "#ed7953"
             ],
             [
              0.7777777777777778,
              "#fb9f3a"
             ],
             [
              0.8888888888888888,
              "#fdca26"
             ],
             [
              1,
              "#f0f921"
             ]
            ],
            "type": "contour"
           }
          ],
          "contourcarpet": [
           {
            "colorbar": {
             "outlinewidth": 0,
             "ticks": ""
            },
            "type": "contourcarpet"
           }
          ],
          "heatmap": [
           {
            "colorbar": {
             "outlinewidth": 0,
             "ticks": ""
            },
            "colorscale": [
             [
              0,
              "#0d0887"
             ],
             [
              0.1111111111111111,
              "#46039f"
             ],
             [
              0.2222222222222222,
              "#7201a8"
             ],
             [
              0.3333333333333333,
              "#9c179e"
             ],
             [
              0.4444444444444444,
              "#bd3786"
             ],
             [
              0.5555555555555556,
              "#d8576b"
             ],
             [
              0.6666666666666666,
              "#ed7953"
             ],
             [
              0.7777777777777778,
              "#fb9f3a"
             ],
             [
              0.8888888888888888,
              "#fdca26"
             ],
             [
              1,
              "#f0f921"
             ]
            ],
            "type": "heatmap"
           }
          ],
          "histogram": [
           {
            "marker": {
             "pattern": {
              "fillmode": "overlay",
              "size": 10,
              "solidity": 0.2
             }
            },
            "type": "histogram"
           }
          ],
          "histogram2d": [
           {
            "colorbar": {
             "outlinewidth": 0,
             "ticks": ""
            },
            "colorscale": [
             [
              0,
              "#0d0887"
             ],
             [
              0.1111111111111111,
              "#46039f"
             ],
             [
              0.2222222222222222,
              "#7201a8"
             ],
             [
              0.3333333333333333,
              "#9c179e"
             ],
             [
              0.4444444444444444,
              "#bd3786"
             ],
             [
              0.5555555555555556,
              "#d8576b"
             ],
             [
              0.6666666666666666,
              "#ed7953"
             ],
             [
              0.7777777777777778,
              "#fb9f3a"
             ],
             [
              0.8888888888888888,
              "#fdca26"
             ],
             [
              1,
              "#f0f921"
             ]
            ],
            "type": "histogram2d"
           }
          ],
          "histogram2dcontour": [
           {
            "colorbar": {
             "outlinewidth": 0,
             "ticks": ""
            },
            "colorscale": [
             [
              0,
              "#0d0887"
             ],
             [
              0.1111111111111111,
              "#46039f"
             ],
             [
              0.2222222222222222,
              "#7201a8"
             ],
             [
              0.3333333333333333,
              "#9c179e"
             ],
             [
              0.4444444444444444,
              "#bd3786"
             ],
             [
              0.5555555555555556,
              "#d8576b"
             ],
             [
              0.6666666666666666,
              "#ed7953"
             ],
             [
              0.7777777777777778,
              "#fb9f3a"
             ],
             [
              0.8888888888888888,
              "#fdca26"
             ],
             [
              1,
              "#f0f921"
             ]
            ],
            "type": "histogram2dcontour"
           }
          ],
          "mesh3d": [
           {
            "colorbar": {
             "outlinewidth": 0,
             "ticks": ""
            },
            "type": "mesh3d"
           }
          ],
          "parcoords": [
           {
            "line": {
             "colorbar": {
              "outlinewidth": 0,
              "ticks": ""
             }
            },
            "type": "parcoords"
           }
          ],
          "pie": [
           {
            "automargin": true,
            "type": "pie"
           }
          ],
          "scatter": [
           {
            "fillpattern": {
             "fillmode": "overlay",
             "size": 10,
             "solidity": 0.2
            },
            "type": "scatter"
           }
          ],
          "scatter3d": [
           {
            "line": {
             "colorbar": {
              "outlinewidth": 0,
              "ticks": ""
             }
            },
            "marker": {
             "colorbar": {
              "outlinewidth": 0,
              "ticks": ""
             }
            },
            "type": "scatter3d"
           }
          ],
          "scattercarpet": [
           {
            "marker": {
             "colorbar": {
              "outlinewidth": 0,
              "ticks": ""
             }
            },
            "type": "scattercarpet"
           }
          ],
          "scattergeo": [
           {
            "marker": {
             "colorbar": {
              "outlinewidth": 0,
              "ticks": ""
             }
            },
            "type": "scattergeo"
           }
          ],
          "scattergl": [
           {
            "marker": {
             "colorbar": {
              "outlinewidth": 0,
              "ticks": ""
             }
            },
            "type": "scattergl"
           }
          ],
          "scattermap": [
           {
            "marker": {
             "colorbar": {
              "outlinewidth": 0,
              "ticks": ""
             }
            },
            "type": "scattermap"
           }
          ],
          "scattermapbox": [
           {
            "marker": {
             "colorbar": {
              "outlinewidth": 0,
              "ticks": ""
             }
            },
            "type": "scattermapbox"
           }
          ],
          "scatterpolar": [
           {
            "marker": {
             "colorbar": {
              "outlinewidth": 0,
              "ticks": ""
             }
            },
            "type": "scatterpolar"
           }
          ],
          "scatterpolargl": [
           {
            "marker": {
             "colorbar": {
              "outlinewidth": 0,
              "ticks": ""
             }
            },
            "type": "scatterpolargl"
           }
          ],
          "scatterternary": [
           {
            "marker": {
             "colorbar": {
              "outlinewidth": 0,
              "ticks": ""
             }
            },
            "type": "scatterternary"
           }
          ],
          "surface": [
           {
            "colorbar": {
             "outlinewidth": 0,
             "ticks": ""
            },
            "colorscale": [
             [
              0,
              "#0d0887"
             ],
             [
              0.1111111111111111,
              "#46039f"
             ],
             [
              0.2222222222222222,
              "#7201a8"
             ],
             [
              0.3333333333333333,
              "#9c179e"
             ],
             [
              0.4444444444444444,
              "#bd3786"
             ],
             [
              0.5555555555555556,
              "#d8576b"
             ],
             [
              0.6666666666666666,
              "#ed7953"
             ],
             [
              0.7777777777777778,
              "#fb9f3a"
             ],
             [
              0.8888888888888888,
              "#fdca26"
             ],
             [
              1,
              "#f0f921"
             ]
            ],
            "type": "surface"
           }
          ],
          "table": [
           {
            "cells": {
             "fill": {
              "color": "#EBF0F8"
             },
             "line": {
              "color": "white"
             }
            },
            "header": {
             "fill": {
              "color": "#C8D4E3"
             },
             "line": {
              "color": "white"
             }
            },
            "type": "table"
           }
          ]
         },
         "layout": {
          "annotationdefaults": {
           "arrowcolor": "#2a3f5f",
           "arrowhead": 0,
           "arrowwidth": 1
          },
          "autotypenumbers": "strict",
          "coloraxis": {
           "colorbar": {
            "outlinewidth": 0,
            "ticks": ""
           }
          },
          "colorscale": {
           "diverging": [
            [
             0,
             "#8e0152"
            ],
            [
             0.1,
             "#c51b7d"
            ],
            [
             0.2,
             "#de77ae"
            ],
            [
             0.3,
             "#f1b6da"
            ],
            [
             0.4,
             "#fde0ef"
            ],
            [
             0.5,
             "#f7f7f7"
            ],
            [
             0.6,
             "#e6f5d0"
            ],
            [
             0.7,
             "#b8e186"
            ],
            [
             0.8,
             "#7fbc41"
            ],
            [
             0.9,
             "#4d9221"
            ],
            [
             1,
             "#276419"
            ]
           ],
           "sequential": [
            [
             0,
             "#0d0887"
            ],
            [
             0.1111111111111111,
             "#46039f"
            ],
            [
             0.2222222222222222,
             "#7201a8"
            ],
            [
             0.3333333333333333,
             "#9c179e"
            ],
            [
             0.4444444444444444,
             "#bd3786"
            ],
            [
             0.5555555555555556,
             "#d8576b"
            ],
            [
             0.6666666666666666,
             "#ed7953"
            ],
            [
             0.7777777777777778,
             "#fb9f3a"
            ],
            [
             0.8888888888888888,
             "#fdca26"
            ],
            [
             1,
             "#f0f921"
            ]
           ],
           "sequentialminus": [
            [
             0,
             "#0d0887"
            ],
            [
             0.1111111111111111,
             "#46039f"
            ],
            [
             0.2222222222222222,
             "#7201a8"
            ],
            [
             0.3333333333333333,
             "#9c179e"
            ],
            [
             0.4444444444444444,
             "#bd3786"
            ],
            [
             0.5555555555555556,
             "#d8576b"
            ],
            [
             0.6666666666666666,
             "#ed7953"
            ],
            [
             0.7777777777777778,
             "#fb9f3a"
            ],
            [
             0.8888888888888888,
             "#fdca26"
            ],
            [
             1,
             "#f0f921"
            ]
           ]
          },
          "colorway": [
           "#636efa",
           "#EF553B",
           "#00cc96",
           "#ab63fa",
           "#FFA15A",
           "#19d3f3",
           "#FF6692",
           "#B6E880",
           "#FF97FF",
           "#FECB52"
          ],
          "font": {
           "color": "#2a3f5f"
          },
          "geo": {
           "bgcolor": "white",
           "lakecolor": "white",
           "landcolor": "#E5ECF6",
           "showlakes": true,
           "showland": true,
           "subunitcolor": "white"
          },
          "hoverlabel": {
           "align": "left"
          },
          "hovermode": "closest",
          "mapbox": {
           "style": "light"
          },
          "paper_bgcolor": "white",
          "plot_bgcolor": "#E5ECF6",
          "polar": {
           "angularaxis": {
            "gridcolor": "white",
            "linecolor": "white",
            "ticks": ""
           },
           "bgcolor": "#E5ECF6",
           "radialaxis": {
            "gridcolor": "white",
            "linecolor": "white",
            "ticks": ""
           }
          },
          "scene": {
           "xaxis": {
            "backgroundcolor": "#E5ECF6",
            "gridcolor": "white",
            "gridwidth": 2,
            "linecolor": "white",
            "showbackground": true,
            "ticks": "",
            "zerolinecolor": "white"
           },
           "yaxis": {
            "backgroundcolor": "#E5ECF6",
            "gridcolor": "white",
            "gridwidth": 2,
            "linecolor": "white",
            "showbackground": true,
            "ticks": "",
            "zerolinecolor": "white"
           },
           "zaxis": {
            "backgroundcolor": "#E5ECF6",
            "gridcolor": "white",
            "gridwidth": 2,
            "linecolor": "white",
            "showbackground": true,
            "ticks": "",
            "zerolinecolor": "white"
           }
          },
          "shapedefaults": {
           "line": {
            "color": "#2a3f5f"
           }
          },
          "ternary": {
           "aaxis": {
            "gridcolor": "white",
            "linecolor": "white",
            "ticks": ""
           },
           "baxis": {
            "gridcolor": "white",
            "linecolor": "white",
            "ticks": ""
           },
           "bgcolor": "#E5ECF6",
           "caxis": {
            "gridcolor": "white",
            "linecolor": "white",
            "ticks": ""
           }
          },
          "title": {
           "x": 0.05
          },
          "xaxis": {
           "automargin": true,
           "gridcolor": "white",
           "linecolor": "white",
           "ticks": "",
           "title": {
            "standoff": 15
           },
           "zerolinecolor": "white",
           "zerolinewidth": 2
          },
          "yaxis": {
           "automargin": true,
           "gridcolor": "white",
           "linecolor": "white",
           "ticks": "",
           "title": {
            "standoff": 15
           },
           "zerolinecolor": "white",
           "zerolinewidth": 2
          }
         }
        },
        "title": {
         "text": "Customer Distribution by Country"
        }
       }
      }
     },
     "metadata": {},
     "output_type": "display_data"
    }
   ],
   "source": [
    "# Customer Distribution over Countries\n",
    "country_counts = data['Country'].value_counts().reset_index()\n",
    "country_counts.columns = ['Country', 'CustomerCount']\n",
    "fig = px.choropleth(country_counts, locations='Country', locationmode='country names',\n",
    "                    color='CustomerCount', hover_name='Country',\n",
    "                    color_continuous_scale=px.colors.sequential.Plasma,\n",
    "                    title='Customer Distribution by Country')\n",
    "fig.show()"
   ]
  },
  {
   "cell_type": "code",
   "execution_count": 35,
   "id": "2a5c1ede",
   "metadata": {},
   "outputs": [
    {
     "data": {
      "application/vnd.plotly.v1+json": {
       "config": {
        "plotlyServerURL": "https://plot.ly"
       },
       "data": [
        {
         "hovertemplate": "Country=%{x}<br>Number of Customers=%{text}<extra></extra>",
         "legendgroup": "",
         "marker": {
          "color": "#636efa",
          "pattern": {
           "shape": ""
          }
         },
         "name": "",
         "orientation": "v",
         "showlegend": false,
         "text": {
          "bdata": "AAAAAFgWFkEAAAAAgIvCQAAAAACAlcBAAAAAAAA9vUAAAAAAAMqjQA==",
          "dtype": "f8"
         },
         "textposition": "auto",
         "type": "bar",
         "x": [
          "United Kingdom",
          "Germany",
          "France",
          "EIRE",
          "Spain"
         ],
         "xaxis": "x",
         "y": {
          "bdata": "loUFABclAAArIQAAPR0AAOUJAAA=",
          "dtype": "i4"
         },
         "yaxis": "y"
        }
       ],
       "layout": {
        "barmode": "relative",
        "legend": {
         "tracegroupgap": 0
        },
        "template": {
         "data": {
          "bar": [
           {
            "error_x": {
             "color": "#2a3f5f"
            },
            "error_y": {
             "color": "#2a3f5f"
            },
            "marker": {
             "line": {
              "color": "#E5ECF6",
              "width": 0.5
             },
             "pattern": {
              "fillmode": "overlay",
              "size": 10,
              "solidity": 0.2
             }
            },
            "type": "bar"
           }
          ],
          "barpolar": [
           {
            "marker": {
             "line": {
              "color": "#E5ECF6",
              "width": 0.5
             },
             "pattern": {
              "fillmode": "overlay",
              "size": 10,
              "solidity": 0.2
             }
            },
            "type": "barpolar"
           }
          ],
          "carpet": [
           {
            "aaxis": {
             "endlinecolor": "#2a3f5f",
             "gridcolor": "white",
             "linecolor": "white",
             "minorgridcolor": "white",
             "startlinecolor": "#2a3f5f"
            },
            "baxis": {
             "endlinecolor": "#2a3f5f",
             "gridcolor": "white",
             "linecolor": "white",
             "minorgridcolor": "white",
             "startlinecolor": "#2a3f5f"
            },
            "type": "carpet"
           }
          ],
          "choropleth": [
           {
            "colorbar": {
             "outlinewidth": 0,
             "ticks": ""
            },
            "type": "choropleth"
           }
          ],
          "contour": [
           {
            "colorbar": {
             "outlinewidth": 0,
             "ticks": ""
            },
            "colorscale": [
             [
              0,
              "#0d0887"
             ],
             [
              0.1111111111111111,
              "#46039f"
             ],
             [
              0.2222222222222222,
              "#7201a8"
             ],
             [
              0.3333333333333333,
              "#9c179e"
             ],
             [
              0.4444444444444444,
              "#bd3786"
             ],
             [
              0.5555555555555556,
              "#d8576b"
             ],
             [
              0.6666666666666666,
              "#ed7953"
             ],
             [
              0.7777777777777778,
              "#fb9f3a"
             ],
             [
              0.8888888888888888,
              "#fdca26"
             ],
             [
              1,
              "#f0f921"
             ]
            ],
            "type": "contour"
           }
          ],
          "contourcarpet": [
           {
            "colorbar": {
             "outlinewidth": 0,
             "ticks": ""
            },
            "type": "contourcarpet"
           }
          ],
          "heatmap": [
           {
            "colorbar": {
             "outlinewidth": 0,
             "ticks": ""
            },
            "colorscale": [
             [
              0,
              "#0d0887"
             ],
             [
              0.1111111111111111,
              "#46039f"
             ],
             [
              0.2222222222222222,
              "#7201a8"
             ],
             [
              0.3333333333333333,
              "#9c179e"
             ],
             [
              0.4444444444444444,
              "#bd3786"
             ],
             [
              0.5555555555555556,
              "#d8576b"
             ],
             [
              0.6666666666666666,
              "#ed7953"
             ],
             [
              0.7777777777777778,
              "#fb9f3a"
             ],
             [
              0.8888888888888888,
              "#fdca26"
             ],
             [
              1,
              "#f0f921"
             ]
            ],
            "type": "heatmap"
           }
          ],
          "histogram": [
           {
            "marker": {
             "pattern": {
              "fillmode": "overlay",
              "size": 10,
              "solidity": 0.2
             }
            },
            "type": "histogram"
           }
          ],
          "histogram2d": [
           {
            "colorbar": {
             "outlinewidth": 0,
             "ticks": ""
            },
            "colorscale": [
             [
              0,
              "#0d0887"
             ],
             [
              0.1111111111111111,
              "#46039f"
             ],
             [
              0.2222222222222222,
              "#7201a8"
             ],
             [
              0.3333333333333333,
              "#9c179e"
             ],
             [
              0.4444444444444444,
              "#bd3786"
             ],
             [
              0.5555555555555556,
              "#d8576b"
             ],
             [
              0.6666666666666666,
              "#ed7953"
             ],
             [
              0.7777777777777778,
              "#fb9f3a"
             ],
             [
              0.8888888888888888,
              "#fdca26"
             ],
             [
              1,
              "#f0f921"
             ]
            ],
            "type": "histogram2d"
           }
          ],
          "histogram2dcontour": [
           {
            "colorbar": {
             "outlinewidth": 0,
             "ticks": ""
            },
            "colorscale": [
             [
              0,
              "#0d0887"
             ],
             [
              0.1111111111111111,
              "#46039f"
             ],
             [
              0.2222222222222222,
              "#7201a8"
             ],
             [
              0.3333333333333333,
              "#9c179e"
             ],
             [
              0.4444444444444444,
              "#bd3786"
             ],
             [
              0.5555555555555556,
              "#d8576b"
             ],
             [
              0.6666666666666666,
              "#ed7953"
             ],
             [
              0.7777777777777778,
              "#fb9f3a"
             ],
             [
              0.8888888888888888,
              "#fdca26"
             ],
             [
              1,
              "#f0f921"
             ]
            ],
            "type": "histogram2dcontour"
           }
          ],
          "mesh3d": [
           {
            "colorbar": {
             "outlinewidth": 0,
             "ticks": ""
            },
            "type": "mesh3d"
           }
          ],
          "parcoords": [
           {
            "line": {
             "colorbar": {
              "outlinewidth": 0,
              "ticks": ""
             }
            },
            "type": "parcoords"
           }
          ],
          "pie": [
           {
            "automargin": true,
            "type": "pie"
           }
          ],
          "scatter": [
           {
            "fillpattern": {
             "fillmode": "overlay",
             "size": 10,
             "solidity": 0.2
            },
            "type": "scatter"
           }
          ],
          "scatter3d": [
           {
            "line": {
             "colorbar": {
              "outlinewidth": 0,
              "ticks": ""
             }
            },
            "marker": {
             "colorbar": {
              "outlinewidth": 0,
              "ticks": ""
             }
            },
            "type": "scatter3d"
           }
          ],
          "scattercarpet": [
           {
            "marker": {
             "colorbar": {
              "outlinewidth": 0,
              "ticks": ""
             }
            },
            "type": "scattercarpet"
           }
          ],
          "scattergeo": [
           {
            "marker": {
             "colorbar": {
              "outlinewidth": 0,
              "ticks": ""
             }
            },
            "type": "scattergeo"
           }
          ],
          "scattergl": [
           {
            "marker": {
             "colorbar": {
              "outlinewidth": 0,
              "ticks": ""
             }
            },
            "type": "scattergl"
           }
          ],
          "scattermap": [
           {
            "marker": {
             "colorbar": {
              "outlinewidth": 0,
              "ticks": ""
             }
            },
            "type": "scattermap"
           }
          ],
          "scattermapbox": [
           {
            "marker": {
             "colorbar": {
              "outlinewidth": 0,
              "ticks": ""
             }
            },
            "type": "scattermapbox"
           }
          ],
          "scatterpolar": [
           {
            "marker": {
             "colorbar": {
              "outlinewidth": 0,
              "ticks": ""
             }
            },
            "type": "scatterpolar"
           }
          ],
          "scatterpolargl": [
           {
            "marker": {
             "colorbar": {
              "outlinewidth": 0,
              "ticks": ""
             }
            },
            "type": "scatterpolargl"
           }
          ],
          "scatterternary": [
           {
            "marker": {
             "colorbar": {
              "outlinewidth": 0,
              "ticks": ""
             }
            },
            "type": "scatterternary"
           }
          ],
          "surface": [
           {
            "colorbar": {
             "outlinewidth": 0,
             "ticks": ""
            },
            "colorscale": [
             [
              0,
              "#0d0887"
             ],
             [
              0.1111111111111111,
              "#46039f"
             ],
             [
              0.2222222222222222,
              "#7201a8"
             ],
             [
              0.3333333333333333,
              "#9c179e"
             ],
             [
              0.4444444444444444,
              "#bd3786"
             ],
             [
              0.5555555555555556,
              "#d8576b"
             ],
             [
              0.6666666666666666,
              "#ed7953"
             ],
             [
              0.7777777777777778,
              "#fb9f3a"
             ],
             [
              0.8888888888888888,
              "#fdca26"
             ],
             [
              1,
              "#f0f921"
             ]
            ],
            "type": "surface"
           }
          ],
          "table": [
           {
            "cells": {
             "fill": {
              "color": "#EBF0F8"
             },
             "line": {
              "color": "white"
             }
            },
            "header": {
             "fill": {
              "color": "#C8D4E3"
             },
             "line": {
              "color": "white"
             }
            },
            "type": "table"
           }
          ]
         },
         "layout": {
          "annotationdefaults": {
           "arrowcolor": "#2a3f5f",
           "arrowhead": 0,
           "arrowwidth": 1
          },
          "autotypenumbers": "strict",
          "coloraxis": {
           "colorbar": {
            "outlinewidth": 0,
            "ticks": ""
           }
          },
          "colorscale": {
           "diverging": [
            [
             0,
             "#8e0152"
            ],
            [
             0.1,
             "#c51b7d"
            ],
            [
             0.2,
             "#de77ae"
            ],
            [
             0.3,
             "#f1b6da"
            ],
            [
             0.4,
             "#fde0ef"
            ],
            [
             0.5,
             "#f7f7f7"
            ],
            [
             0.6,
             "#e6f5d0"
            ],
            [
             0.7,
             "#b8e186"
            ],
            [
             0.8,
             "#7fbc41"
            ],
            [
             0.9,
             "#4d9221"
            ],
            [
             1,
             "#276419"
            ]
           ],
           "sequential": [
            [
             0,
             "#0d0887"
            ],
            [
             0.1111111111111111,
             "#46039f"
            ],
            [
             0.2222222222222222,
             "#7201a8"
            ],
            [
             0.3333333333333333,
             "#9c179e"
            ],
            [
             0.4444444444444444,
             "#bd3786"
            ],
            [
             0.5555555555555556,
             "#d8576b"
            ],
            [
             0.6666666666666666,
             "#ed7953"
            ],
            [
             0.7777777777777778,
             "#fb9f3a"
            ],
            [
             0.8888888888888888,
             "#fdca26"
            ],
            [
             1,
             "#f0f921"
            ]
           ],
           "sequentialminus": [
            [
             0,
             "#0d0887"
            ],
            [
             0.1111111111111111,
             "#46039f"
            ],
            [
             0.2222222222222222,
             "#7201a8"
            ],
            [
             0.3333333333333333,
             "#9c179e"
            ],
            [
             0.4444444444444444,
             "#bd3786"
            ],
            [
             0.5555555555555556,
             "#d8576b"
            ],
            [
             0.6666666666666666,
             "#ed7953"
            ],
            [
             0.7777777777777778,
             "#fb9f3a"
            ],
            [
             0.8888888888888888,
             "#fdca26"
            ],
            [
             1,
             "#f0f921"
            ]
           ]
          },
          "colorway": [
           "#636efa",
           "#EF553B",
           "#00cc96",
           "#ab63fa",
           "#FFA15A",
           "#19d3f3",
           "#FF6692",
           "#B6E880",
           "#FF97FF",
           "#FECB52"
          ],
          "font": {
           "color": "#2a3f5f"
          },
          "geo": {
           "bgcolor": "white",
           "lakecolor": "white",
           "landcolor": "#E5ECF6",
           "showlakes": true,
           "showland": true,
           "subunitcolor": "white"
          },
          "hoverlabel": {
           "align": "left"
          },
          "hovermode": "closest",
          "mapbox": {
           "style": "light"
          },
          "paper_bgcolor": "white",
          "plot_bgcolor": "#E5ECF6",
          "polar": {
           "angularaxis": {
            "gridcolor": "white",
            "linecolor": "white",
            "ticks": ""
           },
           "bgcolor": "#E5ECF6",
           "radialaxis": {
            "gridcolor": "white",
            "linecolor": "white",
            "ticks": ""
           }
          },
          "scene": {
           "xaxis": {
            "backgroundcolor": "#E5ECF6",
            "gridcolor": "white",
            "gridwidth": 2,
            "linecolor": "white",
            "showbackground": true,
            "ticks": "",
            "zerolinecolor": "white"
           },
           "yaxis": {
            "backgroundcolor": "#E5ECF6",
            "gridcolor": "white",
            "gridwidth": 2,
            "linecolor": "white",
            "showbackground": true,
            "ticks": "",
            "zerolinecolor": "white"
           },
           "zaxis": {
            "backgroundcolor": "#E5ECF6",
            "gridcolor": "white",
            "gridwidth": 2,
            "linecolor": "white",
            "showbackground": true,
            "ticks": "",
            "zerolinecolor": "white"
           }
          },
          "shapedefaults": {
           "line": {
            "color": "#2a3f5f"
           }
          },
          "ternary": {
           "aaxis": {
            "gridcolor": "white",
            "linecolor": "white",
            "ticks": ""
           },
           "baxis": {
            "gridcolor": "white",
            "linecolor": "white",
            "ticks": ""
           },
           "bgcolor": "#E5ECF6",
           "caxis": {
            "gridcolor": "white",
            "linecolor": "white",
            "ticks": ""
           }
          },
          "title": {
           "x": 0.05
          },
          "xaxis": {
           "automargin": true,
           "gridcolor": "white",
           "linecolor": "white",
           "ticks": "",
           "title": {
            "standoff": 15
           },
           "zerolinecolor": "white",
           "zerolinewidth": 2
          },
          "yaxis": {
           "automargin": true,
           "gridcolor": "white",
           "linecolor": "white",
           "ticks": "",
           "title": {
            "standoff": 15
           },
           "zerolinecolor": "white",
           "zerolinewidth": 2
          }
         }
        },
        "title": {
         "text": "Top 5 Countries by Customer Count"
        },
        "xaxis": {
         "anchor": "y",
         "domain": [
          0,
          1
         ],
         "title": {
          "text": "Country"
         }
        },
        "yaxis": {
         "anchor": "x",
         "domain": [
          0,
          1
         ],
         "title": {
          "text": "Number of Customers"
         }
        }
       }
      }
     },
     "metadata": {},
     "output_type": "display_data"
    }
   ],
   "source": [
    "# Top 5 Countries by Customer Count\n",
    "top_countries = country_counts.head(5)\n",
    "fig = px.bar(top_countries, x='Country', y='CustomerCount',\n",
    "             title='Top 5 Countries by Customer Count',\n",
    "             labels={'CustomerCount': 'Number of Customers', 'Country': 'Country'},\n",
    "             text='CustomerCount')\n",
    "fig.show()"
   ]
  },
  {
   "cell_type": "code",
   "execution_count": null,
   "id": "51762e82",
   "metadata": {},
   "outputs": [
    {
     "data": {
      "application/vnd.plotly.v1+json": {
       "config": {
        "plotlyServerURL": "https://plot.ly"
       },
       "data": [
        {
         "hovertemplate": "Country=%{x}<br>Total Revenue=%{text}<extra></extra>",
         "legendgroup": "",
         "marker": {
          "color": "#636efa",
          "pattern": {
           "shape": ""
          }
         },
         "name": "",
         "orientation": "v",
         "showlegend": false,
         "text": {
          "bdata": "x0s3WUDRWUGPwvUo1l8RQSlcj8JpjQ5B",
          "dtype": "f8"
         },
         "textposition": "auto",
         "type": "bar",
         "x": [
          "United Kingdom",
          "Netherlands",
          "EIRE"
         ],
         "xaxis": "x",
         "y": {
          "bdata": "x0s3WUDRWUGPwvUo1l8RQSlcj8JpjQ5B",
          "dtype": "f8"
         },
         "yaxis": "y"
        }
       ],
       "layout": {
        "barmode": "relative",
        "legend": {
         "tracegroupgap": 0
        },
        "template": {
         "data": {
          "bar": [
           {
            "error_x": {
             "color": "#2a3f5f"
            },
            "error_y": {
             "color": "#2a3f5f"
            },
            "marker": {
             "line": {
              "color": "#E5ECF6",
              "width": 0.5
             },
             "pattern": {
              "fillmode": "overlay",
              "size": 10,
              "solidity": 0.2
             }
            },
            "type": "bar"
           }
          ],
          "barpolar": [
           {
            "marker": {
             "line": {
              "color": "#E5ECF6",
              "width": 0.5
             },
             "pattern": {
              "fillmode": "overlay",
              "size": 10,
              "solidity": 0.2
             }
            },
            "type": "barpolar"
           }
          ],
          "carpet": [
           {
            "aaxis": {
             "endlinecolor": "#2a3f5f",
             "gridcolor": "white",
             "linecolor": "white",
             "minorgridcolor": "white",
             "startlinecolor": "#2a3f5f"
            },
            "baxis": {
             "endlinecolor": "#2a3f5f",
             "gridcolor": "white",
             "linecolor": "white",
             "minorgridcolor": "white",
             "startlinecolor": "#2a3f5f"
            },
            "type": "carpet"
           }
          ],
          "choropleth": [
           {
            "colorbar": {
             "outlinewidth": 0,
             "ticks": ""
            },
            "type": "choropleth"
           }
          ],
          "contour": [
           {
            "colorbar": {
             "outlinewidth": 0,
             "ticks": ""
            },
            "colorscale": [
             [
              0,
              "#0d0887"
             ],
             [
              0.1111111111111111,
              "#46039f"
             ],
             [
              0.2222222222222222,
              "#7201a8"
             ],
             [
              0.3333333333333333,
              "#9c179e"
             ],
             [
              0.4444444444444444,
              "#bd3786"
             ],
             [
              0.5555555555555556,
              "#d8576b"
             ],
             [
              0.6666666666666666,
              "#ed7953"
             ],
             [
              0.7777777777777778,
              "#fb9f3a"
             ],
             [
              0.8888888888888888,
              "#fdca26"
             ],
             [
              1,
              "#f0f921"
             ]
            ],
            "type": "contour"
           }
          ],
          "contourcarpet": [
           {
            "colorbar": {
             "outlinewidth": 0,
             "ticks": ""
            },
            "type": "contourcarpet"
           }
          ],
          "heatmap": [
           {
            "colorbar": {
             "outlinewidth": 0,
             "ticks": ""
            },
            "colorscale": [
             [
              0,
              "#0d0887"
             ],
             [
              0.1111111111111111,
              "#46039f"
             ],
             [
              0.2222222222222222,
              "#7201a8"
             ],
             [
              0.3333333333333333,
              "#9c179e"
             ],
             [
              0.4444444444444444,
              "#bd3786"
             ],
             [
              0.5555555555555556,
              "#d8576b"
             ],
             [
              0.6666666666666666,
              "#ed7953"
             ],
             [
              0.7777777777777778,
              "#fb9f3a"
             ],
             [
              0.8888888888888888,
              "#fdca26"
             ],
             [
              1,
              "#f0f921"
             ]
            ],
            "type": "heatmap"
           }
          ],
          "histogram": [
           {
            "marker": {
             "pattern": {
              "fillmode": "overlay",
              "size": 10,
              "solidity": 0.2
             }
            },
            "type": "histogram"
           }
          ],
          "histogram2d": [
           {
            "colorbar": {
             "outlinewidth": 0,
             "ticks": ""
            },
            "colorscale": [
             [
              0,
              "#0d0887"
             ],
             [
              0.1111111111111111,
              "#46039f"
             ],
             [
              0.2222222222222222,
              "#7201a8"
             ],
             [
              0.3333333333333333,
              "#9c179e"
             ],
             [
              0.4444444444444444,
              "#bd3786"
             ],
             [
              0.5555555555555556,
              "#d8576b"
             ],
             [
              0.6666666666666666,
              "#ed7953"
             ],
             [
              0.7777777777777778,
              "#fb9f3a"
             ],
             [
              0.8888888888888888,
              "#fdca26"
             ],
             [
              1,
              "#f0f921"
             ]
            ],
            "type": "histogram2d"
           }
          ],
          "histogram2dcontour": [
           {
            "colorbar": {
             "outlinewidth": 0,
             "ticks": ""
            },
            "colorscale": [
             [
              0,
              "#0d0887"
             ],
             [
              0.1111111111111111,
              "#46039f"
             ],
             [
              0.2222222222222222,
              "#7201a8"
             ],
             [
              0.3333333333333333,
              "#9c179e"
             ],
             [
              0.4444444444444444,
              "#bd3786"
             ],
             [
              0.5555555555555556,
              "#d8576b"
             ],
             [
              0.6666666666666666,
              "#ed7953"
             ],
             [
              0.7777777777777778,
              "#fb9f3a"
             ],
             [
              0.8888888888888888,
              "#fdca26"
             ],
             [
              1,
              "#f0f921"
             ]
            ],
            "type": "histogram2dcontour"
           }
          ],
          "mesh3d": [
           {
            "colorbar": {
             "outlinewidth": 0,
             "ticks": ""
            },
            "type": "mesh3d"
           }
          ],
          "parcoords": [
           {
            "line": {
             "colorbar": {
              "outlinewidth": 0,
              "ticks": ""
             }
            },
            "type": "parcoords"
           }
          ],
          "pie": [
           {
            "automargin": true,
            "type": "pie"
           }
          ],
          "scatter": [
           {
            "fillpattern": {
             "fillmode": "overlay",
             "size": 10,
             "solidity": 0.2
            },
            "type": "scatter"
           }
          ],
          "scatter3d": [
           {
            "line": {
             "colorbar": {
              "outlinewidth": 0,
              "ticks": ""
             }
            },
            "marker": {
             "colorbar": {
              "outlinewidth": 0,
              "ticks": ""
             }
            },
            "type": "scatter3d"
           }
          ],
          "scattercarpet": [
           {
            "marker": {
             "colorbar": {
              "outlinewidth": 0,
              "ticks": ""
             }
            },
            "type": "scattercarpet"
           }
          ],
          "scattergeo": [
           {
            "marker": {
             "colorbar": {
              "outlinewidth": 0,
              "ticks": ""
             }
            },
            "type": "scattergeo"
           }
          ],
          "scattergl": [
           {
            "marker": {
             "colorbar": {
              "outlinewidth": 0,
              "ticks": ""
             }
            },
            "type": "scattergl"
           }
          ],
          "scattermap": [
           {
            "marker": {
             "colorbar": {
              "outlinewidth": 0,
              "ticks": ""
             }
            },
            "type": "scattermap"
           }
          ],
          "scattermapbox": [
           {
            "marker": {
             "colorbar": {
              "outlinewidth": 0,
              "ticks": ""
             }
            },
            "type": "scattermapbox"
           }
          ],
          "scatterpolar": [
           {
            "marker": {
             "colorbar": {
              "outlinewidth": 0,
              "ticks": ""
             }
            },
            "type": "scatterpolar"
           }
          ],
          "scatterpolargl": [
           {
            "marker": {
             "colorbar": {
              "outlinewidth": 0,
              "ticks": ""
             }
            },
            "type": "scatterpolargl"
           }
          ],
          "scatterternary": [
           {
            "marker": {
             "colorbar": {
              "outlinewidth": 0,
              "ticks": ""
             }
            },
            "type": "scatterternary"
           }
          ],
          "surface": [
           {
            "colorbar": {
             "outlinewidth": 0,
             "ticks": ""
            },
            "colorscale": [
             [
              0,
              "#0d0887"
             ],
             [
              0.1111111111111111,
              "#46039f"
             ],
             [
              0.2222222222222222,
              "#7201a8"
             ],
             [
              0.3333333333333333,
              "#9c179e"
             ],
             [
              0.4444444444444444,
              "#bd3786"
             ],
             [
              0.5555555555555556,
              "#d8576b"
             ],
             [
              0.6666666666666666,
              "#ed7953"
             ],
             [
              0.7777777777777778,
              "#fb9f3a"
             ],
             [
              0.8888888888888888,
              "#fdca26"
             ],
             [
              1,
              "#f0f921"
             ]
            ],
            "type": "surface"
           }
          ],
          "table": [
           {
            "cells": {
             "fill": {
              "color": "#EBF0F8"
             },
             "line": {
              "color": "white"
             }
            },
            "header": {
             "fill": {
              "color": "#C8D4E3"
             },
             "line": {
              "color": "white"
             }
            },
            "type": "table"
           }
          ]
         },
         "layout": {
          "annotationdefaults": {
           "arrowcolor": "#2a3f5f",
           "arrowhead": 0,
           "arrowwidth": 1
          },
          "autotypenumbers": "strict",
          "coloraxis": {
           "colorbar": {
            "outlinewidth": 0,
            "ticks": ""
           }
          },
          "colorscale": {
           "diverging": [
            [
             0,
             "#8e0152"
            ],
            [
             0.1,
             "#c51b7d"
            ],
            [
             0.2,
             "#de77ae"
            ],
            [
             0.3,
             "#f1b6da"
            ],
            [
             0.4,
             "#fde0ef"
            ],
            [
             0.5,
             "#f7f7f7"
            ],
            [
             0.6,
             "#e6f5d0"
            ],
            [
             0.7,
             "#b8e186"
            ],
            [
             0.8,
             "#7fbc41"
            ],
            [
             0.9,
             "#4d9221"
            ],
            [
             1,
             "#276419"
            ]
           ],
           "sequential": [
            [
             0,
             "#0d0887"
            ],
            [
             0.1111111111111111,
             "#46039f"
            ],
            [
             0.2222222222222222,
             "#7201a8"
            ],
            [
             0.3333333333333333,
             "#9c179e"
            ],
            [
             0.4444444444444444,
             "#bd3786"
            ],
            [
             0.5555555555555556,
             "#d8576b"
            ],
            [
             0.6666666666666666,
             "#ed7953"
            ],
            [
             0.7777777777777778,
             "#fb9f3a"
            ],
            [
             0.8888888888888888,
             "#fdca26"
            ],
            [
             1,
             "#f0f921"
            ]
           ],
           "sequentialminus": [
            [
             0,
             "#0d0887"
            ],
            [
             0.1111111111111111,
             "#46039f"
            ],
            [
             0.2222222222222222,
             "#7201a8"
            ],
            [
             0.3333333333333333,
             "#9c179e"
            ],
            [
             0.4444444444444444,
             "#bd3786"
            ],
            [
             0.5555555555555556,
             "#d8576b"
            ],
            [
             0.6666666666666666,
             "#ed7953"
            ],
            [
             0.7777777777777778,
             "#fb9f3a"
            ],
            [
             0.8888888888888888,
             "#fdca26"
            ],
            [
             1,
             "#f0f921"
            ]
           ]
          },
          "colorway": [
           "#636efa",
           "#EF553B",
           "#00cc96",
           "#ab63fa",
           "#FFA15A",
           "#19d3f3",
           "#FF6692",
           "#B6E880",
           "#FF97FF",
           "#FECB52"
          ],
          "font": {
           "color": "#2a3f5f"
          },
          "geo": {
           "bgcolor": "white",
           "lakecolor": "white",
           "landcolor": "#E5ECF6",
           "showlakes": true,
           "showland": true,
           "subunitcolor": "white"
          },
          "hoverlabel": {
           "align": "left"
          },
          "hovermode": "closest",
          "mapbox": {
           "style": "light"
          },
          "paper_bgcolor": "white",
          "plot_bgcolor": "#E5ECF6",
          "polar": {
           "angularaxis": {
            "gridcolor": "white",
            "linecolor": "white",
            "ticks": ""
           },
           "bgcolor": "#E5ECF6",
           "radialaxis": {
            "gridcolor": "white",
            "linecolor": "white",
            "ticks": ""
           }
          },
          "scene": {
           "xaxis": {
            "backgroundcolor": "#E5ECF6",
            "gridcolor": "white",
            "gridwidth": 2,
            "linecolor": "white",
            "showbackground": true,
            "ticks": "",
            "zerolinecolor": "white"
           },
           "yaxis": {
            "backgroundcolor": "#E5ECF6",
            "gridcolor": "white",
            "gridwidth": 2,
            "linecolor": "white",
            "showbackground": true,
            "ticks": "",
            "zerolinecolor": "white"
           },
           "zaxis": {
            "backgroundcolor": "#E5ECF6",
            "gridcolor": "white",
            "gridwidth": 2,
            "linecolor": "white",
            "showbackground": true,
            "ticks": "",
            "zerolinecolor": "white"
           }
          },
          "shapedefaults": {
           "line": {
            "color": "#2a3f5f"
           }
          },
          "ternary": {
           "aaxis": {
            "gridcolor": "white",
            "linecolor": "white",
            "ticks": ""
           },
           "baxis": {
            "gridcolor": "white",
            "linecolor": "white",
            "ticks": ""
           },
           "bgcolor": "#E5ECF6",
           "caxis": {
            "gridcolor": "white",
            "linecolor": "white",
            "ticks": ""
           }
          },
          "title": {
           "x": 0.05
          },
          "xaxis": {
           "automargin": true,
           "gridcolor": "white",
           "linecolor": "white",
           "ticks": "",
           "title": {
            "standoff": 15
           },
           "zerolinecolor": "white",
           "zerolinewidth": 2
          },
          "yaxis": {
           "automargin": true,
           "gridcolor": "white",
           "linecolor": "white",
           "ticks": "",
           "title": {
            "standoff": 15
           },
           "zerolinecolor": "white",
           "zerolinewidth": 2
          }
         }
        },
        "title": {
         "text": "Top 3 Countries by Revenue"
        },
        "xaxis": {
         "anchor": "y",
         "domain": [
          0,
          1
         ],
         "title": {
          "text": "Country"
         }
        },
        "yaxis": {
         "anchor": "x",
         "domain": [
          0,
          1
         ],
         "title": {
          "text": "Total Revenue"
         }
        }
       }
      }
     },
     "metadata": {},
     "output_type": "display_data"
    }
   ],
   "source": [
    "# Top 3 Countries by Revenue\n",
    "country_revenue = data.groupby('Country').agg({'TotalAmount': 'sum', 'InvoiceNo': 'nunique'}).reset_index()\n",
    "country_revenue.columns = ['Country', 'TotalRevenue', 'OrderCount']\n",
    "fig = px.bar(country_revenue.sort_values(by='TotalRevenue', ascending=False).head(3), \n",
    "             x='Country', y='TotalRevenue',\n",
    "             title='Top 3 Countries by Revenue',\n",
    "             labels={'TotalRevenue': 'Total Revenue', 'Country': 'Country'},\n",
    "             text='TotalRevenue')\n",
    "fig.show()"
   ]
  },
  {
   "cell_type": "code",
   "execution_count": 38,
   "id": "17cf87ea",
   "metadata": {},
   "outputs": [
    {
     "data": {
      "application/vnd.plotly.v1+json": {
       "config": {
        "plotlyServerURL": "https://plot.ly"
       },
       "data": [
        {
         "hovertemplate": "Country=%{x}<br>Number of Orders=%{text}<extra></extra>",
         "legendgroup": "",
         "marker": {
          "color": "#636efa",
          "pattern": {
           "shape": ""
          }
         },
         "name": "",
         "orientation": "v",
         "showlegend": false,
         "text": {
          "bdata": "AAAAAFgWFkEAAAAAgIvCQAAAAACAlcBA",
          "dtype": "f8"
         },
         "textposition": "auto",
         "type": "bar",
         "x": [
          "United Kingdom",
          "Germany",
          "France"
         ],
         "xaxis": "x",
         "y": {
          "bdata": "loUFABclAAArIQAA",
          "dtype": "i4"
         },
         "yaxis": "y"
        }
       ],
       "layout": {
        "barmode": "relative",
        "legend": {
         "tracegroupgap": 0
        },
        "template": {
         "data": {
          "bar": [
           {
            "error_x": {
             "color": "#2a3f5f"
            },
            "error_y": {
             "color": "#2a3f5f"
            },
            "marker": {
             "line": {
              "color": "#E5ECF6",
              "width": 0.5
             },
             "pattern": {
              "fillmode": "overlay",
              "size": 10,
              "solidity": 0.2
             }
            },
            "type": "bar"
           }
          ],
          "barpolar": [
           {
            "marker": {
             "line": {
              "color": "#E5ECF6",
              "width": 0.5
             },
             "pattern": {
              "fillmode": "overlay",
              "size": 10,
              "solidity": 0.2
             }
            },
            "type": "barpolar"
           }
          ],
          "carpet": [
           {
            "aaxis": {
             "endlinecolor": "#2a3f5f",
             "gridcolor": "white",
             "linecolor": "white",
             "minorgridcolor": "white",
             "startlinecolor": "#2a3f5f"
            },
            "baxis": {
             "endlinecolor": "#2a3f5f",
             "gridcolor": "white",
             "linecolor": "white",
             "minorgridcolor": "white",
             "startlinecolor": "#2a3f5f"
            },
            "type": "carpet"
           }
          ],
          "choropleth": [
           {
            "colorbar": {
             "outlinewidth": 0,
             "ticks": ""
            },
            "type": "choropleth"
           }
          ],
          "contour": [
           {
            "colorbar": {
             "outlinewidth": 0,
             "ticks": ""
            },
            "colorscale": [
             [
              0,
              "#0d0887"
             ],
             [
              0.1111111111111111,
              "#46039f"
             ],
             [
              0.2222222222222222,
              "#7201a8"
             ],
             [
              0.3333333333333333,
              "#9c179e"
             ],
             [
              0.4444444444444444,
              "#bd3786"
             ],
             [
              0.5555555555555556,
              "#d8576b"
             ],
             [
              0.6666666666666666,
              "#ed7953"
             ],
             [
              0.7777777777777778,
              "#fb9f3a"
             ],
             [
              0.8888888888888888,
              "#fdca26"
             ],
             [
              1,
              "#f0f921"
             ]
            ],
            "type": "contour"
           }
          ],
          "contourcarpet": [
           {
            "colorbar": {
             "outlinewidth": 0,
             "ticks": ""
            },
            "type": "contourcarpet"
           }
          ],
          "heatmap": [
           {
            "colorbar": {
             "outlinewidth": 0,
             "ticks": ""
            },
            "colorscale": [
             [
              0,
              "#0d0887"
             ],
             [
              0.1111111111111111,
              "#46039f"
             ],
             [
              0.2222222222222222,
              "#7201a8"
             ],
             [
              0.3333333333333333,
              "#9c179e"
             ],
             [
              0.4444444444444444,
              "#bd3786"
             ],
             [
              0.5555555555555556,
              "#d8576b"
             ],
             [
              0.6666666666666666,
              "#ed7953"
             ],
             [
              0.7777777777777778,
              "#fb9f3a"
             ],
             [
              0.8888888888888888,
              "#fdca26"
             ],
             [
              1,
              "#f0f921"
             ]
            ],
            "type": "heatmap"
           }
          ],
          "histogram": [
           {
            "marker": {
             "pattern": {
              "fillmode": "overlay",
              "size": 10,
              "solidity": 0.2
             }
            },
            "type": "histogram"
           }
          ],
          "histogram2d": [
           {
            "colorbar": {
             "outlinewidth": 0,
             "ticks": ""
            },
            "colorscale": [
             [
              0,
              "#0d0887"
             ],
             [
              0.1111111111111111,
              "#46039f"
             ],
             [
              0.2222222222222222,
              "#7201a8"
             ],
             [
              0.3333333333333333,
              "#9c179e"
             ],
             [
              0.4444444444444444,
              "#bd3786"
             ],
             [
              0.5555555555555556,
              "#d8576b"
             ],
             [
              0.6666666666666666,
              "#ed7953"
             ],
             [
              0.7777777777777778,
              "#fb9f3a"
             ],
             [
              0.8888888888888888,
              "#fdca26"
             ],
             [
              1,
              "#f0f921"
             ]
            ],
            "type": "histogram2d"
           }
          ],
          "histogram2dcontour": [
           {
            "colorbar": {
             "outlinewidth": 0,
             "ticks": ""
            },
            "colorscale": [
             [
              0,
              "#0d0887"
             ],
             [
              0.1111111111111111,
              "#46039f"
             ],
             [
              0.2222222222222222,
              "#7201a8"
             ],
             [
              0.3333333333333333,
              "#9c179e"
             ],
             [
              0.4444444444444444,
              "#bd3786"
             ],
             [
              0.5555555555555556,
              "#d8576b"
             ],
             [
              0.6666666666666666,
              "#ed7953"
             ],
             [
              0.7777777777777778,
              "#fb9f3a"
             ],
             [
              0.8888888888888888,
              "#fdca26"
             ],
             [
              1,
              "#f0f921"
             ]
            ],
            "type": "histogram2dcontour"
           }
          ],
          "mesh3d": [
           {
            "colorbar": {
             "outlinewidth": 0,
             "ticks": ""
            },
            "type": "mesh3d"
           }
          ],
          "parcoords": [
           {
            "line": {
             "colorbar": {
              "outlinewidth": 0,
              "ticks": ""
             }
            },
            "type": "parcoords"
           }
          ],
          "pie": [
           {
            "automargin": true,
            "type": "pie"
           }
          ],
          "scatter": [
           {
            "fillpattern": {
             "fillmode": "overlay",
             "size": 10,
             "solidity": 0.2
            },
            "type": "scatter"
           }
          ],
          "scatter3d": [
           {
            "line": {
             "colorbar": {
              "outlinewidth": 0,
              "ticks": ""
             }
            },
            "marker": {
             "colorbar": {
              "outlinewidth": 0,
              "ticks": ""
             }
            },
            "type": "scatter3d"
           }
          ],
          "scattercarpet": [
           {
            "marker": {
             "colorbar": {
              "outlinewidth": 0,
              "ticks": ""
             }
            },
            "type": "scattercarpet"
           }
          ],
          "scattergeo": [
           {
            "marker": {
             "colorbar": {
              "outlinewidth": 0,
              "ticks": ""
             }
            },
            "type": "scattergeo"
           }
          ],
          "scattergl": [
           {
            "marker": {
             "colorbar": {
              "outlinewidth": 0,
              "ticks": ""
             }
            },
            "type": "scattergl"
           }
          ],
          "scattermap": [
           {
            "marker": {
             "colorbar": {
              "outlinewidth": 0,
              "ticks": ""
             }
            },
            "type": "scattermap"
           }
          ],
          "scattermapbox": [
           {
            "marker": {
             "colorbar": {
              "outlinewidth": 0,
              "ticks": ""
             }
            },
            "type": "scattermapbox"
           }
          ],
          "scatterpolar": [
           {
            "marker": {
             "colorbar": {
              "outlinewidth": 0,
              "ticks": ""
             }
            },
            "type": "scatterpolar"
           }
          ],
          "scatterpolargl": [
           {
            "marker": {
             "colorbar": {
              "outlinewidth": 0,
              "ticks": ""
             }
            },
            "type": "scatterpolargl"
           }
          ],
          "scatterternary": [
           {
            "marker": {
             "colorbar": {
              "outlinewidth": 0,
              "ticks": ""
             }
            },
            "type": "scatterternary"
           }
          ],
          "surface": [
           {
            "colorbar": {
             "outlinewidth": 0,
             "ticks": ""
            },
            "colorscale": [
             [
              0,
              "#0d0887"
             ],
             [
              0.1111111111111111,
              "#46039f"
             ],
             [
              0.2222222222222222,
              "#7201a8"
             ],
             [
              0.3333333333333333,
              "#9c179e"
             ],
             [
              0.4444444444444444,
              "#bd3786"
             ],
             [
              0.5555555555555556,
              "#d8576b"
             ],
             [
              0.6666666666666666,
              "#ed7953"
             ],
             [
              0.7777777777777778,
              "#fb9f3a"
             ],
             [
              0.8888888888888888,
              "#fdca26"
             ],
             [
              1,
              "#f0f921"
             ]
            ],
            "type": "surface"
           }
          ],
          "table": [
           {
            "cells": {
             "fill": {
              "color": "#EBF0F8"
             },
             "line": {
              "color": "white"
             }
            },
            "header": {
             "fill": {
              "color": "#C8D4E3"
             },
             "line": {
              "color": "white"
             }
            },
            "type": "table"
           }
          ]
         },
         "layout": {
          "annotationdefaults": {
           "arrowcolor": "#2a3f5f",
           "arrowhead": 0,
           "arrowwidth": 1
          },
          "autotypenumbers": "strict",
          "coloraxis": {
           "colorbar": {
            "outlinewidth": 0,
            "ticks": ""
           }
          },
          "colorscale": {
           "diverging": [
            [
             0,
             "#8e0152"
            ],
            [
             0.1,
             "#c51b7d"
            ],
            [
             0.2,
             "#de77ae"
            ],
            [
             0.3,
             "#f1b6da"
            ],
            [
             0.4,
             "#fde0ef"
            ],
            [
             0.5,
             "#f7f7f7"
            ],
            [
             0.6,
             "#e6f5d0"
            ],
            [
             0.7,
             "#b8e186"
            ],
            [
             0.8,
             "#7fbc41"
            ],
            [
             0.9,
             "#4d9221"
            ],
            [
             1,
             "#276419"
            ]
           ],
           "sequential": [
            [
             0,
             "#0d0887"
            ],
            [
             0.1111111111111111,
             "#46039f"
            ],
            [
             0.2222222222222222,
             "#7201a8"
            ],
            [
             0.3333333333333333,
             "#9c179e"
            ],
            [
             0.4444444444444444,
             "#bd3786"
            ],
            [
             0.5555555555555556,
             "#d8576b"
            ],
            [
             0.6666666666666666,
             "#ed7953"
            ],
            [
             0.7777777777777778,
             "#fb9f3a"
            ],
            [
             0.8888888888888888,
             "#fdca26"
            ],
            [
             1,
             "#f0f921"
            ]
           ],
           "sequentialminus": [
            [
             0,
             "#0d0887"
            ],
            [
             0.1111111111111111,
             "#46039f"
            ],
            [
             0.2222222222222222,
             "#7201a8"
            ],
            [
             0.3333333333333333,
             "#9c179e"
            ],
            [
             0.4444444444444444,
             "#bd3786"
            ],
            [
             0.5555555555555556,
             "#d8576b"
            ],
            [
             0.6666666666666666,
             "#ed7953"
            ],
            [
             0.7777777777777778,
             "#fb9f3a"
            ],
            [
             0.8888888888888888,
             "#fdca26"
            ],
            [
             1,
             "#f0f921"
            ]
           ]
          },
          "colorway": [
           "#636efa",
           "#EF553B",
           "#00cc96",
           "#ab63fa",
           "#FFA15A",
           "#19d3f3",
           "#FF6692",
           "#B6E880",
           "#FF97FF",
           "#FECB52"
          ],
          "font": {
           "color": "#2a3f5f"
          },
          "geo": {
           "bgcolor": "white",
           "lakecolor": "white",
           "landcolor": "#E5ECF6",
           "showlakes": true,
           "showland": true,
           "subunitcolor": "white"
          },
          "hoverlabel": {
           "align": "left"
          },
          "hovermode": "closest",
          "mapbox": {
           "style": "light"
          },
          "paper_bgcolor": "white",
          "plot_bgcolor": "#E5ECF6",
          "polar": {
           "angularaxis": {
            "gridcolor": "white",
            "linecolor": "white",
            "ticks": ""
           },
           "bgcolor": "#E5ECF6",
           "radialaxis": {
            "gridcolor": "white",
            "linecolor": "white",
            "ticks": ""
           }
          },
          "scene": {
           "xaxis": {
            "backgroundcolor": "#E5ECF6",
            "gridcolor": "white",
            "gridwidth": 2,
            "linecolor": "white",
            "showbackground": true,
            "ticks": "",
            "zerolinecolor": "white"
           },
           "yaxis": {
            "backgroundcolor": "#E5ECF6",
            "gridcolor": "white",
            "gridwidth": 2,
            "linecolor": "white",
            "showbackground": true,
            "ticks": "",
            "zerolinecolor": "white"
           },
           "zaxis": {
            "backgroundcolor": "#E5ECF6",
            "gridcolor": "white",
            "gridwidth": 2,
            "linecolor": "white",
            "showbackground": true,
            "ticks": "",
            "zerolinecolor": "white"
           }
          },
          "shapedefaults": {
           "line": {
            "color": "#2a3f5f"
           }
          },
          "ternary": {
           "aaxis": {
            "gridcolor": "white",
            "linecolor": "white",
            "ticks": ""
           },
           "baxis": {
            "gridcolor": "white",
            "linecolor": "white",
            "ticks": ""
           },
           "bgcolor": "#E5ECF6",
           "caxis": {
            "gridcolor": "white",
            "linecolor": "white",
            "ticks": ""
           }
          },
          "title": {
           "x": 0.05
          },
          "xaxis": {
           "automargin": true,
           "gridcolor": "white",
           "linecolor": "white",
           "ticks": "",
           "title": {
            "standoff": 15
           },
           "zerolinecolor": "white",
           "zerolinewidth": 2
          },
          "yaxis": {
           "automargin": true,
           "gridcolor": "white",
           "linecolor": "white",
           "ticks": "",
           "title": {
            "standoff": 15
           },
           "zerolinecolor": "white",
           "zerolinewidth": 2
          }
         }
        },
        "title": {
         "text": "Top 3 Countries by Orders"
        },
        "xaxis": {
         "anchor": "y",
         "domain": [
          0,
          1
         ],
         "title": {
          "text": "Country"
         }
        },
        "yaxis": {
         "anchor": "x",
         "domain": [
          0,
          1
         ],
         "title": {
          "text": "Number of Orders"
         }
        }
       }
      }
     },
     "metadata": {},
     "output_type": "display_data"
    }
   ],
   "source": [
    "# Top 3 Countries by Orders\n",
    "country_orders = data['Country'].value_counts().reset_index()\n",
    "country_orders.columns = ['Country', 'OrderCount']\n",
    "fig = px.bar(country_orders.head(3), x='Country', y='OrderCount',\n",
    "                title='Top 3 Countries by Orders',\n",
    "                labels={'OrderCount': 'Number of Orders', 'Country': 'Country'},\n",
    "                text='OrderCount')\n",
    "fig.show()"
   ]
  },
  {
   "cell_type": "code",
   "execution_count": 39,
   "id": "e6135cd2",
   "metadata": {},
   "outputs": [
    {
     "data": {
      "application/vnd.plotly.v1+json": {
       "config": {
        "plotlyServerURL": "https://plot.ly"
       },
       "data": [
        {
         "hovertemplate": "Product Description=%{x}<br>Total Revenue=%{text}<extra></extra>",
         "legendgroup": "",
         "marker": {
          "color": "#636efa",
          "pattern": {
           "shape": ""
          }
         },
         "name": "",
         "orientation": "v",
         "showlegend": false,
         "text": {
          "bdata": "MzMzMzM4AEEzMzMzs/H2QI/C9ShMUvRArkfheniG8EBxPQrXY0nwQKRwPQpnlutAmpmZmTn46EBnZmZmnvDmQLkehesZbuZAw/UoXI9D5EA=",
          "dtype": "f8"
         },
         "textposition": "auto",
         "type": "bar",
         "x": [
          "REGENCY CAKESTAND 3 TIER",
          "WHITE HANGING HEART T-LIGHT HOLDER",
          "JUMBO BAG RED RETROSPOT",
          "PARTY BUNTING",
          "POSTAGE",
          "ASSORTED COLOUR BIRD ORNAMENT",
          "RABBIT NIGHT LIGHT",
          "PICNIC BASKET WICKER SMALL",
          "CHILLI LIGHTS",
          "PAPER CHAIN KIT 50'S CHRISTMAS "
         ],
         "xaxis": "x",
         "y": {
          "bdata": "MzMzMzM4AEEzMzMzs/H2QI/C9ShMUvRArkfheniG8EBxPQrXY0nwQKRwPQpnlutAmpmZmTn46EBnZmZmnvDmQLkehesZbuZAw/UoXI9D5EA=",
          "dtype": "f8"
         },
         "yaxis": "y"
        }
       ],
       "layout": {
        "barmode": "relative",
        "legend": {
         "tracegroupgap": 0
        },
        "template": {
         "data": {
          "bar": [
           {
            "error_x": {
             "color": "#2a3f5f"
            },
            "error_y": {
             "color": "#2a3f5f"
            },
            "marker": {
             "line": {
              "color": "#E5ECF6",
              "width": 0.5
             },
             "pattern": {
              "fillmode": "overlay",
              "size": 10,
              "solidity": 0.2
             }
            },
            "type": "bar"
           }
          ],
          "barpolar": [
           {
            "marker": {
             "line": {
              "color": "#E5ECF6",
              "width": 0.5
             },
             "pattern": {
              "fillmode": "overlay",
              "size": 10,
              "solidity": 0.2
             }
            },
            "type": "barpolar"
           }
          ],
          "carpet": [
           {
            "aaxis": {
             "endlinecolor": "#2a3f5f",
             "gridcolor": "white",
             "linecolor": "white",
             "minorgridcolor": "white",
             "startlinecolor": "#2a3f5f"
            },
            "baxis": {
             "endlinecolor": "#2a3f5f",
             "gridcolor": "white",
             "linecolor": "white",
             "minorgridcolor": "white",
             "startlinecolor": "#2a3f5f"
            },
            "type": "carpet"
           }
          ],
          "choropleth": [
           {
            "colorbar": {
             "outlinewidth": 0,
             "ticks": ""
            },
            "type": "choropleth"
           }
          ],
          "contour": [
           {
            "colorbar": {
             "outlinewidth": 0,
             "ticks": ""
            },
            "colorscale": [
             [
              0,
              "#0d0887"
             ],
             [
              0.1111111111111111,
              "#46039f"
             ],
             [
              0.2222222222222222,
              "#7201a8"
             ],
             [
              0.3333333333333333,
              "#9c179e"
             ],
             [
              0.4444444444444444,
              "#bd3786"
             ],
             [
              0.5555555555555556,
              "#d8576b"
             ],
             [
              0.6666666666666666,
              "#ed7953"
             ],
             [
              0.7777777777777778,
              "#fb9f3a"
             ],
             [
              0.8888888888888888,
              "#fdca26"
             ],
             [
              1,
              "#f0f921"
             ]
            ],
            "type": "contour"
           }
          ],
          "contourcarpet": [
           {
            "colorbar": {
             "outlinewidth": 0,
             "ticks": ""
            },
            "type": "contourcarpet"
           }
          ],
          "heatmap": [
           {
            "colorbar": {
             "outlinewidth": 0,
             "ticks": ""
            },
            "colorscale": [
             [
              0,
              "#0d0887"
             ],
             [
              0.1111111111111111,
              "#46039f"
             ],
             [
              0.2222222222222222,
              "#7201a8"
             ],
             [
              0.3333333333333333,
              "#9c179e"
             ],
             [
              0.4444444444444444,
              "#bd3786"
             ],
             [
              0.5555555555555556,
              "#d8576b"
             ],
             [
              0.6666666666666666,
              "#ed7953"
             ],
             [
              0.7777777777777778,
              "#fb9f3a"
             ],
             [
              0.8888888888888888,
              "#fdca26"
             ],
             [
              1,
              "#f0f921"
             ]
            ],
            "type": "heatmap"
           }
          ],
          "histogram": [
           {
            "marker": {
             "pattern": {
              "fillmode": "overlay",
              "size": 10,
              "solidity": 0.2
             }
            },
            "type": "histogram"
           }
          ],
          "histogram2d": [
           {
            "colorbar": {
             "outlinewidth": 0,
             "ticks": ""
            },
            "colorscale": [
             [
              0,
              "#0d0887"
             ],
             [
              0.1111111111111111,
              "#46039f"
             ],
             [
              0.2222222222222222,
              "#7201a8"
             ],
             [
              0.3333333333333333,
              "#9c179e"
             ],
             [
              0.4444444444444444,
              "#bd3786"
             ],
             [
              0.5555555555555556,
              "#d8576b"
             ],
             [
              0.6666666666666666,
              "#ed7953"
             ],
             [
              0.7777777777777778,
              "#fb9f3a"
             ],
             [
              0.8888888888888888,
              "#fdca26"
             ],
             [
              1,
              "#f0f921"
             ]
            ],
            "type": "histogram2d"
           }
          ],
          "histogram2dcontour": [
           {
            "colorbar": {
             "outlinewidth": 0,
             "ticks": ""
            },
            "colorscale": [
             [
              0,
              "#0d0887"
             ],
             [
              0.1111111111111111,
              "#46039f"
             ],
             [
              0.2222222222222222,
              "#7201a8"
             ],
             [
              0.3333333333333333,
              "#9c179e"
             ],
             [
              0.4444444444444444,
              "#bd3786"
             ],
             [
              0.5555555555555556,
              "#d8576b"
             ],
             [
              0.6666666666666666,
              "#ed7953"
             ],
             [
              0.7777777777777778,
              "#fb9f3a"
             ],
             [
              0.8888888888888888,
              "#fdca26"
             ],
             [
              1,
              "#f0f921"
             ]
            ],
            "type": "histogram2dcontour"
           }
          ],
          "mesh3d": [
           {
            "colorbar": {
             "outlinewidth": 0,
             "ticks": ""
            },
            "type": "mesh3d"
           }
          ],
          "parcoords": [
           {
            "line": {
             "colorbar": {
              "outlinewidth": 0,
              "ticks": ""
             }
            },
            "type": "parcoords"
           }
          ],
          "pie": [
           {
            "automargin": true,
            "type": "pie"
           }
          ],
          "scatter": [
           {
            "fillpattern": {
             "fillmode": "overlay",
             "size": 10,
             "solidity": 0.2
            },
            "type": "scatter"
           }
          ],
          "scatter3d": [
           {
            "line": {
             "colorbar": {
              "outlinewidth": 0,
              "ticks": ""
             }
            },
            "marker": {
             "colorbar": {
              "outlinewidth": 0,
              "ticks": ""
             }
            },
            "type": "scatter3d"
           }
          ],
          "scattercarpet": [
           {
            "marker": {
             "colorbar": {
              "outlinewidth": 0,
              "ticks": ""
             }
            },
            "type": "scattercarpet"
           }
          ],
          "scattergeo": [
           {
            "marker": {
             "colorbar": {
              "outlinewidth": 0,
              "ticks": ""
             }
            },
            "type": "scattergeo"
           }
          ],
          "scattergl": [
           {
            "marker": {
             "colorbar": {
              "outlinewidth": 0,
              "ticks": ""
             }
            },
            "type": "scattergl"
           }
          ],
          "scattermap": [
           {
            "marker": {
             "colorbar": {
              "outlinewidth": 0,
              "ticks": ""
             }
            },
            "type": "scattermap"
           }
          ],
          "scattermapbox": [
           {
            "marker": {
             "colorbar": {
              "outlinewidth": 0,
              "ticks": ""
             }
            },
            "type": "scattermapbox"
           }
          ],
          "scatterpolar": [
           {
            "marker": {
             "colorbar": {
              "outlinewidth": 0,
              "ticks": ""
             }
            },
            "type": "scatterpolar"
           }
          ],
          "scatterpolargl": [
           {
            "marker": {
             "colorbar": {
              "outlinewidth": 0,
              "ticks": ""
             }
            },
            "type": "scatterpolargl"
           }
          ],
          "scatterternary": [
           {
            "marker": {
             "colorbar": {
              "outlinewidth": 0,
              "ticks": ""
             }
            },
            "type": "scatterternary"
           }
          ],
          "surface": [
           {
            "colorbar": {
             "outlinewidth": 0,
             "ticks": ""
            },
            "colorscale": [
             [
              0,
              "#0d0887"
             ],
             [
              0.1111111111111111,
              "#46039f"
             ],
             [
              0.2222222222222222,
              "#7201a8"
             ],
             [
              0.3333333333333333,
              "#9c179e"
             ],
             [
              0.4444444444444444,
              "#bd3786"
             ],
             [
              0.5555555555555556,
              "#d8576b"
             ],
             [
              0.6666666666666666,
              "#ed7953"
             ],
             [
              0.7777777777777778,
              "#fb9f3a"
             ],
             [
              0.8888888888888888,
              "#fdca26"
             ],
             [
              1,
              "#f0f921"
             ]
            ],
            "type": "surface"
           }
          ],
          "table": [
           {
            "cells": {
             "fill": {
              "color": "#EBF0F8"
             },
             "line": {
              "color": "white"
             }
            },
            "header": {
             "fill": {
              "color": "#C8D4E3"
             },
             "line": {
              "color": "white"
             }
            },
            "type": "table"
           }
          ]
         },
         "layout": {
          "annotationdefaults": {
           "arrowcolor": "#2a3f5f",
           "arrowhead": 0,
           "arrowwidth": 1
          },
          "autotypenumbers": "strict",
          "coloraxis": {
           "colorbar": {
            "outlinewidth": 0,
            "ticks": ""
           }
          },
          "colorscale": {
           "diverging": [
            [
             0,
             "#8e0152"
            ],
            [
             0.1,
             "#c51b7d"
            ],
            [
             0.2,
             "#de77ae"
            ],
            [
             0.3,
             "#f1b6da"
            ],
            [
             0.4,
             "#fde0ef"
            ],
            [
             0.5,
             "#f7f7f7"
            ],
            [
             0.6,
             "#e6f5d0"
            ],
            [
             0.7,
             "#b8e186"
            ],
            [
             0.8,
             "#7fbc41"
            ],
            [
             0.9,
             "#4d9221"
            ],
            [
             1,
             "#276419"
            ]
           ],
           "sequential": [
            [
             0,
             "#0d0887"
            ],
            [
             0.1111111111111111,
             "#46039f"
            ],
            [
             0.2222222222222222,
             "#7201a8"
            ],
            [
             0.3333333333333333,
             "#9c179e"
            ],
            [
             0.4444444444444444,
             "#bd3786"
            ],
            [
             0.5555555555555556,
             "#d8576b"
            ],
            [
             0.6666666666666666,
             "#ed7953"
            ],
            [
             0.7777777777777778,
             "#fb9f3a"
            ],
            [
             0.8888888888888888,
             "#fdca26"
            ],
            [
             1,
             "#f0f921"
            ]
           ],
           "sequentialminus": [
            [
             0,
             "#0d0887"
            ],
            [
             0.1111111111111111,
             "#46039f"
            ],
            [
             0.2222222222222222,
             "#7201a8"
            ],
            [
             0.3333333333333333,
             "#9c179e"
            ],
            [
             0.4444444444444444,
             "#bd3786"
            ],
            [
             0.5555555555555556,
             "#d8576b"
            ],
            [
             0.6666666666666666,
             "#ed7953"
            ],
            [
             0.7777777777777778,
             "#fb9f3a"
            ],
            [
             0.8888888888888888,
             "#fdca26"
            ],
            [
             1,
             "#f0f921"
            ]
           ]
          },
          "colorway": [
           "#636efa",
           "#EF553B",
           "#00cc96",
           "#ab63fa",
           "#FFA15A",
           "#19d3f3",
           "#FF6692",
           "#B6E880",
           "#FF97FF",
           "#FECB52"
          ],
          "font": {
           "color": "#2a3f5f"
          },
          "geo": {
           "bgcolor": "white",
           "lakecolor": "white",
           "landcolor": "#E5ECF6",
           "showlakes": true,
           "showland": true,
           "subunitcolor": "white"
          },
          "hoverlabel": {
           "align": "left"
          },
          "hovermode": "closest",
          "mapbox": {
           "style": "light"
          },
          "paper_bgcolor": "white",
          "plot_bgcolor": "#E5ECF6",
          "polar": {
           "angularaxis": {
            "gridcolor": "white",
            "linecolor": "white",
            "ticks": ""
           },
           "bgcolor": "#E5ECF6",
           "radialaxis": {
            "gridcolor": "white",
            "linecolor": "white",
            "ticks": ""
           }
          },
          "scene": {
           "xaxis": {
            "backgroundcolor": "#E5ECF6",
            "gridcolor": "white",
            "gridwidth": 2,
            "linecolor": "white",
            "showbackground": true,
            "ticks": "",
            "zerolinecolor": "white"
           },
           "yaxis": {
            "backgroundcolor": "#E5ECF6",
            "gridcolor": "white",
            "gridwidth": 2,
            "linecolor": "white",
            "showbackground": true,
            "ticks": "",
            "zerolinecolor": "white"
           },
           "zaxis": {
            "backgroundcolor": "#E5ECF6",
            "gridcolor": "white",
            "gridwidth": 2,
            "linecolor": "white",
            "showbackground": true,
            "ticks": "",
            "zerolinecolor": "white"
           }
          },
          "shapedefaults": {
           "line": {
            "color": "#2a3f5f"
           }
          },
          "ternary": {
           "aaxis": {
            "gridcolor": "white",
            "linecolor": "white",
            "ticks": ""
           },
           "baxis": {
            "gridcolor": "white",
            "linecolor": "white",
            "ticks": ""
           },
           "bgcolor": "#E5ECF6",
           "caxis": {
            "gridcolor": "white",
            "linecolor": "white",
            "ticks": ""
           }
          },
          "title": {
           "x": 0.05
          },
          "xaxis": {
           "automargin": true,
           "gridcolor": "white",
           "linecolor": "white",
           "ticks": "",
           "title": {
            "standoff": 15
           },
           "zerolinecolor": "white",
           "zerolinewidth": 2
          },
          "yaxis": {
           "automargin": true,
           "gridcolor": "white",
           "linecolor": "white",
           "ticks": "",
           "title": {
            "standoff": 15
           },
           "zerolinecolor": "white",
           "zerolinewidth": 2
          }
         }
        },
        "title": {
         "text": "Top 10 Products by Revenue"
        },
        "xaxis": {
         "anchor": "y",
         "domain": [
          0,
          1
         ],
         "title": {
          "text": "Product Description"
         }
        },
        "yaxis": {
         "anchor": "x",
         "domain": [
          0,
          1
         ],
         "title": {
          "text": "Total Revenue"
         }
        }
       }
      }
     },
     "metadata": {},
     "output_type": "display_data"
    }
   ],
   "source": [
    "# Top 10 Products by Revenue\n",
    "top_products = data.groupby('StockCode').agg({'TotalAmount': 'sum', 'Description': 'first'}).reset_index()\n",
    "top_products = top_products.sort_values(by='TotalAmount', ascending=False).head(10)\n",
    "fig = px.bar(top_products, x='Description', y='TotalAmount',\n",
    "             title='Top 10 Products by Revenue',\n",
    "             labels={'TotalAmount': 'Total Revenue', 'Description': 'Product Description'},\n",
    "             text='TotalAmount')\n",
    "fig.show()"
   ]
  },
  {
   "cell_type": "code",
   "execution_count": 40,
   "id": "dc01cecd",
   "metadata": {},
   "outputs": [
    {
     "data": {
      "application/vnd.plotly.v1+json": {
       "config": {
        "plotlyServerURL": "https://plot.ly"
       },
       "data": [
        {
         "hovertemplate": "Product Description=%{x}<br>Total Quantity Sold=%{text}<extra></extra>",
         "legendgroup": "",
         "marker": {
          "color": "#636efa",
          "pattern": {
           "shape": ""
          }
         },
         "name": "",
         "orientation": "v",
         "showlegend": false,
         "text": {
          "bdata": "AAAAAOD76UAAAAAAAMnnQAAAAABAAeZAAAAAAEA+4UAAAAAAgLPgQAAAAAAgUOBAAAAAAIB12kAAAAAAAEbZQAAAAABAuthAAAAAAMCY10A=",
          "dtype": "f8"
         },
         "textposition": "auto",
         "type": "bar",
         "x": [
          "WORLD WAR 2 GLIDERS ASSTD DESIGNS",
          "SMALL POPCORN HOLDER",
          "JUMBO BAG RED RETROSPOT",
          "ASSORTED COLOUR BIRD ORNAMENT",
          "WHITE HANGING HEART T-LIGHT HOLDER",
          "PACK OF 72 RETROSPOT CAKE CASES",
          "RABBIT NIGHT LIGHT",
          "MINI PAINT SET VINTAGE ",
          "PACK OF 12 LONDON TISSUES ",
          "PACK OF 60 PINK PAISLEY CAKE CASES"
         ],
         "xaxis": "x",
         "y": {
          "bdata": "388AAEi+AAAKsAAA8okAAJyFAACBggAA1mkAABhlAADpYgAAY14AAA==",
          "dtype": "i4"
         },
         "yaxis": "y"
        }
       ],
       "layout": {
        "barmode": "relative",
        "legend": {
         "tracegroupgap": 0
        },
        "template": {
         "data": {
          "bar": [
           {
            "error_x": {
             "color": "#2a3f5f"
            },
            "error_y": {
             "color": "#2a3f5f"
            },
            "marker": {
             "line": {
              "color": "#E5ECF6",
              "width": 0.5
             },
             "pattern": {
              "fillmode": "overlay",
              "size": 10,
              "solidity": 0.2
             }
            },
            "type": "bar"
           }
          ],
          "barpolar": [
           {
            "marker": {
             "line": {
              "color": "#E5ECF6",
              "width": 0.5
             },
             "pattern": {
              "fillmode": "overlay",
              "size": 10,
              "solidity": 0.2
             }
            },
            "type": "barpolar"
           }
          ],
          "carpet": [
           {
            "aaxis": {
             "endlinecolor": "#2a3f5f",
             "gridcolor": "white",
             "linecolor": "white",
             "minorgridcolor": "white",
             "startlinecolor": "#2a3f5f"
            },
            "baxis": {
             "endlinecolor": "#2a3f5f",
             "gridcolor": "white",
             "linecolor": "white",
             "minorgridcolor": "white",
             "startlinecolor": "#2a3f5f"
            },
            "type": "carpet"
           }
          ],
          "choropleth": [
           {
            "colorbar": {
             "outlinewidth": 0,
             "ticks": ""
            },
            "type": "choropleth"
           }
          ],
          "contour": [
           {
            "colorbar": {
             "outlinewidth": 0,
             "ticks": ""
            },
            "colorscale": [
             [
              0,
              "#0d0887"
             ],
             [
              0.1111111111111111,
              "#46039f"
             ],
             [
              0.2222222222222222,
              "#7201a8"
             ],
             [
              0.3333333333333333,
              "#9c179e"
             ],
             [
              0.4444444444444444,
              "#bd3786"
             ],
             [
              0.5555555555555556,
              "#d8576b"
             ],
             [
              0.6666666666666666,
              "#ed7953"
             ],
             [
              0.7777777777777778,
              "#fb9f3a"
             ],
             [
              0.8888888888888888,
              "#fdca26"
             ],
             [
              1,
              "#f0f921"
             ]
            ],
            "type": "contour"
           }
          ],
          "contourcarpet": [
           {
            "colorbar": {
             "outlinewidth": 0,
             "ticks": ""
            },
            "type": "contourcarpet"
           }
          ],
          "heatmap": [
           {
            "colorbar": {
             "outlinewidth": 0,
             "ticks": ""
            },
            "colorscale": [
             [
              0,
              "#0d0887"
             ],
             [
              0.1111111111111111,
              "#46039f"
             ],
             [
              0.2222222222222222,
              "#7201a8"
             ],
             [
              0.3333333333333333,
              "#9c179e"
             ],
             [
              0.4444444444444444,
              "#bd3786"
             ],
             [
              0.5555555555555556,
              "#d8576b"
             ],
             [
              0.6666666666666666,
              "#ed7953"
             ],
             [
              0.7777777777777778,
              "#fb9f3a"
             ],
             [
              0.8888888888888888,
              "#fdca26"
             ],
             [
              1,
              "#f0f921"
             ]
            ],
            "type": "heatmap"
           }
          ],
          "histogram": [
           {
            "marker": {
             "pattern": {
              "fillmode": "overlay",
              "size": 10,
              "solidity": 0.2
             }
            },
            "type": "histogram"
           }
          ],
          "histogram2d": [
           {
            "colorbar": {
             "outlinewidth": 0,
             "ticks": ""
            },
            "colorscale": [
             [
              0,
              "#0d0887"
             ],
             [
              0.1111111111111111,
              "#46039f"
             ],
             [
              0.2222222222222222,
              "#7201a8"
             ],
             [
              0.3333333333333333,
              "#9c179e"
             ],
             [
              0.4444444444444444,
              "#bd3786"
             ],
             [
              0.5555555555555556,
              "#d8576b"
             ],
             [
              0.6666666666666666,
              "#ed7953"
             ],
             [
              0.7777777777777778,
              "#fb9f3a"
             ],
             [
              0.8888888888888888,
              "#fdca26"
             ],
             [
              1,
              "#f0f921"
             ]
            ],
            "type": "histogram2d"
           }
          ],
          "histogram2dcontour": [
           {
            "colorbar": {
             "outlinewidth": 0,
             "ticks": ""
            },
            "colorscale": [
             [
              0,
              "#0d0887"
             ],
             [
              0.1111111111111111,
              "#46039f"
             ],
             [
              0.2222222222222222,
              "#7201a8"
             ],
             [
              0.3333333333333333,
              "#9c179e"
             ],
             [
              0.4444444444444444,
              "#bd3786"
             ],
             [
              0.5555555555555556,
              "#d8576b"
             ],
             [
              0.6666666666666666,
              "#ed7953"
             ],
             [
              0.7777777777777778,
              "#fb9f3a"
             ],
             [
              0.8888888888888888,
              "#fdca26"
             ],
             [
              1,
              "#f0f921"
             ]
            ],
            "type": "histogram2dcontour"
           }
          ],
          "mesh3d": [
           {
            "colorbar": {
             "outlinewidth": 0,
             "ticks": ""
            },
            "type": "mesh3d"
           }
          ],
          "parcoords": [
           {
            "line": {
             "colorbar": {
              "outlinewidth": 0,
              "ticks": ""
             }
            },
            "type": "parcoords"
           }
          ],
          "pie": [
           {
            "automargin": true,
            "type": "pie"
           }
          ],
          "scatter": [
           {
            "fillpattern": {
             "fillmode": "overlay",
             "size": 10,
             "solidity": 0.2
            },
            "type": "scatter"
           }
          ],
          "scatter3d": [
           {
            "line": {
             "colorbar": {
              "outlinewidth": 0,
              "ticks": ""
             }
            },
            "marker": {
             "colorbar": {
              "outlinewidth": 0,
              "ticks": ""
             }
            },
            "type": "scatter3d"
           }
          ],
          "scattercarpet": [
           {
            "marker": {
             "colorbar": {
              "outlinewidth": 0,
              "ticks": ""
             }
            },
            "type": "scattercarpet"
           }
          ],
          "scattergeo": [
           {
            "marker": {
             "colorbar": {
              "outlinewidth": 0,
              "ticks": ""
             }
            },
            "type": "scattergeo"
           }
          ],
          "scattergl": [
           {
            "marker": {
             "colorbar": {
              "outlinewidth": 0,
              "ticks": ""
             }
            },
            "type": "scattergl"
           }
          ],
          "scattermap": [
           {
            "marker": {
             "colorbar": {
              "outlinewidth": 0,
              "ticks": ""
             }
            },
            "type": "scattermap"
           }
          ],
          "scattermapbox": [
           {
            "marker": {
             "colorbar": {
              "outlinewidth": 0,
              "ticks": ""
             }
            },
            "type": "scattermapbox"
           }
          ],
          "scatterpolar": [
           {
            "marker": {
             "colorbar": {
              "outlinewidth": 0,
              "ticks": ""
             }
            },
            "type": "scatterpolar"
           }
          ],
          "scatterpolargl": [
           {
            "marker": {
             "colorbar": {
              "outlinewidth": 0,
              "ticks": ""
             }
            },
            "type": "scatterpolargl"
           }
          ],
          "scatterternary": [
           {
            "marker": {
             "colorbar": {
              "outlinewidth": 0,
              "ticks": ""
             }
            },
            "type": "scatterternary"
           }
          ],
          "surface": [
           {
            "colorbar": {
             "outlinewidth": 0,
             "ticks": ""
            },
            "colorscale": [
             [
              0,
              "#0d0887"
             ],
             [
              0.1111111111111111,
              "#46039f"
             ],
             [
              0.2222222222222222,
              "#7201a8"
             ],
             [
              0.3333333333333333,
              "#9c179e"
             ],
             [
              0.4444444444444444,
              "#bd3786"
             ],
             [
              0.5555555555555556,
              "#d8576b"
             ],
             [
              0.6666666666666666,
              "#ed7953"
             ],
             [
              0.7777777777777778,
              "#fb9f3a"
             ],
             [
              0.8888888888888888,
              "#fdca26"
             ],
             [
              1,
              "#f0f921"
             ]
            ],
            "type": "surface"
           }
          ],
          "table": [
           {
            "cells": {
             "fill": {
              "color": "#EBF0F8"
             },
             "line": {
              "color": "white"
             }
            },
            "header": {
             "fill": {
              "color": "#C8D4E3"
             },
             "line": {
              "color": "white"
             }
            },
            "type": "table"
           }
          ]
         },
         "layout": {
          "annotationdefaults": {
           "arrowcolor": "#2a3f5f",
           "arrowhead": 0,
           "arrowwidth": 1
          },
          "autotypenumbers": "strict",
          "coloraxis": {
           "colorbar": {
            "outlinewidth": 0,
            "ticks": ""
           }
          },
          "colorscale": {
           "diverging": [
            [
             0,
             "#8e0152"
            ],
            [
             0.1,
             "#c51b7d"
            ],
            [
             0.2,
             "#de77ae"
            ],
            [
             0.3,
             "#f1b6da"
            ],
            [
             0.4,
             "#fde0ef"
            ],
            [
             0.5,
             "#f7f7f7"
            ],
            [
             0.6,
             "#e6f5d0"
            ],
            [
             0.7,
             "#b8e186"
            ],
            [
             0.8,
             "#7fbc41"
            ],
            [
             0.9,
             "#4d9221"
            ],
            [
             1,
             "#276419"
            ]
           ],
           "sequential": [
            [
             0,
             "#0d0887"
            ],
            [
             0.1111111111111111,
             "#46039f"
            ],
            [
             0.2222222222222222,
             "#7201a8"
            ],
            [
             0.3333333333333333,
             "#9c179e"
            ],
            [
             0.4444444444444444,
             "#bd3786"
            ],
            [
             0.5555555555555556,
             "#d8576b"
            ],
            [
             0.6666666666666666,
             "#ed7953"
            ],
            [
             0.7777777777777778,
             "#fb9f3a"
            ],
            [
             0.8888888888888888,
             "#fdca26"
            ],
            [
             1,
             "#f0f921"
            ]
           ],
           "sequentialminus": [
            [
             0,
             "#0d0887"
            ],
            [
             0.1111111111111111,
             "#46039f"
            ],
            [
             0.2222222222222222,
             "#7201a8"
            ],
            [
             0.3333333333333333,
             "#9c179e"
            ],
            [
             0.4444444444444444,
             "#bd3786"
            ],
            [
             0.5555555555555556,
             "#d8576b"
            ],
            [
             0.6666666666666666,
             "#ed7953"
            ],
            [
             0.7777777777777778,
             "#fb9f3a"
            ],
            [
             0.8888888888888888,
             "#fdca26"
            ],
            [
             1,
             "#f0f921"
            ]
           ]
          },
          "colorway": [
           "#636efa",
           "#EF553B",
           "#00cc96",
           "#ab63fa",
           "#FFA15A",
           "#19d3f3",
           "#FF6692",
           "#B6E880",
           "#FF97FF",
           "#FECB52"
          ],
          "font": {
           "color": "#2a3f5f"
          },
          "geo": {
           "bgcolor": "white",
           "lakecolor": "white",
           "landcolor": "#E5ECF6",
           "showlakes": true,
           "showland": true,
           "subunitcolor": "white"
          },
          "hoverlabel": {
           "align": "left"
          },
          "hovermode": "closest",
          "mapbox": {
           "style": "light"
          },
          "paper_bgcolor": "white",
          "plot_bgcolor": "#E5ECF6",
          "polar": {
           "angularaxis": {
            "gridcolor": "white",
            "linecolor": "white",
            "ticks": ""
           },
           "bgcolor": "#E5ECF6",
           "radialaxis": {
            "gridcolor": "white",
            "linecolor": "white",
            "ticks": ""
           }
          },
          "scene": {
           "xaxis": {
            "backgroundcolor": "#E5ECF6",
            "gridcolor": "white",
            "gridwidth": 2,
            "linecolor": "white",
            "showbackground": true,
            "ticks": "",
            "zerolinecolor": "white"
           },
           "yaxis": {
            "backgroundcolor": "#E5ECF6",
            "gridcolor": "white",
            "gridwidth": 2,
            "linecolor": "white",
            "showbackground": true,
            "ticks": "",
            "zerolinecolor": "white"
           },
           "zaxis": {
            "backgroundcolor": "#E5ECF6",
            "gridcolor": "white",
            "gridwidth": 2,
            "linecolor": "white",
            "showbackground": true,
            "ticks": "",
            "zerolinecolor": "white"
           }
          },
          "shapedefaults": {
           "line": {
            "color": "#2a3f5f"
           }
          },
          "ternary": {
           "aaxis": {
            "gridcolor": "white",
            "linecolor": "white",
            "ticks": ""
           },
           "baxis": {
            "gridcolor": "white",
            "linecolor": "white",
            "ticks": ""
           },
           "bgcolor": "#E5ECF6",
           "caxis": {
            "gridcolor": "white",
            "linecolor": "white",
            "ticks": ""
           }
          },
          "title": {
           "x": 0.05
          },
          "xaxis": {
           "automargin": true,
           "gridcolor": "white",
           "linecolor": "white",
           "ticks": "",
           "title": {
            "standoff": 15
           },
           "zerolinecolor": "white",
           "zerolinewidth": 2
          },
          "yaxis": {
           "automargin": true,
           "gridcolor": "white",
           "linecolor": "white",
           "ticks": "",
           "title": {
            "standoff": 15
           },
           "zerolinecolor": "white",
           "zerolinewidth": 2
          }
         }
        },
        "title": {
         "text": "Top 10 Products by Quantity Sold"
        },
        "xaxis": {
         "anchor": "y",
         "domain": [
          0,
          1
         ],
         "title": {
          "text": "Product Description"
         }
        },
        "yaxis": {
         "anchor": "x",
         "domain": [
          0,
          1
         ],
         "title": {
          "text": "Total Quantity Sold"
         }
        }
       }
      }
     },
     "metadata": {},
     "output_type": "display_data"
    }
   ],
   "source": [
    "# top 10 Products by Quantity Sold\n",
    "top_products_qty = data.groupby('StockCode').agg({'Quantity': 'sum', 'Description': 'first'}).reset_index()\n",
    "top_products_qty = top_products_qty.sort_values(by='Quantity', ascending=False).head(10)\n",
    "fig = px.bar(top_products_qty, x='Description', y='Quantity',\n",
    "             title='Top 10 Products by Quantity Sold',\n",
    "                labels={'Quantity': 'Total Quantity Sold', 'Description': 'Product Description'},\n",
    "                text='Quantity')\n",
    "fig.show()"
   ]
  },
  {
   "cell_type": "markdown",
   "id": "44966440",
   "metadata": {},
   "source": [
    "# RFM Model"
   ]
  },
  {
   "cell_type": "code",
   "execution_count": 54,
   "id": "11062dab",
   "metadata": {},
   "outputs": [],
   "source": [
    "RFM = data.groupby('CustomerID').agg({\n",
    "    'InvoiceDate': lambda x: (referrence_date - x.max()).days,\n",
    "    'InvoiceNo': 'count',\n",
    "    'TotalAmount': 'sum'})"
   ]
  },
  {
   "cell_type": "code",
   "execution_count": 55,
   "id": "8cf52095",
   "metadata": {},
   "outputs": [],
   "source": [
    "RFM.rename(columns={'InvoiceDate':'Recency',\n",
    "                    'InvoiceNo':'Frequency',\n",
    "                    'TotalAmount':'MonetaryValue'}, inplace=True)"
   ]
  },
  {
   "cell_type": "code",
   "execution_count": 56,
   "id": "958f6b0e",
   "metadata": {},
   "outputs": [
    {
     "data": {
      "text/html": [
       "<div>\n",
       "<style scoped>\n",
       "    .dataframe tbody tr th:only-of-type {\n",
       "        vertical-align: middle;\n",
       "    }\n",
       "\n",
       "    .dataframe tbody tr th {\n",
       "        vertical-align: top;\n",
       "    }\n",
       "\n",
       "    .dataframe thead th {\n",
       "        text-align: right;\n",
       "    }\n",
       "</style>\n",
       "<table border=\"1\" class=\"dataframe\">\n",
       "  <thead>\n",
       "    <tr style=\"text-align: right;\">\n",
       "      <th></th>\n",
       "      <th>Recency</th>\n",
       "      <th>Frequency</th>\n",
       "      <th>MonetaryValue</th>\n",
       "    </tr>\n",
       "    <tr>\n",
       "      <th>CustomerID</th>\n",
       "      <th></th>\n",
       "      <th></th>\n",
       "      <th></th>\n",
       "    </tr>\n",
       "  </thead>\n",
       "  <tbody>\n",
       "    <tr>\n",
       "      <th>12346.0</th>\n",
       "      <td>326</td>\n",
       "      <td>2</td>\n",
       "      <td>0.00</td>\n",
       "    </tr>\n",
       "    <tr>\n",
       "      <th>12347.0</th>\n",
       "      <td>2</td>\n",
       "      <td>182</td>\n",
       "      <td>4310.00</td>\n",
       "    </tr>\n",
       "    <tr>\n",
       "      <th>12348.0</th>\n",
       "      <td>75</td>\n",
       "      <td>31</td>\n",
       "      <td>1797.24</td>\n",
       "    </tr>\n",
       "    <tr>\n",
       "      <th>12349.0</th>\n",
       "      <td>19</td>\n",
       "      <td>73</td>\n",
       "      <td>1757.55</td>\n",
       "    </tr>\n",
       "    <tr>\n",
       "      <th>12350.0</th>\n",
       "      <td>310</td>\n",
       "      <td>17</td>\n",
       "      <td>334.40</td>\n",
       "    </tr>\n",
       "  </tbody>\n",
       "</table>\n",
       "</div>"
      ],
      "text/plain": [
       "            Recency  Frequency  MonetaryValue\n",
       "CustomerID                                   \n",
       "12346.0         326          2           0.00\n",
       "12347.0           2        182        4310.00\n",
       "12348.0          75         31        1797.24\n",
       "12349.0          19         73        1757.55\n",
       "12350.0         310         17         334.40"
      ]
     },
     "execution_count": 56,
     "metadata": {},
     "output_type": "execute_result"
    }
   ],
   "source": [
    "RFM.head()"
   ]
  },
  {
   "cell_type": "code",
   "execution_count": 57,
   "id": "0abb7af4",
   "metadata": {},
   "outputs": [
    {
     "data": {
      "text/plain": [
       "{'Recency': {0.25: 17.0, 0.5: 50.0, 0.75: 143.0},\n",
       " 'Frequency': {0.25: 17.0, 0.5: 42.0, 0.75: 102.0},\n",
       " 'MonetaryValue': {0.25: 293.3625, 0.5: 648.075, 0.75: 1611.725}}"
      ]
     },
     "execution_count": 57,
     "metadata": {},
     "output_type": "execute_result"
    }
   ],
   "source": [
    "quantiles = RFM.quantile(q=[0.25,0.5,0.75])\n",
    "quantiles = quantiles.to_dict()\n",
    "quantiles"
   ]
  },
  {
   "cell_type": "code",
   "execution_count": 58,
   "id": "0183b99b",
   "metadata": {},
   "outputs": [],
   "source": [
    "def RScore(x,p,d):\n",
    "    if x <= d[p][0.25]:\n",
    "        return 4\n",
    "    elif x <= d[p][0.50]:\n",
    "        return 3\n",
    "    elif x <= d[p][0.75]: \n",
    "        return 2\n",
    "    else:\n",
    "        return 1\n",
    "def FMScore(x,p,d):\n",
    "    if x <= d[p][0.25]:\n",
    "        return 1\n",
    "    elif x <= d[p][0.50]:\n",
    "        return 2\n",
    "    elif x <= d[p][0.75]: \n",
    "        return 3\n",
    "    else:\n",
    "        return 4\n"
   ]
  },
  {
   "cell_type": "code",
   "execution_count": 59,
   "id": "33b41a18",
   "metadata": {},
   "outputs": [],
   "source": [
    "RFM['R'] = RFM['Recency'].apply(RScore, args=('Recency',quantiles,))\n",
    "RFM['F'] = RFM['Frequency'].apply(FMScore, args=('Frequency',quantiles,))\n",
    "RFM['M'] = RFM['MonetaryValue'].apply(FMScore, args=('MonetaryValue',quantiles,))\n"
   ]
  },
  {
   "cell_type": "code",
   "execution_count": 60,
   "id": "032a82b7",
   "metadata": {},
   "outputs": [
    {
     "data": {
      "text/html": [
       "<div>\n",
       "<style scoped>\n",
       "    .dataframe tbody tr th:only-of-type {\n",
       "        vertical-align: middle;\n",
       "    }\n",
       "\n",
       "    .dataframe tbody tr th {\n",
       "        vertical-align: top;\n",
       "    }\n",
       "\n",
       "    .dataframe thead th {\n",
       "        text-align: right;\n",
       "    }\n",
       "</style>\n",
       "<table border=\"1\" class=\"dataframe\">\n",
       "  <thead>\n",
       "    <tr style=\"text-align: right;\">\n",
       "      <th></th>\n",
       "      <th>Recency</th>\n",
       "      <th>Frequency</th>\n",
       "      <th>MonetaryValue</th>\n",
       "      <th>R</th>\n",
       "      <th>F</th>\n",
       "      <th>M</th>\n",
       "    </tr>\n",
       "    <tr>\n",
       "      <th>CustomerID</th>\n",
       "      <th></th>\n",
       "      <th></th>\n",
       "      <th></th>\n",
       "      <th></th>\n",
       "      <th></th>\n",
       "      <th></th>\n",
       "    </tr>\n",
       "  </thead>\n",
       "  <tbody>\n",
       "    <tr>\n",
       "      <th>12346.0</th>\n",
       "      <td>326</td>\n",
       "      <td>2</td>\n",
       "      <td>0.00</td>\n",
       "      <td>1</td>\n",
       "      <td>1</td>\n",
       "      <td>1</td>\n",
       "    </tr>\n",
       "    <tr>\n",
       "      <th>12347.0</th>\n",
       "      <td>2</td>\n",
       "      <td>182</td>\n",
       "      <td>4310.00</td>\n",
       "      <td>4</td>\n",
       "      <td>4</td>\n",
       "      <td>4</td>\n",
       "    </tr>\n",
       "    <tr>\n",
       "      <th>12348.0</th>\n",
       "      <td>75</td>\n",
       "      <td>31</td>\n",
       "      <td>1797.24</td>\n",
       "      <td>2</td>\n",
       "      <td>2</td>\n",
       "      <td>4</td>\n",
       "    </tr>\n",
       "    <tr>\n",
       "      <th>12349.0</th>\n",
       "      <td>19</td>\n",
       "      <td>73</td>\n",
       "      <td>1757.55</td>\n",
       "      <td>3</td>\n",
       "      <td>3</td>\n",
       "      <td>4</td>\n",
       "    </tr>\n",
       "    <tr>\n",
       "      <th>12350.0</th>\n",
       "      <td>310</td>\n",
       "      <td>17</td>\n",
       "      <td>334.40</td>\n",
       "      <td>1</td>\n",
       "      <td>1</td>\n",
       "      <td>2</td>\n",
       "    </tr>\n",
       "  </tbody>\n",
       "</table>\n",
       "</div>"
      ],
      "text/plain": [
       "            Recency  Frequency  MonetaryValue  R  F  M\n",
       "CustomerID                                            \n",
       "12346.0         326          2           0.00  1  1  1\n",
       "12347.0           2        182        4310.00  4  4  4\n",
       "12348.0          75         31        1797.24  2  2  4\n",
       "12349.0          19         73        1757.55  3  3  4\n",
       "12350.0         310         17         334.40  1  1  2"
      ]
     },
     "execution_count": 60,
     "metadata": {},
     "output_type": "execute_result"
    }
   ],
   "source": [
    "RFM.head()"
   ]
  },
  {
   "cell_type": "code",
   "execution_count": 61,
   "id": "7032e083",
   "metadata": {},
   "outputs": [],
   "source": [
    "RFM[\"RFM_Segment\"] = RFM.R.map(str) + RFM.F.map(str) + RFM.M.map(str)\n",
    "RFM[\"RFM_Score\"] = RFM[['R','F','M']].sum(axis=1)"
   ]
  },
  {
   "cell_type": "code",
   "execution_count": 62,
   "id": "e37d5b0e",
   "metadata": {},
   "outputs": [
    {
     "data": {
      "text/html": [
       "<div>\n",
       "<style scoped>\n",
       "    .dataframe tbody tr th:only-of-type {\n",
       "        vertical-align: middle;\n",
       "    }\n",
       "\n",
       "    .dataframe tbody tr th {\n",
       "        vertical-align: top;\n",
       "    }\n",
       "\n",
       "    .dataframe thead th {\n",
       "        text-align: right;\n",
       "    }\n",
       "</style>\n",
       "<table border=\"1\" class=\"dataframe\">\n",
       "  <thead>\n",
       "    <tr style=\"text-align: right;\">\n",
       "      <th></th>\n",
       "      <th>Recency</th>\n",
       "      <th>Frequency</th>\n",
       "      <th>MonetaryValue</th>\n",
       "      <th>R</th>\n",
       "      <th>F</th>\n",
       "      <th>M</th>\n",
       "      <th>RFM_Segment</th>\n",
       "      <th>RFM_Score</th>\n",
       "    </tr>\n",
       "    <tr>\n",
       "      <th>CustomerID</th>\n",
       "      <th></th>\n",
       "      <th></th>\n",
       "      <th></th>\n",
       "      <th></th>\n",
       "      <th></th>\n",
       "      <th></th>\n",
       "      <th></th>\n",
       "      <th></th>\n",
       "    </tr>\n",
       "  </thead>\n",
       "  <tbody>\n",
       "    <tr>\n",
       "      <th>12346.0</th>\n",
       "      <td>326</td>\n",
       "      <td>2</td>\n",
       "      <td>0.00</td>\n",
       "      <td>1</td>\n",
       "      <td>1</td>\n",
       "      <td>1</td>\n",
       "      <td>111</td>\n",
       "      <td>3</td>\n",
       "    </tr>\n",
       "    <tr>\n",
       "      <th>12347.0</th>\n",
       "      <td>2</td>\n",
       "      <td>182</td>\n",
       "      <td>4310.00</td>\n",
       "      <td>4</td>\n",
       "      <td>4</td>\n",
       "      <td>4</td>\n",
       "      <td>444</td>\n",
       "      <td>12</td>\n",
       "    </tr>\n",
       "    <tr>\n",
       "      <th>12348.0</th>\n",
       "      <td>75</td>\n",
       "      <td>31</td>\n",
       "      <td>1797.24</td>\n",
       "      <td>2</td>\n",
       "      <td>2</td>\n",
       "      <td>4</td>\n",
       "      <td>224</td>\n",
       "      <td>8</td>\n",
       "    </tr>\n",
       "    <tr>\n",
       "      <th>12349.0</th>\n",
       "      <td>19</td>\n",
       "      <td>73</td>\n",
       "      <td>1757.55</td>\n",
       "      <td>3</td>\n",
       "      <td>3</td>\n",
       "      <td>4</td>\n",
       "      <td>334</td>\n",
       "      <td>10</td>\n",
       "    </tr>\n",
       "    <tr>\n",
       "      <th>12350.0</th>\n",
       "      <td>310</td>\n",
       "      <td>17</td>\n",
       "      <td>334.40</td>\n",
       "      <td>1</td>\n",
       "      <td>1</td>\n",
       "      <td>2</td>\n",
       "      <td>112</td>\n",
       "      <td>4</td>\n",
       "    </tr>\n",
       "  </tbody>\n",
       "</table>\n",
       "</div>"
      ],
      "text/plain": [
       "            Recency  Frequency  MonetaryValue  R  F  M RFM_Segment  RFM_Score\n",
       "CustomerID                                                                   \n",
       "12346.0         326          2           0.00  1  1  1         111          3\n",
       "12347.0           2        182        4310.00  4  4  4         444         12\n",
       "12348.0          75         31        1797.24  2  2  4         224          8\n",
       "12349.0          19         73        1757.55  3  3  4         334         10\n",
       "12350.0         310         17         334.40  1  1  2         112          4"
      ]
     },
     "execution_count": 62,
     "metadata": {},
     "output_type": "execute_result"
    }
   ],
   "source": [
    "RFM.head()"
   ]
  },
  {
   "cell_type": "code",
   "execution_count": 63,
   "id": "6a3103d5",
   "metadata": {},
   "outputs": [
    {
     "name": "stdout",
     "output_type": "stream",
     "text": [
      "12\n",
      "3\n"
     ]
    }
   ],
   "source": [
    "print(RFM['RFM_Score'].max())\n",
    "print(RFM['RFM_Score'].min())\n"
   ]
  },
  {
   "cell_type": "code",
   "execution_count": null,
   "id": "95818ce1",
   "metadata": {},
   "outputs": [],
   "source": [
    "segmant_labels = {\"low_level\",\"Mid_level\",\"High_level\"}\n",
    "\n",
    "def segment(x):\n",
    "    if x < 5:\n",
    "        return \"Low_level\"\n",
    "    elif (x >= 5) & (x < 9):\n",
    "        return \"Mid_level\"\n",
    "    else:\n",
    "        return \"High_level\""
   ]
  },
  {
   "cell_type": "code",
   "execution_count": 65,
   "id": "7baa9798",
   "metadata": {},
   "outputs": [],
   "source": [
    "RFM[\"RFM_Segment_Level\"] = RFM[\"RFM_Score\"].apply(segment)"
   ]
  },
  {
   "cell_type": "code",
   "execution_count": 66,
   "id": "67a75923",
   "metadata": {},
   "outputs": [
    {
     "data": {
      "text/html": [
       "<div>\n",
       "<style scoped>\n",
       "    .dataframe tbody tr th:only-of-type {\n",
       "        vertical-align: middle;\n",
       "    }\n",
       "\n",
       "    .dataframe tbody tr th {\n",
       "        vertical-align: top;\n",
       "    }\n",
       "\n",
       "    .dataframe thead th {\n",
       "        text-align: right;\n",
       "    }\n",
       "</style>\n",
       "<table border=\"1\" class=\"dataframe\">\n",
       "  <thead>\n",
       "    <tr style=\"text-align: right;\">\n",
       "      <th></th>\n",
       "      <th>Recency</th>\n",
       "      <th>Frequency</th>\n",
       "      <th>MonetaryValue</th>\n",
       "      <th>R</th>\n",
       "      <th>F</th>\n",
       "      <th>M</th>\n",
       "      <th>RFM_Segment</th>\n",
       "      <th>RFM_Score</th>\n",
       "      <th>RFM_Segment_Level</th>\n",
       "    </tr>\n",
       "    <tr>\n",
       "      <th>CustomerID</th>\n",
       "      <th></th>\n",
       "      <th></th>\n",
       "      <th></th>\n",
       "      <th></th>\n",
       "      <th></th>\n",
       "      <th></th>\n",
       "      <th></th>\n",
       "      <th></th>\n",
       "      <th></th>\n",
       "    </tr>\n",
       "  </thead>\n",
       "  <tbody>\n",
       "    <tr>\n",
       "      <th>12346.0</th>\n",
       "      <td>326</td>\n",
       "      <td>2</td>\n",
       "      <td>0.00</td>\n",
       "      <td>1</td>\n",
       "      <td>1</td>\n",
       "      <td>1</td>\n",
       "      <td>111</td>\n",
       "      <td>3</td>\n",
       "      <td>Low_level</td>\n",
       "    </tr>\n",
       "    <tr>\n",
       "      <th>12347.0</th>\n",
       "      <td>2</td>\n",
       "      <td>182</td>\n",
       "      <td>4310.00</td>\n",
       "      <td>4</td>\n",
       "      <td>4</td>\n",
       "      <td>4</td>\n",
       "      <td>444</td>\n",
       "      <td>12</td>\n",
       "      <td>High_level</td>\n",
       "    </tr>\n",
       "    <tr>\n",
       "      <th>12348.0</th>\n",
       "      <td>75</td>\n",
       "      <td>31</td>\n",
       "      <td>1797.24</td>\n",
       "      <td>2</td>\n",
       "      <td>2</td>\n",
       "      <td>4</td>\n",
       "      <td>224</td>\n",
       "      <td>8</td>\n",
       "      <td>Mid_level</td>\n",
       "    </tr>\n",
       "    <tr>\n",
       "      <th>12349.0</th>\n",
       "      <td>19</td>\n",
       "      <td>73</td>\n",
       "      <td>1757.55</td>\n",
       "      <td>3</td>\n",
       "      <td>3</td>\n",
       "      <td>4</td>\n",
       "      <td>334</td>\n",
       "      <td>10</td>\n",
       "      <td>High_level</td>\n",
       "    </tr>\n",
       "    <tr>\n",
       "      <th>12350.0</th>\n",
       "      <td>310</td>\n",
       "      <td>17</td>\n",
       "      <td>334.40</td>\n",
       "      <td>1</td>\n",
       "      <td>1</td>\n",
       "      <td>2</td>\n",
       "      <td>112</td>\n",
       "      <td>4</td>\n",
       "      <td>Low_level</td>\n",
       "    </tr>\n",
       "  </tbody>\n",
       "</table>\n",
       "</div>"
      ],
      "text/plain": [
       "            Recency  Frequency  MonetaryValue  R  F  M RFM_Segment  RFM_Score  \\\n",
       "CustomerID                                                                      \n",
       "12346.0         326          2           0.00  1  1  1         111          3   \n",
       "12347.0           2        182        4310.00  4  4  4         444         12   \n",
       "12348.0          75         31        1797.24  2  2  4         224          8   \n",
       "12349.0          19         73        1757.55  3  3  4         334         10   \n",
       "12350.0         310         17         334.40  1  1  2         112          4   \n",
       "\n",
       "           RFM_Segment_Level  \n",
       "CustomerID                    \n",
       "12346.0            Low_level  \n",
       "12347.0           High_level  \n",
       "12348.0            Mid_level  \n",
       "12349.0           High_level  \n",
       "12350.0            Low_level  "
      ]
     },
     "execution_count": 66,
     "metadata": {},
     "output_type": "execute_result"
    }
   ],
   "source": [
    "RFM.head()"
   ]
  },
  {
   "cell_type": "code",
   "execution_count": 67,
   "id": "0e32c406",
   "metadata": {},
   "outputs": [
    {
     "data": {
      "text/html": [
       "<div>\n",
       "<style scoped>\n",
       "    .dataframe tbody tr th:only-of-type {\n",
       "        vertical-align: middle;\n",
       "    }\n",
       "\n",
       "    .dataframe tbody tr th {\n",
       "        vertical-align: top;\n",
       "    }\n",
       "\n",
       "    .dataframe thead th {\n",
       "        text-align: right;\n",
       "    }\n",
       "</style>\n",
       "<table border=\"1\" class=\"dataframe\">\n",
       "  <thead>\n",
       "    <tr style=\"text-align: right;\">\n",
       "      <th></th>\n",
       "      <th>RFM_Segmant</th>\n",
       "      <th>Counts</th>\n",
       "    </tr>\n",
       "  </thead>\n",
       "  <tbody>\n",
       "    <tr>\n",
       "      <th>0</th>\n",
       "      <td>Mid_level</td>\n",
       "      <td>1899</td>\n",
       "    </tr>\n",
       "    <tr>\n",
       "      <th>1</th>\n",
       "      <td>High_level</td>\n",
       "      <td>1690</td>\n",
       "    </tr>\n",
       "    <tr>\n",
       "      <th>2</th>\n",
       "      <td>Low_level</td>\n",
       "      <td>783</td>\n",
       "    </tr>\n",
       "  </tbody>\n",
       "</table>\n",
       "</div>"
      ],
      "text/plain": [
       "  RFM_Segmant  Counts\n",
       "0   Mid_level    1899\n",
       "1  High_level    1690\n",
       "2   Low_level     783"
      ]
     },
     "execution_count": 67,
     "metadata": {},
     "output_type": "execute_result"
    }
   ],
   "source": [
    "segmant_counts = RFM[\"RFM_Segment_Level\"].value_counts().reset_index()\n",
    "segmant_counts.columns = ['RFM_Segmant','Counts']\n",
    "segmant_counts = segmant_counts.sort_values(by='Counts',ascending=False)\n",
    "segmant_counts"
   ]
  },
  {
   "cell_type": "code",
   "execution_count": 70,
   "id": "9ca3e947",
   "metadata": {},
   "outputs": [
    {
     "data": {
      "application/vnd.plotly.v1+json": {
       "config": {
        "plotlyServerURL": "https://plot.ly"
       },
       "data": [
        {
         "hovertemplate": "RFM_Segmant=%{x}<br>Counts=%{y}<extra></extra>",
         "legendgroup": "Mid_level",
         "marker": {
          "color": "#636efa",
          "pattern": {
           "shape": ""
          }
         },
         "name": "Mid_level",
         "orientation": "v",
         "showlegend": true,
         "textposition": "auto",
         "type": "bar",
         "x": [
          "Mid_level"
         ],
         "xaxis": "x",
         "y": {
          "bdata": "awc=",
          "dtype": "i2"
         },
         "yaxis": "y"
        },
        {
         "hovertemplate": "RFM_Segmant=%{x}<br>Counts=%{y}<extra></extra>",
         "legendgroup": "High_level",
         "marker": {
          "color": "#EF553B",
          "pattern": {
           "shape": ""
          }
         },
         "name": "High_level",
         "orientation": "v",
         "showlegend": true,
         "textposition": "auto",
         "type": "bar",
         "x": [
          "High_level"
         ],
         "xaxis": "x",
         "y": {
          "bdata": "mgY=",
          "dtype": "i2"
         },
         "yaxis": "y"
        },
        {
         "hovertemplate": "RFM_Segmant=%{x}<br>Counts=%{y}<extra></extra>",
         "legendgroup": "Low_level",
         "marker": {
          "color": "#00cc96",
          "pattern": {
           "shape": ""
          }
         },
         "name": "Low_level",
         "orientation": "v",
         "showlegend": true,
         "textposition": "auto",
         "type": "bar",
         "x": [
          "Low_level"
         ],
         "xaxis": "x",
         "y": {
          "bdata": "DwM=",
          "dtype": "i2"
         },
         "yaxis": "y"
        }
       ],
       "layout": {
        "barmode": "relative",
        "legend": {
         "title": {
          "text": "RFM_Segmant"
         },
         "tracegroupgap": 0
        },
        "template": {
         "data": {
          "bar": [
           {
            "error_x": {
             "color": "#2a3f5f"
            },
            "error_y": {
             "color": "#2a3f5f"
            },
            "marker": {
             "line": {
              "color": "#E5ECF6",
              "width": 0.5
             },
             "pattern": {
              "fillmode": "overlay",
              "size": 10,
              "solidity": 0.2
             }
            },
            "type": "bar"
           }
          ],
          "barpolar": [
           {
            "marker": {
             "line": {
              "color": "#E5ECF6",
              "width": 0.5
             },
             "pattern": {
              "fillmode": "overlay",
              "size": 10,
              "solidity": 0.2
             }
            },
            "type": "barpolar"
           }
          ],
          "carpet": [
           {
            "aaxis": {
             "endlinecolor": "#2a3f5f",
             "gridcolor": "white",
             "linecolor": "white",
             "minorgridcolor": "white",
             "startlinecolor": "#2a3f5f"
            },
            "baxis": {
             "endlinecolor": "#2a3f5f",
             "gridcolor": "white",
             "linecolor": "white",
             "minorgridcolor": "white",
             "startlinecolor": "#2a3f5f"
            },
            "type": "carpet"
           }
          ],
          "choropleth": [
           {
            "colorbar": {
             "outlinewidth": 0,
             "ticks": ""
            },
            "type": "choropleth"
           }
          ],
          "contour": [
           {
            "colorbar": {
             "outlinewidth": 0,
             "ticks": ""
            },
            "colorscale": [
             [
              0,
              "#0d0887"
             ],
             [
              0.1111111111111111,
              "#46039f"
             ],
             [
              0.2222222222222222,
              "#7201a8"
             ],
             [
              0.3333333333333333,
              "#9c179e"
             ],
             [
              0.4444444444444444,
              "#bd3786"
             ],
             [
              0.5555555555555556,
              "#d8576b"
             ],
             [
              0.6666666666666666,
              "#ed7953"
             ],
             [
              0.7777777777777778,
              "#fb9f3a"
             ],
             [
              0.8888888888888888,
              "#fdca26"
             ],
             [
              1,
              "#f0f921"
             ]
            ],
            "type": "contour"
           }
          ],
          "contourcarpet": [
           {
            "colorbar": {
             "outlinewidth": 0,
             "ticks": ""
            },
            "type": "contourcarpet"
           }
          ],
          "heatmap": [
           {
            "colorbar": {
             "outlinewidth": 0,
             "ticks": ""
            },
            "colorscale": [
             [
              0,
              "#0d0887"
             ],
             [
              0.1111111111111111,
              "#46039f"
             ],
             [
              0.2222222222222222,
              "#7201a8"
             ],
             [
              0.3333333333333333,
              "#9c179e"
             ],
             [
              0.4444444444444444,
              "#bd3786"
             ],
             [
              0.5555555555555556,
              "#d8576b"
             ],
             [
              0.6666666666666666,
              "#ed7953"
             ],
             [
              0.7777777777777778,
              "#fb9f3a"
             ],
             [
              0.8888888888888888,
              "#fdca26"
             ],
             [
              1,
              "#f0f921"
             ]
            ],
            "type": "heatmap"
           }
          ],
          "histogram": [
           {
            "marker": {
             "pattern": {
              "fillmode": "overlay",
              "size": 10,
              "solidity": 0.2
             }
            },
            "type": "histogram"
           }
          ],
          "histogram2d": [
           {
            "colorbar": {
             "outlinewidth": 0,
             "ticks": ""
            },
            "colorscale": [
             [
              0,
              "#0d0887"
             ],
             [
              0.1111111111111111,
              "#46039f"
             ],
             [
              0.2222222222222222,
              "#7201a8"
             ],
             [
              0.3333333333333333,
              "#9c179e"
             ],
             [
              0.4444444444444444,
              "#bd3786"
             ],
             [
              0.5555555555555556,
              "#d8576b"
             ],
             [
              0.6666666666666666,
              "#ed7953"
             ],
             [
              0.7777777777777778,
              "#fb9f3a"
             ],
             [
              0.8888888888888888,
              "#fdca26"
             ],
             [
              1,
              "#f0f921"
             ]
            ],
            "type": "histogram2d"
           }
          ],
          "histogram2dcontour": [
           {
            "colorbar": {
             "outlinewidth": 0,
             "ticks": ""
            },
            "colorscale": [
             [
              0,
              "#0d0887"
             ],
             [
              0.1111111111111111,
              "#46039f"
             ],
             [
              0.2222222222222222,
              "#7201a8"
             ],
             [
              0.3333333333333333,
              "#9c179e"
             ],
             [
              0.4444444444444444,
              "#bd3786"
             ],
             [
              0.5555555555555556,
              "#d8576b"
             ],
             [
              0.6666666666666666,
              "#ed7953"
             ],
             [
              0.7777777777777778,
              "#fb9f3a"
             ],
             [
              0.8888888888888888,
              "#fdca26"
             ],
             [
              1,
              "#f0f921"
             ]
            ],
            "type": "histogram2dcontour"
           }
          ],
          "mesh3d": [
           {
            "colorbar": {
             "outlinewidth": 0,
             "ticks": ""
            },
            "type": "mesh3d"
           }
          ],
          "parcoords": [
           {
            "line": {
             "colorbar": {
              "outlinewidth": 0,
              "ticks": ""
             }
            },
            "type": "parcoords"
           }
          ],
          "pie": [
           {
            "automargin": true,
            "type": "pie"
           }
          ],
          "scatter": [
           {
            "fillpattern": {
             "fillmode": "overlay",
             "size": 10,
             "solidity": 0.2
            },
            "type": "scatter"
           }
          ],
          "scatter3d": [
           {
            "line": {
             "colorbar": {
              "outlinewidth": 0,
              "ticks": ""
             }
            },
            "marker": {
             "colorbar": {
              "outlinewidth": 0,
              "ticks": ""
             }
            },
            "type": "scatter3d"
           }
          ],
          "scattercarpet": [
           {
            "marker": {
             "colorbar": {
              "outlinewidth": 0,
              "ticks": ""
             }
            },
            "type": "scattercarpet"
           }
          ],
          "scattergeo": [
           {
            "marker": {
             "colorbar": {
              "outlinewidth": 0,
              "ticks": ""
             }
            },
            "type": "scattergeo"
           }
          ],
          "scattergl": [
           {
            "marker": {
             "colorbar": {
              "outlinewidth": 0,
              "ticks": ""
             }
            },
            "type": "scattergl"
           }
          ],
          "scattermap": [
           {
            "marker": {
             "colorbar": {
              "outlinewidth": 0,
              "ticks": ""
             }
            },
            "type": "scattermap"
           }
          ],
          "scattermapbox": [
           {
            "marker": {
             "colorbar": {
              "outlinewidth": 0,
              "ticks": ""
             }
            },
            "type": "scattermapbox"
           }
          ],
          "scatterpolar": [
           {
            "marker": {
             "colorbar": {
              "outlinewidth": 0,
              "ticks": ""
             }
            },
            "type": "scatterpolar"
           }
          ],
          "scatterpolargl": [
           {
            "marker": {
             "colorbar": {
              "outlinewidth": 0,
              "ticks": ""
             }
            },
            "type": "scatterpolargl"
           }
          ],
          "scatterternary": [
           {
            "marker": {
             "colorbar": {
              "outlinewidth": 0,
              "ticks": ""
             }
            },
            "type": "scatterternary"
           }
          ],
          "surface": [
           {
            "colorbar": {
             "outlinewidth": 0,
             "ticks": ""
            },
            "colorscale": [
             [
              0,
              "#0d0887"
             ],
             [
              0.1111111111111111,
              "#46039f"
             ],
             [
              0.2222222222222222,
              "#7201a8"
             ],
             [
              0.3333333333333333,
              "#9c179e"
             ],
             [
              0.4444444444444444,
              "#bd3786"
             ],
             [
              0.5555555555555556,
              "#d8576b"
             ],
             [
              0.6666666666666666,
              "#ed7953"
             ],
             [
              0.7777777777777778,
              "#fb9f3a"
             ],
             [
              0.8888888888888888,
              "#fdca26"
             ],
             [
              1,
              "#f0f921"
             ]
            ],
            "type": "surface"
           }
          ],
          "table": [
           {
            "cells": {
             "fill": {
              "color": "#EBF0F8"
             },
             "line": {
              "color": "white"
             }
            },
            "header": {
             "fill": {
              "color": "#C8D4E3"
             },
             "line": {
              "color": "white"
             }
            },
            "type": "table"
           }
          ]
         },
         "layout": {
          "annotationdefaults": {
           "arrowcolor": "#2a3f5f",
           "arrowhead": 0,
           "arrowwidth": 1
          },
          "autotypenumbers": "strict",
          "coloraxis": {
           "colorbar": {
            "outlinewidth": 0,
            "ticks": ""
           }
          },
          "colorscale": {
           "diverging": [
            [
             0,
             "#8e0152"
            ],
            [
             0.1,
             "#c51b7d"
            ],
            [
             0.2,
             "#de77ae"
            ],
            [
             0.3,
             "#f1b6da"
            ],
            [
             0.4,
             "#fde0ef"
            ],
            [
             0.5,
             "#f7f7f7"
            ],
            [
             0.6,
             "#e6f5d0"
            ],
            [
             0.7,
             "#b8e186"
            ],
            [
             0.8,
             "#7fbc41"
            ],
            [
             0.9,
             "#4d9221"
            ],
            [
             1,
             "#276419"
            ]
           ],
           "sequential": [
            [
             0,
             "#0d0887"
            ],
            [
             0.1111111111111111,
             "#46039f"
            ],
            [
             0.2222222222222222,
             "#7201a8"
            ],
            [
             0.3333333333333333,
             "#9c179e"
            ],
            [
             0.4444444444444444,
             "#bd3786"
            ],
            [
             0.5555555555555556,
             "#d8576b"
            ],
            [
             0.6666666666666666,
             "#ed7953"
            ],
            [
             0.7777777777777778,
             "#fb9f3a"
            ],
            [
             0.8888888888888888,
             "#fdca26"
            ],
            [
             1,
             "#f0f921"
            ]
           ],
           "sequentialminus": [
            [
             0,
             "#0d0887"
            ],
            [
             0.1111111111111111,
             "#46039f"
            ],
            [
             0.2222222222222222,
             "#7201a8"
            ],
            [
             0.3333333333333333,
             "#9c179e"
            ],
            [
             0.4444444444444444,
             "#bd3786"
            ],
            [
             0.5555555555555556,
             "#d8576b"
            ],
            [
             0.6666666666666666,
             "#ed7953"
            ],
            [
             0.7777777777777778,
             "#fb9f3a"
            ],
            [
             0.8888888888888888,
             "#fdca26"
            ],
            [
             1,
             "#f0f921"
            ]
           ]
          },
          "colorway": [
           "#636efa",
           "#EF553B",
           "#00cc96",
           "#ab63fa",
           "#FFA15A",
           "#19d3f3",
           "#FF6692",
           "#B6E880",
           "#FF97FF",
           "#FECB52"
          ],
          "font": {
           "color": "#2a3f5f"
          },
          "geo": {
           "bgcolor": "white",
           "lakecolor": "white",
           "landcolor": "#E5ECF6",
           "showlakes": true,
           "showland": true,
           "subunitcolor": "white"
          },
          "hoverlabel": {
           "align": "left"
          },
          "hovermode": "closest",
          "mapbox": {
           "style": "light"
          },
          "paper_bgcolor": "white",
          "plot_bgcolor": "#E5ECF6",
          "polar": {
           "angularaxis": {
            "gridcolor": "white",
            "linecolor": "white",
            "ticks": ""
           },
           "bgcolor": "#E5ECF6",
           "radialaxis": {
            "gridcolor": "white",
            "linecolor": "white",
            "ticks": ""
           }
          },
          "scene": {
           "xaxis": {
            "backgroundcolor": "#E5ECF6",
            "gridcolor": "white",
            "gridwidth": 2,
            "linecolor": "white",
            "showbackground": true,
            "ticks": "",
            "zerolinecolor": "white"
           },
           "yaxis": {
            "backgroundcolor": "#E5ECF6",
            "gridcolor": "white",
            "gridwidth": 2,
            "linecolor": "white",
            "showbackground": true,
            "ticks": "",
            "zerolinecolor": "white"
           },
           "zaxis": {
            "backgroundcolor": "#E5ECF6",
            "gridcolor": "white",
            "gridwidth": 2,
            "linecolor": "white",
            "showbackground": true,
            "ticks": "",
            "zerolinecolor": "white"
           }
          },
          "shapedefaults": {
           "line": {
            "color": "#2a3f5f"
           }
          },
          "ternary": {
           "aaxis": {
            "gridcolor": "white",
            "linecolor": "white",
            "ticks": ""
           },
           "baxis": {
            "gridcolor": "white",
            "linecolor": "white",
            "ticks": ""
           },
           "bgcolor": "#E5ECF6",
           "caxis": {
            "gridcolor": "white",
            "linecolor": "white",
            "ticks": ""
           }
          },
          "title": {
           "x": 0.05
          },
          "xaxis": {
           "automargin": true,
           "gridcolor": "white",
           "linecolor": "white",
           "ticks": "",
           "title": {
            "standoff": 15
           },
           "zerolinecolor": "white",
           "zerolinewidth": 2
          },
          "yaxis": {
           "automargin": true,
           "gridcolor": "white",
           "linecolor": "white",
           "ticks": "",
           "title": {
            "standoff": 15
           },
           "zerolinecolor": "white",
           "zerolinewidth": 2
          }
         }
        },
        "title": {
         "text": "Customer distribution based on RFM Analysis"
        },
        "xaxis": {
         "anchor": "y",
         "categoryarray": [
          "Mid_level",
          "High_level",
          "Low_level"
         ],
         "categoryorder": "array",
         "domain": [
          0,
          1
         ],
         "title": {
          "text": "RFM_Segmant"
         }
        },
        "yaxis": {
         "anchor": "x",
         "domain": [
          0,
          1
         ],
         "title": {
          "text": "Counts"
         }
        }
       }
      }
     },
     "metadata": {},
     "output_type": "display_data"
    }
   ],
   "source": [
    "fig = px.bar(segmant_counts, \n",
    "            x='RFM_Segmant', \n",
    "            y='Counts', \n",
    "            color='RFM_Segmant', \n",
    "            title='Customer distribution based on RFM Analysis',\n",
    "            color_continuous_scale=px.colors.qualitative.Pastel)\n",
    "fig.show()"
   ]
  },
  {
   "cell_type": "code",
   "execution_count": 71,
   "id": "2624e152",
   "metadata": {},
   "outputs": [],
   "source": [
    "RFM[\"RFM_Customer_Segment\"] = ''\n",
    "\n",
    "RFM.loc[RFM['RFM_Score'] >= 9, 'RFM_Customer_Segment'] = 'VIP/Loyal Customers'\n",
    "RFM.loc[(RFM['RFM_Score'] >= 6) & (RFM['RFM_Score'] < 9), 'RFM_Customer_Segment'] = 'Potential Loyalist'\n",
    "RFM.loc[(RFM['RFM_Score'] >= 4) & (RFM['RFM_Score'] < 6), 'RFM_Customer_Segment'] = 'At Risk Customers'\n",
    "RFM.loc[(RFM['RFM_Score'] < 4) , 'RFM_Customer_Segment'] = 'Lost Customers'"
   ]
  },
  {
   "cell_type": "code",
   "execution_count": 72,
   "id": "2fab865f",
   "metadata": {},
   "outputs": [
    {
     "data": {
      "text/html": [
       "<div>\n",
       "<style scoped>\n",
       "    .dataframe tbody tr th:only-of-type {\n",
       "        vertical-align: middle;\n",
       "    }\n",
       "\n",
       "    .dataframe tbody tr th {\n",
       "        vertical-align: top;\n",
       "    }\n",
       "\n",
       "    .dataframe thead th {\n",
       "        text-align: right;\n",
       "    }\n",
       "</style>\n",
       "<table border=\"1\" class=\"dataframe\">\n",
       "  <thead>\n",
       "    <tr style=\"text-align: right;\">\n",
       "      <th></th>\n",
       "      <th>Recency</th>\n",
       "      <th>Frequency</th>\n",
       "      <th>MonetaryValue</th>\n",
       "      <th>R</th>\n",
       "      <th>F</th>\n",
       "      <th>M</th>\n",
       "      <th>RFM_Segment</th>\n",
       "      <th>RFM_Score</th>\n",
       "      <th>RFM_Segment_Level</th>\n",
       "      <th>RFM_Customer_Segment</th>\n",
       "    </tr>\n",
       "    <tr>\n",
       "      <th>CustomerID</th>\n",
       "      <th></th>\n",
       "      <th></th>\n",
       "      <th></th>\n",
       "      <th></th>\n",
       "      <th></th>\n",
       "      <th></th>\n",
       "      <th></th>\n",
       "      <th></th>\n",
       "      <th></th>\n",
       "      <th></th>\n",
       "    </tr>\n",
       "  </thead>\n",
       "  <tbody>\n",
       "    <tr>\n",
       "      <th>12346.0</th>\n",
       "      <td>326</td>\n",
       "      <td>2</td>\n",
       "      <td>0.00</td>\n",
       "      <td>1</td>\n",
       "      <td>1</td>\n",
       "      <td>1</td>\n",
       "      <td>111</td>\n",
       "      <td>3</td>\n",
       "      <td>Low_level</td>\n",
       "      <td>Lost Customers</td>\n",
       "    </tr>\n",
       "    <tr>\n",
       "      <th>12347.0</th>\n",
       "      <td>2</td>\n",
       "      <td>182</td>\n",
       "      <td>4310.00</td>\n",
       "      <td>4</td>\n",
       "      <td>4</td>\n",
       "      <td>4</td>\n",
       "      <td>444</td>\n",
       "      <td>12</td>\n",
       "      <td>High_level</td>\n",
       "      <td>VIP/Loyal Customers</td>\n",
       "    </tr>\n",
       "    <tr>\n",
       "      <th>12348.0</th>\n",
       "      <td>75</td>\n",
       "      <td>31</td>\n",
       "      <td>1797.24</td>\n",
       "      <td>2</td>\n",
       "      <td>2</td>\n",
       "      <td>4</td>\n",
       "      <td>224</td>\n",
       "      <td>8</td>\n",
       "      <td>Mid_level</td>\n",
       "      <td>Potential Loyalist</td>\n",
       "    </tr>\n",
       "    <tr>\n",
       "      <th>12349.0</th>\n",
       "      <td>19</td>\n",
       "      <td>73</td>\n",
       "      <td>1757.55</td>\n",
       "      <td>3</td>\n",
       "      <td>3</td>\n",
       "      <td>4</td>\n",
       "      <td>334</td>\n",
       "      <td>10</td>\n",
       "      <td>High_level</td>\n",
       "      <td>VIP/Loyal Customers</td>\n",
       "    </tr>\n",
       "    <tr>\n",
       "      <th>12350.0</th>\n",
       "      <td>310</td>\n",
       "      <td>17</td>\n",
       "      <td>334.40</td>\n",
       "      <td>1</td>\n",
       "      <td>1</td>\n",
       "      <td>2</td>\n",
       "      <td>112</td>\n",
       "      <td>4</td>\n",
       "      <td>Low_level</td>\n",
       "      <td>At Risk Customers</td>\n",
       "    </tr>\n",
       "  </tbody>\n",
       "</table>\n",
       "</div>"
      ],
      "text/plain": [
       "            Recency  Frequency  MonetaryValue  R  F  M RFM_Segment  RFM_Score  \\\n",
       "CustomerID                                                                      \n",
       "12346.0         326          2           0.00  1  1  1         111          3   \n",
       "12347.0           2        182        4310.00  4  4  4         444         12   \n",
       "12348.0          75         31        1797.24  2  2  4         224          8   \n",
       "12349.0          19         73        1757.55  3  3  4         334         10   \n",
       "12350.0         310         17         334.40  1  1  2         112          4   \n",
       "\n",
       "           RFM_Segment_Level RFM_Customer_Segment  \n",
       "CustomerID                                         \n",
       "12346.0            Low_level       Lost Customers  \n",
       "12347.0           High_level  VIP/Loyal Customers  \n",
       "12348.0            Mid_level   Potential Loyalist  \n",
       "12349.0           High_level  VIP/Loyal Customers  \n",
       "12350.0            Low_level    At Risk Customers  "
      ]
     },
     "execution_count": 72,
     "metadata": {},
     "output_type": "execute_result"
    }
   ],
   "source": [
    "RFM.head()"
   ]
  },
  {
   "cell_type": "code",
   "execution_count": 76,
   "id": "98790aac",
   "metadata": {},
   "outputs": [],
   "source": [
    "segmant_product_counts = RFM.groupby(['RFM_Segment_Level', 'RFM_Customer_Segment']).size().reset_index(name='Counts')\n",
    "segmant_product_counts = segmant_product_counts.sort_values(by='Counts',ascending=False)"
   ]
  },
  {
   "cell_type": "code",
   "execution_count": 78,
   "id": "c0134bb0",
   "metadata": {},
   "outputs": [
    {
     "data": {
      "application/vnd.plotly.v1+json": {
       "config": {
        "plotlyServerURL": "https://plot.ly"
       },
       "data": [
        {
         "branchvalues": "total",
         "customdata": [
          [
           "High_level"
          ],
          [
           "High_level"
          ],
          [
           "Low_level"
          ],
          [
           "Low_level"
          ],
          [
           "Low_level"
          ],
          [
           "Mid_level"
          ],
          [
           "Mid_level"
          ],
          [
           "Mid_level"
          ]
         ],
         "domain": {
          "x": [
           0,
           1
          ],
          "y": [
           0,
           1
          ]
         },
         "hovertemplate": "labels=%{label}<br>Counts=%{value}<br>parent=%{parent}<br>id=%{id}<br>RFM_Segment_Level=%{customdata[0]}<extra></extra>",
         "ids": [
          "High_level/VIP/Loyal Customers",
          "High_level",
          "Low_level/Lost Customers",
          "Low_level/At Risk Customers",
          "Low_level",
          "Mid_level/Potential Loyalist",
          "Mid_level/At Risk Customers",
          "Mid_level"
         ],
         "labels": [
          "VIP/Loyal Customers",
          "High_level",
          "Lost Customers",
          "At Risk Customers",
          "Low_level",
          "Potential Loyalist",
          "At Risk Customers",
          "Mid_level"
         ],
         "marker": {
          "colors": [
           "#636efa",
           "#636efa",
           "#EF553B",
           "#EF553B",
           "#EF553B",
           "#00cc96",
           "#00cc96",
           "#00cc96"
          ]
         },
         "name": "",
         "parents": [
          "High_level",
          "",
          "Low_level",
          "Low_level",
          "",
          "Mid_level",
          "Mid_level",
          ""
         ],
         "type": "treemap",
         "values": {
          "bdata": "AAAAAABomkAAAAAAAGiaQAAAAAAAgHhAAAAAAABweEAAAAAAAHiIQAAAAAAAmJVAAAAAAAAogEAAAAAAAKydQA==",
          "dtype": "f8"
         }
        }
       ],
       "layout": {
        "legend": {
         "tracegroupgap": 0
        },
        "template": {
         "data": {
          "bar": [
           {
            "error_x": {
             "color": "#2a3f5f"
            },
            "error_y": {
             "color": "#2a3f5f"
            },
            "marker": {
             "line": {
              "color": "#E5ECF6",
              "width": 0.5
             },
             "pattern": {
              "fillmode": "overlay",
              "size": 10,
              "solidity": 0.2
             }
            },
            "type": "bar"
           }
          ],
          "barpolar": [
           {
            "marker": {
             "line": {
              "color": "#E5ECF6",
              "width": 0.5
             },
             "pattern": {
              "fillmode": "overlay",
              "size": 10,
              "solidity": 0.2
             }
            },
            "type": "barpolar"
           }
          ],
          "carpet": [
           {
            "aaxis": {
             "endlinecolor": "#2a3f5f",
             "gridcolor": "white",
             "linecolor": "white",
             "minorgridcolor": "white",
             "startlinecolor": "#2a3f5f"
            },
            "baxis": {
             "endlinecolor": "#2a3f5f",
             "gridcolor": "white",
             "linecolor": "white",
             "minorgridcolor": "white",
             "startlinecolor": "#2a3f5f"
            },
            "type": "carpet"
           }
          ],
          "choropleth": [
           {
            "colorbar": {
             "outlinewidth": 0,
             "ticks": ""
            },
            "type": "choropleth"
           }
          ],
          "contour": [
           {
            "colorbar": {
             "outlinewidth": 0,
             "ticks": ""
            },
            "colorscale": [
             [
              0,
              "#0d0887"
             ],
             [
              0.1111111111111111,
              "#46039f"
             ],
             [
              0.2222222222222222,
              "#7201a8"
             ],
             [
              0.3333333333333333,
              "#9c179e"
             ],
             [
              0.4444444444444444,
              "#bd3786"
             ],
             [
              0.5555555555555556,
              "#d8576b"
             ],
             [
              0.6666666666666666,
              "#ed7953"
             ],
             [
              0.7777777777777778,
              "#fb9f3a"
             ],
             [
              0.8888888888888888,
              "#fdca26"
             ],
             [
              1,
              "#f0f921"
             ]
            ],
            "type": "contour"
           }
          ],
          "contourcarpet": [
           {
            "colorbar": {
             "outlinewidth": 0,
             "ticks": ""
            },
            "type": "contourcarpet"
           }
          ],
          "heatmap": [
           {
            "colorbar": {
             "outlinewidth": 0,
             "ticks": ""
            },
            "colorscale": [
             [
              0,
              "#0d0887"
             ],
             [
              0.1111111111111111,
              "#46039f"
             ],
             [
              0.2222222222222222,
              "#7201a8"
             ],
             [
              0.3333333333333333,
              "#9c179e"
             ],
             [
              0.4444444444444444,
              "#bd3786"
             ],
             [
              0.5555555555555556,
              "#d8576b"
             ],
             [
              0.6666666666666666,
              "#ed7953"
             ],
             [
              0.7777777777777778,
              "#fb9f3a"
             ],
             [
              0.8888888888888888,
              "#fdca26"
             ],
             [
              1,
              "#f0f921"
             ]
            ],
            "type": "heatmap"
           }
          ],
          "histogram": [
           {
            "marker": {
             "pattern": {
              "fillmode": "overlay",
              "size": 10,
              "solidity": 0.2
             }
            },
            "type": "histogram"
           }
          ],
          "histogram2d": [
           {
            "colorbar": {
             "outlinewidth": 0,
             "ticks": ""
            },
            "colorscale": [
             [
              0,
              "#0d0887"
             ],
             [
              0.1111111111111111,
              "#46039f"
             ],
             [
              0.2222222222222222,
              "#7201a8"
             ],
             [
              0.3333333333333333,
              "#9c179e"
             ],
             [
              0.4444444444444444,
              "#bd3786"
             ],
             [
              0.5555555555555556,
              "#d8576b"
             ],
             [
              0.6666666666666666,
              "#ed7953"
             ],
             [
              0.7777777777777778,
              "#fb9f3a"
             ],
             [
              0.8888888888888888,
              "#fdca26"
             ],
             [
              1,
              "#f0f921"
             ]
            ],
            "type": "histogram2d"
           }
          ],
          "histogram2dcontour": [
           {
            "colorbar": {
             "outlinewidth": 0,
             "ticks": ""
            },
            "colorscale": [
             [
              0,
              "#0d0887"
             ],
             [
              0.1111111111111111,
              "#46039f"
             ],
             [
              0.2222222222222222,
              "#7201a8"
             ],
             [
              0.3333333333333333,
              "#9c179e"
             ],
             [
              0.4444444444444444,
              "#bd3786"
             ],
             [
              0.5555555555555556,
              "#d8576b"
             ],
             [
              0.6666666666666666,
              "#ed7953"
             ],
             [
              0.7777777777777778,
              "#fb9f3a"
             ],
             [
              0.8888888888888888,
              "#fdca26"
             ],
             [
              1,
              "#f0f921"
             ]
            ],
            "type": "histogram2dcontour"
           }
          ],
          "mesh3d": [
           {
            "colorbar": {
             "outlinewidth": 0,
             "ticks": ""
            },
            "type": "mesh3d"
           }
          ],
          "parcoords": [
           {
            "line": {
             "colorbar": {
              "outlinewidth": 0,
              "ticks": ""
             }
            },
            "type": "parcoords"
           }
          ],
          "pie": [
           {
            "automargin": true,
            "type": "pie"
           }
          ],
          "scatter": [
           {
            "fillpattern": {
             "fillmode": "overlay",
             "size": 10,
             "solidity": 0.2
            },
            "type": "scatter"
           }
          ],
          "scatter3d": [
           {
            "line": {
             "colorbar": {
              "outlinewidth": 0,
              "ticks": ""
             }
            },
            "marker": {
             "colorbar": {
              "outlinewidth": 0,
              "ticks": ""
             }
            },
            "type": "scatter3d"
           }
          ],
          "scattercarpet": [
           {
            "marker": {
             "colorbar": {
              "outlinewidth": 0,
              "ticks": ""
             }
            },
            "type": "scattercarpet"
           }
          ],
          "scattergeo": [
           {
            "marker": {
             "colorbar": {
              "outlinewidth": 0,
              "ticks": ""
             }
            },
            "type": "scattergeo"
           }
          ],
          "scattergl": [
           {
            "marker": {
             "colorbar": {
              "outlinewidth": 0,
              "ticks": ""
             }
            },
            "type": "scattergl"
           }
          ],
          "scattermap": [
           {
            "marker": {
             "colorbar": {
              "outlinewidth": 0,
              "ticks": ""
             }
            },
            "type": "scattermap"
           }
          ],
          "scattermapbox": [
           {
            "marker": {
             "colorbar": {
              "outlinewidth": 0,
              "ticks": ""
             }
            },
            "type": "scattermapbox"
           }
          ],
          "scatterpolar": [
           {
            "marker": {
             "colorbar": {
              "outlinewidth": 0,
              "ticks": ""
             }
            },
            "type": "scatterpolar"
           }
          ],
          "scatterpolargl": [
           {
            "marker": {
             "colorbar": {
              "outlinewidth": 0,
              "ticks": ""
             }
            },
            "type": "scatterpolargl"
           }
          ],
          "scatterternary": [
           {
            "marker": {
             "colorbar": {
              "outlinewidth": 0,
              "ticks": ""
             }
            },
            "type": "scatterternary"
           }
          ],
          "surface": [
           {
            "colorbar": {
             "outlinewidth": 0,
             "ticks": ""
            },
            "colorscale": [
             [
              0,
              "#0d0887"
             ],
             [
              0.1111111111111111,
              "#46039f"
             ],
             [
              0.2222222222222222,
              "#7201a8"
             ],
             [
              0.3333333333333333,
              "#9c179e"
             ],
             [
              0.4444444444444444,
              "#bd3786"
             ],
             [
              0.5555555555555556,
              "#d8576b"
             ],
             [
              0.6666666666666666,
              "#ed7953"
             ],
             [
              0.7777777777777778,
              "#fb9f3a"
             ],
             [
              0.8888888888888888,
              "#fdca26"
             ],
             [
              1,
              "#f0f921"
             ]
            ],
            "type": "surface"
           }
          ],
          "table": [
           {
            "cells": {
             "fill": {
              "color": "#EBF0F8"
             },
             "line": {
              "color": "white"
             }
            },
            "header": {
             "fill": {
              "color": "#C8D4E3"
             },
             "line": {
              "color": "white"
             }
            },
            "type": "table"
           }
          ]
         },
         "layout": {
          "annotationdefaults": {
           "arrowcolor": "#2a3f5f",
           "arrowhead": 0,
           "arrowwidth": 1
          },
          "autotypenumbers": "strict",
          "coloraxis": {
           "colorbar": {
            "outlinewidth": 0,
            "ticks": ""
           }
          },
          "colorscale": {
           "diverging": [
            [
             0,
             "#8e0152"
            ],
            [
             0.1,
             "#c51b7d"
            ],
            [
             0.2,
             "#de77ae"
            ],
            [
             0.3,
             "#f1b6da"
            ],
            [
             0.4,
             "#fde0ef"
            ],
            [
             0.5,
             "#f7f7f7"
            ],
            [
             0.6,
             "#e6f5d0"
            ],
            [
             0.7,
             "#b8e186"
            ],
            [
             0.8,
             "#7fbc41"
            ],
            [
             0.9,
             "#4d9221"
            ],
            [
             1,
             "#276419"
            ]
           ],
           "sequential": [
            [
             0,
             "#0d0887"
            ],
            [
             0.1111111111111111,
             "#46039f"
            ],
            [
             0.2222222222222222,
             "#7201a8"
            ],
            [
             0.3333333333333333,
             "#9c179e"
            ],
            [
             0.4444444444444444,
             "#bd3786"
            ],
            [
             0.5555555555555556,
             "#d8576b"
            ],
            [
             0.6666666666666666,
             "#ed7953"
            ],
            [
             0.7777777777777778,
             "#fb9f3a"
            ],
            [
             0.8888888888888888,
             "#fdca26"
            ],
            [
             1,
             "#f0f921"
            ]
           ],
           "sequentialminus": [
            [
             0,
             "#0d0887"
            ],
            [
             0.1111111111111111,
             "#46039f"
            ],
            [
             0.2222222222222222,
             "#7201a8"
            ],
            [
             0.3333333333333333,
             "#9c179e"
            ],
            [
             0.4444444444444444,
             "#bd3786"
            ],
            [
             0.5555555555555556,
             "#d8576b"
            ],
            [
             0.6666666666666666,
             "#ed7953"
            ],
            [
             0.7777777777777778,
             "#fb9f3a"
            ],
            [
             0.8888888888888888,
             "#fdca26"
            ],
            [
             1,
             "#f0f921"
            ]
           ]
          },
          "colorway": [
           "#636efa",
           "#EF553B",
           "#00cc96",
           "#ab63fa",
           "#FFA15A",
           "#19d3f3",
           "#FF6692",
           "#B6E880",
           "#FF97FF",
           "#FECB52"
          ],
          "font": {
           "color": "#2a3f5f"
          },
          "geo": {
           "bgcolor": "white",
           "lakecolor": "white",
           "landcolor": "#E5ECF6",
           "showlakes": true,
           "showland": true,
           "subunitcolor": "white"
          },
          "hoverlabel": {
           "align": "left"
          },
          "hovermode": "closest",
          "mapbox": {
           "style": "light"
          },
          "paper_bgcolor": "white",
          "plot_bgcolor": "#E5ECF6",
          "polar": {
           "angularaxis": {
            "gridcolor": "white",
            "linecolor": "white",
            "ticks": ""
           },
           "bgcolor": "#E5ECF6",
           "radialaxis": {
            "gridcolor": "white",
            "linecolor": "white",
            "ticks": ""
           }
          },
          "scene": {
           "xaxis": {
            "backgroundcolor": "#E5ECF6",
            "gridcolor": "white",
            "gridwidth": 2,
            "linecolor": "white",
            "showbackground": true,
            "ticks": "",
            "zerolinecolor": "white"
           },
           "yaxis": {
            "backgroundcolor": "#E5ECF6",
            "gridcolor": "white",
            "gridwidth": 2,
            "linecolor": "white",
            "showbackground": true,
            "ticks": "",
            "zerolinecolor": "white"
           },
           "zaxis": {
            "backgroundcolor": "#E5ECF6",
            "gridcolor": "white",
            "gridwidth": 2,
            "linecolor": "white",
            "showbackground": true,
            "ticks": "",
            "zerolinecolor": "white"
           }
          },
          "shapedefaults": {
           "line": {
            "color": "#2a3f5f"
           }
          },
          "ternary": {
           "aaxis": {
            "gridcolor": "white",
            "linecolor": "white",
            "ticks": ""
           },
           "baxis": {
            "gridcolor": "white",
            "linecolor": "white",
            "ticks": ""
           },
           "bgcolor": "#E5ECF6",
           "caxis": {
            "gridcolor": "white",
            "linecolor": "white",
            "ticks": ""
           }
          },
          "title": {
           "x": 0.05
          },
          "xaxis": {
           "automargin": true,
           "gridcolor": "white",
           "linecolor": "white",
           "ticks": "",
           "title": {
            "standoff": 15
           },
           "zerolinecolor": "white",
           "zerolinewidth": 2
          },
          "yaxis": {
           "automargin": true,
           "gridcolor": "white",
           "linecolor": "white",
           "ticks": "",
           "title": {
            "standoff": 15
           },
           "zerolinecolor": "white",
           "zerolinewidth": 2
          }
         }
        },
        "title": {
         "text": "Customer Segments based on RFM Analysis"
        }
       }
      }
     },
     "metadata": {},
     "output_type": "display_data"
    }
   ],
   "source": [
    "fig_treemap_segments = px.treemap(segmant_product_counts,\n",
    "                                  path=['RFM_Segment_Level', 'RFM_Customer_Segment'],\n",
    "                                    values='Counts',\n",
    "                                    title='Customer Segments based on RFM Analysis',\n",
    "                                    color='RFM_Segment_Level',\n",
    "                                    color_continuous_scale=px.colors.sequential.Plasma_r)\n",
    "\n",
    "fig_treemap_segments.show()"
   ]
  },
  {
   "cell_type": "code",
   "execution_count": 79,
   "id": "0d1a9c43",
   "metadata": {},
   "outputs": [
    {
     "data": {
      "application/vnd.plotly.v1+json": {
       "config": {
        "plotlyServerURL": "https://plot.ly"
       },
       "data": [
        {
         "marker": {
          "color": {
           "bdata": "AAAAAADWsEAzMzMzM3abQHE9CtejJZhAj8L1KNz2pUBSuB6Fqz+4QArXo3A9QJJA4XoUrodluECF61G4HsykQK5H4XqUIrRAZmZmZmaElEB7FK5HYbOrQKRwPQrXf51ACtejcD1Rr0CF61G4HkGlQKRwPQrXL5xAuB6F61G5pUDD9Shcj2ynQM3MzMzM06JAcD0K16OOmUAAAAAAgKGpQBWuR+F6sJpAcT0K1yM1pkCkcD0Kd5jFQDMzMzPXNP5AmpmZmZn1q0Bcj8L1KDKJQD0K16Nw5JxAKVyPwvUihkAzMzMzM8W+QM3MzMzMTK1AcT0K12MQuUC4HoXrUcOzQMP1KFzvH8pAXI/C9aggs0AzMzMzs7WmQClcj8J1jbNArkfhepTGr0D2KFyPwnLBQB+F61G4RaNA4XoUrsejqECF61G4HvedQNejcD0KkJFA7FG4HoVelEAzMzMzM/CSQIXrUbge74ZAFK5H4TpN0kAUrkfhelW4QClcj8J1QKZAH4XrUXjMu0CuR+F6lJK5QHsUrkeBnslAUrgehetHhUD2KFyPQqOpQI/C9Sjc1rVA9ihcj0IuokDsUbgeRY+xQHE9CtejSpRASOF6FO4ptUBnZmZmZs2RQOxRuB5FbrBAj8L1KFxToEAK16NwvRetQOF6FK7HQaNA4XoUrscRoEDsUbgeBS2kQOF6FK5HRptAH4XrUbiFsUBxPQrXo5KUQIXrUbgeCZ5A7FG4HoVemUC4HoXr0QqwQAAAAAAAGa5A61G4HoX+yUA9CtejcKmOQAAAAAAA1pFAAAAAAICIrEBI4XoUrt2CQBWuR+F6a8dA4XoUrsdqoEAVrkfheoutQB+F61F4zcFAFa5H4frBr0D2KFyPwmWPQFK4HoXra5RAMzMzMzObgkAfhetRuIKlQKRwPQpXE7xAzczMzMyXnUA+CtejcPCpQPYoXI9CxqxAj8L1KFx1p0C4HoXrUSKQQK5H4XoUKqRAFK5H4foToEApXI/C9SWpQHsUrkdh5qFAhetRuJ4dqUBxPQrXo+2UQFyPwvUIlspAmpmZmVn0uEDhehSuh36xQHsUrkfhDIhA7FG4HoXbk0D2KFyPQrmgQB+F61G4ZJpAAAAAAEBBt0C4HoXrUVqSQK5H4XoUqo9A7FG4HoVtm0B7FK5H4QuVQKRwPQrXq6xAPQrXo3Adr0AK16NwPQCSQFyPwvUo0q1AexSuR+H/skCPwvUoXD6tQM3MzMxMVKdACtejcD39nUDD9Shcj82UQD0K16MQLdFAFK5H4Xr2ikBSuB6Fy7bKQI/C9SgcAMhAUrgehYsOwED2KFyPQtehQFyPwvUoXqZAwvUoXM8Js0A9CtejcH6TQFyPwvUoWI1ACtejcP0Ds0BI4XoUrlmhQArXo3A9nrpAcT0K16NwpEDNzMzMDCfCQHsUrkehkbBAZmZmZmaEikCPwvUo3GSyQClcj8L1dZBA4XoUrkdRtkApXI/C9YmkQMP1KFyPqIZAcT0K16MdkEAzMzMzM2KkQGZmZmZm165A16NwPVpa0kC4HoXrMdDBQPYoXI8CZLBAZmZmZgZk3EBmZmZmZjiuQOF6FK7HDrFAPQrXowCI1EAzMzMzs4OwQEjhehQuz6VArkfhehSqnUB7FK5HoU27QClcj8L1HJVApHA9CtchiUBmZmZmZjmuQHE9CtejwqFAFK5H4XoPmUCPwvUoXPOBQNejcD0KQbtAH4XrUbhyjUAVrkfhevCWQEjhehSu1Y9AZmZmZmZcukAfhetRuGmkQNejcD0KWYVAhetRuJ7PtUDXo3A9ijSlQM3MzMzMSK5A16NwPQpDmkC4HoXrUTyLQML1KFyPa5BAzczMzMxmnUCamZmZmSSUQI/C9Shc5aBA4XoUrkcwmEA9CtejcCSvQNejcD0KVKFArkfhehT/l0CF61G4Hk2KQM3MzMyM0s9AhetRuJ7PpkBcj8L1qKGgQK5H4XoUBqhAMzMzMzP5mUD2KFyPQmejQDMzMzOzTKdA9ihcj8JVlEDD9ShcbwHQQGZmZmZmsIVAZ2ZmZmYdoEC4HoXr2VbgQArXo3A98oJAZmZmZubYoEAzMzMzM6ePQK5H4XoUgZdAZmZmZuaexkC4HoXrUWKLQGZmZmZmC6BA7FG4HgUvsEAAAAAAAMycQOF6FK5HSJBAkML1KFyblUD2KFyPQn6yQK5H4XoUFq9AhetRuB7EnEDhehSuRx+IQAAAAAAAq5JApHA9CtdDfEB7FK5HIVnFQBWuR+F6/pJA9ihcj4LGukD2KFyPwjGMQPYoXI/Ct5JAKVyPwvUiw0BI4XoUbu21QBWuR+F6fpRACtejcP2yskCPwvUo3EqqQMP1KFyPJKpAAAAAAMBovEDNzMzMzDCkQDMzMzMzQY1APQrXo3CdhECkcD0K1/uIQFyPwvUoJI9AUrgehesnhUAzMzMzMw6oQHE9CtejN5xAj8L1KJw0tkApXI/C9X2RQHE9CtejC61AXI/C9SjKhkBxPQrXI0jIQIXrUbgeT9tAKVyPwvUWrECPwvUoPAXsQLgeheux+MBAH4XrUXg9vkA+CtejcLOaQLgehetRBbdAH4XrUbj820DXo3A9SsC4QFK4HoXrKZFA4XoUrkfQl0AfhetRuPaHQBWuR+F6s5ZAAAAAAACHxED2KFyPQjuhQOF6FK5Hx45AAAAAAACUkUBcj8L1qDSuQK5H4XqUEKBAMzMzMzM9kEDsUbgehTKbQPYoXI/C4qNAXI/C9SgqrECF61G4HhOOQNejcD3Kv7NAmpmZmZmjokApXI/C9SiqQArXo3A9MJpArkfhehRejkDhehSuR+aaQAAAAAAAj5VAKVyPwvWzmUBxPQrXo7qIQMP1KFyPeJRAKVyPwvWsekBmZmZmZhp2QMP1KFwPAqZAH4XrUXhdtkDD9Shcj+uuQFyPwvUow5lA9ihcj8IOmECF61G4HhecQEjhehQucKpAFK5H4folw0AfhetRuDCLQEjhehSuK4tAmpmZmZnXkkBcj8L1KLy2QEjhehSutZJAcT0K16NkiEAzMzMzs82gQNejcD0Kw7dAuB6F69GWpUBmZmZmZjaVQHE9CtejRoVAZmZmZmYInkBxPQrXo9SFQLgehesRHr1AuB6F61F3oECkcD0KVwutQD0K16NwNLFA4XoUrke/qEBSuB6F68O0QArXo3A9KqVAMzMzM7NToEA9CtejcEOfQD4K16NwXpVAXI/C9SjDlkDsUbgehe6QQOF6FK5HTZhA4XoUrkcVgkAK16Nwfbe2QHE9CtcjuKBAUrgehSvUxEDNzMzMzE6XQM3MzMzMnohAzczMzMygu0BxPQrXI0OsQHE9CtejoatACtejcD34xEA9CtejcN+jQPYoXI/CdYxAFa5H4foaqEAAAAAAAASPQD0K16NwHqFAAAAAAIDgqUCF61G4nlWsQOF6FK5HGrBASOF6FK7viECamZmZmRGiQFyPwvUotZRA16NwPdrX2kDhehSuR+eOQD0K16Nw1bZAUrgehevjnECamZmZGVOkQKRwPQrXYJlAZ2ZmZma9q0BmZmZmZnaPQOtRuB6FRYRAFa5H4fqkrUCF61G4HqCqQFK4HoXrQJFApHA9ClcTq0B6FK5H4e6fQGZmZmbmyKZAzczMzMx6j0DiehSuRyebQClcj8L1oMJApHA9CtfukEAAAAAAwBi2QFyPwvUox6NAhetRuB6GlkAK16NwPcObQEjhehROZ8FAFa5H4XoYn0CkcD0K1+uRQK5H4XoUw5FAexSuR+G6sEC4HoXrUV6jQPYoXI/CnY5AcT0K16Pkm0BxPQrXo7WVQHE9CtcjeqBAAAAAAIA/q0CamZmZmRaRQPYoXI/CVq1A7FG4HoWvoUCuR+F6FO21QK5H4XqU8KpAUrgeheuXg0DhehSuR1OFQClcj8L1oIxAw/UoXA+nq0DhehSuRzWwQBSuR+F66IJAuB6F61EdnEBI4XoUrlWLQAAAAAAAXHdAcT0K16NYoEDC9Shcj+CGQM3MzMxML7pAMzMzMzPpmUAK16NwPRqjQBSuR+F64J5AhetRuB4Zn0C4HoXrUciFQJqZmZmZprNAw/UoXI+qhUCuR+F6FDCFQB+F61G4bZFApHA9CtcpmUDsUbgehQOFQK5H4XoUYJlAj8L1KFxwvkAfhetRuC6fQNejcD0KiqBAcT0K16OcmEApXI/C9WyNQNejcD0KS6RAexSuR+EYmkCPwvUoXEWcQLgehetRHJFAXI/C9agmpUA9Ctej8OqiQLgehesRSLhAhetRuJ40oUBxPQrXo96JQHsUrkfhXqhAFa5H4XrrlkAzMzMzo5fuQPYoXI9CkKNACtejcD2yoUCF61G4nu6hQHsUrkfhPoZAkML1KBxpuEDXo3A9CmGWQB+F61G4RpBAuB6F61GCokAK16NwPUecQIXrUbgewY9Aj8L1KFycpUAAAAAAAKCGQKRwPQrXPKhAmZmZmZnwlECPwvUoXNWgQIXrUbgeGbRAmpmZmRntqECamZmZmbqQQNejcD0Kx5dACtejcG2M0EAK16NwvaelQGZmZmZmj6RA7FG4HoWwkUBnZmZmFiXZQFyPwvUogHZAAAAAAACAjECuR+F6lD2jQM3MzMzMzHVACtejcO2/4UDXo3A9ioSuQK5H4XqUl6RAcT0K16NOm0BxPQrXoyWVQLgehevRXa9AAAAAAADAg0D2KFyPwouaQBSuR+H6NaFAw/UoXI8UikCkcD0K152FQArXo3A9c6pAexSuR+F8ikBSuB6F67akQPYoXI/Cg5BA61G4HgVZv0AAAAAAAGCTQIXrUbieFqFAuB6F61G6j0CuR+F6FPGoQGZmZmbmQahAAAAAAIB+pUDNzMzMzPW4QFyPwvUo65tA16NwPYonqUB7FK5HYZfQQIXrUbgerZFAAAAAAIDVo0BnZmZmZmqIQD4K16NwE51ACtejcD04pEBmZmZmZmamQJqZmZkZVqJAuB6F69EppEC4HoXrUUiaQIXrUbgeOYpAXI/C9Wgws0BxPQrXo/aiQBSuR+F6xIZA30+Nly5cqUCPwvUoXHerQEjhehSuCZBAH4XrUViNwUA+CtejcBylQClcj8J1jqNAPQrXo3AUnUBSuB6F6zykQOF6FK6HcLtAzczMzMwCsEDXo3A9CpWKQLgehetRo6pA4XoUrkcSokApXI/C9Z2VQOxRuB6FMq5AuR6F61G5n0BxPQrXo+axQD0K16NwdaZAKVyPwnXosECkcD0K19uVQEjhehQucKJAuR6F61GVzEBI4XoUruOmQK5H4XoUUJZAexSuR2Gsq0DD9Shcj2aEQNejcD0KKJRAZmZmZiYHtkB7FK5H4VKHQFK4HoWrOs5AZmZmZma8v0BmZmZmZgO4QHsUrkdh97dAzczMzGxwxEDhehSuR5GSQHE9CtejbZRArkfhehRyjUA9CtejcNOPQNejcD3KU7FA4XoUru+d6EAzMzMzM76vQJqZmZmZrXtA61G4Hh3k60A+Ctej8CmoQFK4HoXripRAKVyPwvUApUBmZmZmpiW2QKRwPQpXrKVASOF6FK6HlUApXI/C9ZqVQJqZmZmZaKVAj8L1KNxopUA+CtejcI+RQPYoXI9C+KtAw/UoXE9SskDYo3A9CrOOQGZmZmZmwIxAC9ejcD14i0BxPQrXIwunQNejcD2CrvtAzczMzExGskC4HoXr0RujQIXrUbgeSKhAH4XrUbhTmUAK16NwPX6GQOxRuB7FILJAcT0K16OLn0DD9ShcT/yxQPYoXI8CNLJAAAAAAGDoxUAAAAAAALyEQPYoXI9CJqBAw/UoXI+znUCamZmZmUChQKRwPQrXQY9ASOF6FK7Hm0AzMzMzM72cQD4K16NwFZ5AMzMzM7PHqkAUrkfhemiQQOF6FK5HM6FAUrgehWvnqUAfhetRuO+fQEjhehSuO4hAH4XrUbgrqEAAAAAAACeiQPYoXI/Cz6NAUrgehes1mkAzMzMzM8CdQGdmZmZmf6ZA16NwPYoeqEDXo3A9CrXIQClcj8J1dKRAAAAAAADqrkBI4XoUriKtQNejcD0K2J1Aw/UoXM/zsUCuR+F6FHqMQGdmZmbmBqJAmpmZmZlCrkCuR+F6VNOyQArXo3A9WpBACtejcD0QlEBI4XoUztXoQDMzMzOzTqZA16NwPQovnEA9CtejcGenQI/C9ShcH6JAj8L1KFwumUApXI/C9TGjQAAAAAAA65dACtejcL1As0BSuB6F69ajQFyPwvUoRH1AcT0K16M7mUD2KFyPwuygQHE9CtejlItAKVyPwnWgoEAzMzMzswqtQFyPwvXo58FAwvUoXI+Qg0D2KFyPwn6TQArXo3A9qptArkfhehTIqED2KFyPwj2PQB+F61F48LFAuB6F69Efq0CPwvUoXPmjQClcj8L1j69AexSuR+FqlkBcj8L1KH6gQMP1KFwPXaRAAAAAAADRnUBmZmZmZgKCQHA9CtejyodAw/UoXI+ztkAAAAAAAEWeQArXo3A9iJBAcT0K16OnsEDNzMzMzJ2uQMP1KFyPOJNA7FG4HgWfoUCQwvUoXGuiQMP1KFyPJJhAFK5H4XoimEC4HoXrUT6QQFK4HoXrLJJAzczMzMxYjEAfhetRuLSEQPYoXI9Cz6dAhetRuB5uoECamZmZmbeeQM3MzMzMwKFA16NwPQrTfECPwvUoXEOeQM3MzMxMKKBAuB6F61F+kkBI4XoUrnWiQOF6FK5HlZ5Aw/UoXI96iUDXo3A9Cl6iQOxRuB6FrqtArkfhehQKhUAzMzMzs7q2QEjhehSucJ9AH4XrUbhglUBwPQrXo82TQEjhehQubKBAH4XrUbgunUCF61G4Xn2wQHsUrkdhH75AuB6F69HbpkAVrkfhelKcQDMzMzOz1q9ASOF6FC4ypkCuR+F6FCKPQJqZmZmZ1pZApHA9ClfIpkDNzMzMzKGfQNejcD0KbqNAFa5H4Xolr0ApXI/C9eyHQFyPwvUo2opArkfhehSaokCPwvUoXPygQB+F61E4ZbJA16NwPYoDqEB7FK5HYeelQEjhehSu3YpAMzMzMzNykEApXI/C9fiYQMP1KFyPnJZASOF6FK7TgUBSuB6F60+DQOF6FK5HvXdAZmZmZmYym0AzMzMzM5mLQM3MzMzs4MZAzczMzIwmxkCamZmZmeSbQNejcD0Kl5tAzczMzMwqi0BxPQrXI4qlQEjhehSuWY1ASOF6FK4Qp0CamZmZmeifQEjhehSuY4hASOF6FAQPEUFcj8L1KCWWQDMzMzMzbp5AmpmZmZkonkBcj8L1KDKKQMP1KFwPMaNAj8L1KFwZiEDsUbgehamTQJqZmZmZB8JAmpmZmZkhm0AAAAAAAOaCQBWuR+F63qNAKVyPwhVN2kCF61G4HlGTQHsUrkdh87NAXI/C9aiEoEA9Ctej8C2gQNejcD0Ki5NAmpmZmZl2oUA+CtejcGyjQOF6FK5HZalAcT0K16MrmEBI4XoUriKRQHE9CtcjL7NA16NwPQrxgkBmZmZmZiymQOtRuB6F0KRA16NwPQobi0AfhetRuOCYQBSuR+F6voRAMzMzMzMZkkBxPQrXo3CGQArXo3A9VJ9ASOF6FK78pEDsUbgexXXCQD4K16Owr7ZA9ihcj8InlEAzMzMzM3auQI/C9Shc4ZVAhetRuB4CkUBcj8L1KH+UQHsUrkdhZbNASOF6FK4Xh0B7FK5H4WeZQHE9Ctcj7qJAzczMzMzIxEBcj8L1KCehQOtRuB6FO4VAFK5H4XpIh0A9CtejcOCTQPYoXI+Cn75ApHA9CleMsEAzMzMzM1WBQArXo3C9/qBA9ihcj8JPoEAAAAAAAFSIQKRwPQrXnpFAuB6F69FloUBmZmZmZomaQM3MzMzMpJlA7FG4HoW/qUCamZmZmTGjQIXrUbie66hA4XoUrkfgvkB7FK5HYSmmQOF6FK7He6VA61G4HoV9lEBcj8L1KCCVQJmZmZmZSYpAmpmZmbm6y0DhehSuR/emQJqZmZmZj4ZA16NwPQpTgEB7FK5H4aKWQFyPwvUoNpdAhetRuB6lh0BnZmZmZleTQHsUrkchhsVA7FG4HoVZlUDhehSuRzGTQClcj8L1G5ZAKVyPwvVwpUD2KFyPwgWQQDMzMzOzLatAXI/C9eQuAEFcj8L1KEyKQB+F61G4LZNA4XoUrkeQlEAfhetRuImiQD4K16NwJY5Aj8L1KFyDnUBSuB6Fa7W/QDMzMzPz0rZA4XoUrkeqkEDXo3A9yui+QB+F61G4AnVArkfhepReu0AzMzMzMz+XQOF6FK5HcpFASOF6FK4tnkDXo3A9CqeZQArXo3B9JLhAhetRuB63k0CF61G4HkGdQLgehetRSIxAXI/C9ShrukC4HoXrUfWZQNejcD0KmYNAhetRuB7hhEDXo3A9ChakQFyPwvWotbBAH4XrUbjMhECPwvUonFLTQHsUrkdhzb1A9ihcjwLIs0BI4XoUrvyaQD0K16NwvpVAuB6F61HOhUCamZmZmeFyQBWuR+H6maBA4XoUrke3lEA9CtejcPFyQOF6FK6XeupAKVyPwvV/qEAfhetRuMSHQNejcD0KQ5tAexSuR+FKgUA9CtejcCODQM3MzMysy8JArkfhehTRkUBI4XoUrumiQHE9CtcjOrFAj8L1KNz1oUBSuB6F6/6VQFK4HoXrfZhAuB6F69HeqkCF61G4HpGlQAAAAAAAI5VA7FG4HoU4mEDsUbgehTCZQIXrUbieLqFAZmZmZoa2xUBcj8L1KC6WQM3MzMzM7qpAPgrXo3CPjkApXI/C9a+VQM3MzMzMCZRAAAAAAABcokDXo3A9CoK5QFK4HoXrqpJAH4XrUfi3tEAK16NwPUyyQFK4HoXrC45AAAAAAAA2nUBSuB6FayPSQGZmZmZmWIpAMzMzMzNgmUBmZmZmZhShQK5H4XoUPrJAuB6F6xHdzkBSuB6FK2G9QAAAAAAAKq5A7FG4HoWDhEAzMzMzM4+cQClcj8L1HItA9ihcj8L1mUBxPQrX43y2QEjhehSue5tAmpmZmZkNk0BSuB6F62GqQOxRuB4Fj6FA4XoUrkcRlkBcj8L1KIKQQB+F61G44odA4XoUrkdWmkCPwvUoXCqbQEjhehSup6NAj8L1KFwBukBI4XoUjivEQArXo3A9JodAZmZmZmaajECuR+F6FNObQGZmZmZm9KFAcT0K16Nro0DD9Shcj2SGQGdmZmbmf6FA16NwPQoFokDNzMzMzDiNQOtRuB7Fe75A9ihcj4L0sUCF61G4njSsQDMzMzMzfK1AhetRuB6ks0AVrkfhagPtQClcj8J1taRAAAAAAABsj0DD9ShcjxidQAAAAAAAnaVAZmZmZmYVwEDNzMzMzMmUQPYoXI/CLp1AmpmZmRlxokAfhetROEqhQD4K16NwRZNA4noUrsdfrEA+CtejcEmaQI/C9SjcJ7dAUrgeheuul0CuR+F6FA+hQOxRuB6F7pRAXI/C9Sh+iUD2KFyPwoGQQEjhehSu9apA7FG4HoUJlUA0MzMzMzeIQArXo3C9DK9AmpmZmZlXlkDD9ShcjyyXQKRwPQrXK49AhetRuB6KkUC4HoXrURipQNejcD0KKZZA9ihcj8JZjkAUrkfherGVQOtRuB4FIbtArkfhehT+f0BI4XoUrld9QEjhehSuhZZAH4XrUbiouUAfhetRONarQAAAAAAAHqRAhetRuB4IkUAzMzMzsyWoQAAAAAAAvZ5AUrgehetMlEAUrkfhOjbIQArXo3A9rpFAKVyPwnWltUDhehSuR1KrQK5H4XoUmo5ApHA9CtdpjEDXo3A9ClzMQHsUrkdhJqdAw/UoXI/fnUDNzMzMTB2kQFyPwvUoWIlAcT0K16NZokDD9Shcj/+uQGZmZmZmeZdA9ihcj8Jdn0C4HoXrUbSXQI/C9ShcV4dA7FG4HgWtq0CkcD0K11qzQNejcD0K35lA16NwPQr9gUAzMzMzM5ayQFK4HoXrlYZA9ihcj8KelEC4HoXrUbKHQB+F61H4DbBAPgrXo3BThEAfhetRuPGjQJqZmZmZ+4JAkML1KFxljUA+Ctej8MuqQOJ6FK5HV4VAexSuR+GUhkCF61G4Hp6bQFK4HoXrzYdAj8L1KFxZukDsUbgehe6QQFK4HoXruJJA4XoUrkftokAfhetRuBaRQMP1KFyPgZhA7FG4HgU8xEBoke18P1iHQJqZmZmZ0ZdArkfhehQbkkDD9ShcDzGpQOF6FK5HY6ZAmpmZmZlxkkCF61G4npaoQFK4HoWrSMhAzczMzMx8nUAK16NwPdSMQAAAAAAAZIdA16NwPQpAmEDsUbgeBYShQBWuR+H6lqRA16NwPQqCpkCuR+F6FECbQEjhehQu+KlACtejcD1qiEAfhetRuNaUQHsUrkfhko1AAAAAAABLp0CamZmZmRe5QFK4HoXrqKRAw/UoXI8YmEAK16NwPeuhQHE9CtejjI1APgrXo3ADqkA+CtejcMGQQClcj8L1s7NApHA9Cte1gkDhehSuR7F/QFK4HoVrCqFAKVyPwvU6tECkcD0K14SRQOxRuB7FtLJASOF6FK6DiEApXI/C9byQQLgehetRcI5AKVyPwnUmo0CPwvUo3ImkQPYoXI/CHaJASOF6FK5ikEA9Ctej8FqpQKRwPQr3TelAexSuR+FDpEAAAAAAgP+hQDMzMzMz4rJAZmZmZmagjUD2KFyPwhGZQB+F61E41aRAcT0K16PYhUD2KFyPwkiQQJqZmZkZEa5AUrgehStMtUAzMzMzMz+MQNejcD2KGa1AH4XrUbjlkUBxPQrXo/agQFK4HoXrypxAMzMzMzNpoEDNzMzMzMWdQPYoXI/Cq4tAPgrXo3DFmUBSuB6F66WZQM3MzMzMSaBAH4XrUbjQjUAfhetR2EjgQFK4HoXr5Y9ACtejcL2FrEDNzMzMTD2nQClcj8LVls9AZmZmZmZ7lkBI4XoUromOQB+F61G4cKdA16NwPQoHikCG61G4HqebQK5H4XqUq61AexSuR+GOdkBSuB6Fq+qwQBSuR+F6jHtASOF6FK7HeEAfhetRuKKVQK5H4XoUvnZApHA9ClcGtEBcj8L1KMeXQJqZmZmZO45AH4XrUbhAk0ApXI/C9UyXQIXrUbge/4NAMzMzM7M7o0CkcD0K102RQPYoXI9C1rdAUrgehevZjUDXo3A9CqWaQMP1KFyP7IRAw/UoXI80iUCF61G4HoqZQMP1KFzPJbFAhetRuB5tikCamZmZ2WewQJqZmZkZy6pAUrgehet6kEAfhetRuL2iQClcj8L1oKpArkfhehQMl0A9Ctej8AGmQIXrUbgerZZAexSuR+HAiEBxPQrXo4mlQIXrUbgeU5BApHA9ClcYqECamZmZ2TTIQArXo3C9XqVAhetRuB47g0D2KFyPwpeaQEjhehSuBY9AUrgehWtFqkBcj8L1KB2WQAAAAADISuBA16NwPQpphEC4HoXrUZSFQArXo3A9LZdAFa5H4Xr0qkCuR+F6FJiKQBSuR+F6foZAUrgehRPm6EBI4XoUzgvBQBSuR+F67ZFAXI/C9ShfkUDNzMzMzJ+XQM3MzMzMxoRAPgrXo3C4oEA+CtejcM+WQBSuR+F6BpJAFK5H4XrHl0DD9ShcD/ugQAAAAAAAIJVAzczMzMztpUCuR+F6FKyOQLgehetRR5BA7FG4HoVWn0CkcD0K13eTQMP1KFyPyJxAw/UoXI9WlkC5HoXrUQipQFK4HoXr5ZRAexSuR+EPmkB7FK5H4RiLQOxRuB7Fj7hAexSuR+FgnUCuR+F6FGWrQK5H4XrU8MtASOF6FK7nokApXI/C9TutQOF6FK5HyJ1AUrgeheuAnEAK16NwPaGnQB+F61H46LRACtejcD0UiUAzMzMzM3WtQHsUrkfhe5xAR+F6FK5hnUDhehSuR/qVQArXo3C99MNAexSuR+Evr0AK16NwPbm6QHsUrkfhro5AuB6F61Exs0AVrkfheuKQQK5H4XoUdpxA16NwPQrLh0CuR+F6FMKEQArXo3A9raFAMzMzM5OX1EDsUbgehUmFQArXo3C93adAexSuR+EGi0DhehSuRyGRQOF6FK5H04pAhetRuJ7brEAK16NwvV+kQOxRuB6FHKxAPgrXo3AhlUDhehSuRyCcQArXo3A9o6xAmpmZmZlipED2KFyPglO0QHE9CtejVodAZmZmZiYvtUBcj8L1KD2WQB+F61G4YpdA16NwPQrul0D2KFyPwr+JQBWuR+F6eaFAMzMzMzPClECuR+F61Lm0QIXrUbgeh6VAUrgehesbqEA9CtejcAiuQM3MzMzMvJhAMzMzM7MA2kDsUbgehZ2eQEfhehSuJ3dAMzMzMzO9i0DNzMzMzPWWQHsUrkfhMZFAKVyPwrUTukDNzMzMzKOfQBWuR+F60ZZAexSuR2GnqkDhehSuRwWMQMP1KFyPYIRAuB6F61EYhkBI4XoUrhGYQFK4HoXrI4lAexSuR+EWf0BxPQrXo0aYQArXo3A9opRAXI/C9SiMjkDNzMzMzKegQJqZmZkZ+qZACtejcD0QlkCamZmZmTuXQBSuR+F6uq9Aj8L1KNydoEDsUbgehbOfQClcj8L1C5BAXI/C9SgahUBI4XoUtoHgQAAAAAAA0Z1AAAAAAADJl0DNzMzMzPKIQKRwPQpXcaxAuB6F61FGg0AfhetRuMScQArXo3C93KBAFa5H4Xo1q0D2KFyPwnWJQM3MzMzMnpVAH4XrUbiKlECkcD0K1w2ZQD0K16NwU4RA7FG4HoWrh0B7FK5H4U2cQFK4HoXrfKNA4XoUrkdjhUB7FK5H4WiYQHsUrkdhK6dArkfhehSyjUAfhetRuFSLQOxRuB6FbJlAKVyPwtUnwkBcj8L1yDvHQI/C9ShccpNA9ihcj8ILkEAK16NwPbOVQHE9CtejOrBAAAAAAIC0oUBmZmZmZgyEQK5H4XqU46lA7FG4HoUgwECuR+F6FISJQGZmZmbmTaxAexSuR+EUlEDD9Shcj9KvQFyPwvUobIlApHA9Cle9p0ApXI/C9Uq1QHE9CtejjpJA4XoUrkeNpEBmZmZmphuxQK5H4XoUDqFAzczMzEx8pkCPwvUoXJKRQHsUrkfhMZpA7FG4HoVFkkBxPQrXoz6FQPYoXI9C/rlASOF6FK47kkDXo3A9CqWtQIXrUbgevMBAKVyPwvUsjUAVrkfhemuVQFK4HoXrbK9ApHA9Cpedv0B7FK5H4VqYQFyPwvWoi6dAj8L1KFypm0AAAAAAABCQQHsUrkdBFvBAKVyPwvXGp0A9CtejcLOTQAAAAAAAsLNA61G4HkUetEA+CtejED3LQM3MzMzMmoBACtejcL2rp0CuR+F6FGajQIXrUbgezJlAj8L1KNx6rEAVrkfhOri6QB+F61G4nKlASOF6FK63m0ApXI/CNWeyQK5H4XoUmJVASOF6FK56kEDhehSuR6S7QFK4HoVruqFASOF6FK4foUDXo3A9CmOUQDMzMzOzArxAw/UoXE8mukBI4XoUrteJQJqZmZmZr5dAexSuR+GSm0DsUbgehTKXQB+F61G4JohA7FG4HoV1l0AAAAAAgIylQJqZmZmZzLVAMzMzMzNHh0CF61G4no2hQHE9CtejfppAZmZmZgZrxEAAAAAAgIShQBWuR+F6wJdAhetRuB6pmkDXo3A9CsaSQClcj8L1xZJAUrgehesLiUBSuB6F64WMQFK4HoXrc5pAmpmZmZlkuUDNzMzMzJuWQD0K16Pw66lAhetRuB5KkUApXI/Cdb+oQHE9Ctfj/s1AFK5H4Xq6m0Bcj8L16OPDQClcj8L1LIlAFa5H4fqSpUDD9ShcT5q7QHsUrkfhnZ9A9ihcj8KtikC4HoXrUbyXQFyPwvUoeH1AmpmZmZlNiUA+CtejcA1/QI/C9Shcx3tACtejcD0GlEDsUbgehauaQNejcD2KVK1AKVyPwvUaqEAzMzMzM62OQArXo3A9mJdApHA9ClfBo0A+CtejcG2DQK5H4XoUAoJAj8L1KFxNkEBmZmZm5kikQK5H4XrUCrpAAAAAAAAch0AAAAAAALulQMP1KFyPPZRAH4XrUTj8sUBxPQrXo5CAQOxRuB6FvJ1A9ihcj8LTp0A9CtejcJidQAAAAACA+bBArkfhehQlkkBcj8L1KEqgQD0K16PwyKBAMzMzMzNEnEDNzMzMzACeQFK4HoVrKLFAhetRuJ5VtUAzMzMzM2SZQD4K16NwB5lAcT0K1yMrr0D2KFyPwhOWQArXo3A9bohAcT0K16OsgUAK16NwPcqcQEjhehQOv8BAPQrXo3Dik0AfhetRuISKQML1KFyP9IZArkfhehSnkEDrUbgehVGQQB+F61G4HJtA4XoUrsfatUBI4XoUrjmpQLgehetRJ5VArkfhehQuqEB7FK5HIfyzQI/C9ShcNpZApHA9ClezsUA+CtejcL6kQClcj8L1oqJAj8L1KFyYlkBcj8L1KG6JQGZmZmZmT59AAAAAAIALp0AzMzMzM0yYQFyPwvUoBKBA16NwPQocn0BnZmZmZuefQIXrUbieta1AhetRuB7Hm0DNzMzMzACRQD4K16NwBY9Aj8L1KFxPjUBSuB6F612OQFK4HoXrVplApHA9CjdGxEA+CtejcC2LQPYoXI/CWYdANDMzMzM3iUCkcD0KVz6jQAvXo3A9HLNAUrgehevOkUBcj8L1yKzEQMP1KFyPxI5Aw/UoXI8+mkB7FK5H4cuTQFK4HoXr+pdAw/UoXA98q0CkcD0K16yaQM3MzMzMRKNA16NwPQqHiUDNzMzMTFetQPYoXI/CW5ZA16NwPQpjiEC5HoXr0a2pQFyPwvUox6FA9ihcj0JeoECkcD0K1ymaQPYoXI/CoYVAMzMzM7PXq0CkcD0KV/ehQFyPwvUoaqVAKVyPwvXAjkB7FK5H4aKeQAAAAACA/KhArkfhehTydEDD9Shcj1qNQI/C9ShcyJ1AcT0K16NvqEDXo3A9CqGMQM3MzMxMQa1AZmZmZkbawEC4HoXrUQh4QNejcD0KB3FACtejcD1qc0DD9ShcD8GgQHE9CtejnZpAH4XrUbimmUA9CtejcKCQQFK4HoXrLpZA4XoUrkdBjUBSuB6F62mAQD4K16NwTJ1AexSuR+HohEAfhetRuH+RQArXo3BdzMBA9ihcj0LgoUDsUbgehaWjQClcj8J1PLhAexSuR+HmhUBSuB6F62eMQKRwPQrX8Y5A4XoUrkdhnkBI4XoULtS5QKRwPQqXOcdAUrgehevNgEBcj8L1KGekQK5H4XoUHpJA9ihcj8Kgk0C4HoXrUU6CQBSuR+G6Z7FAw/UoXI/BskCuR+F6FBaVQArXo3A9fnpAH4XrUbj6lECkcD0K16uuQMP1KFyPSnlAUrgehRvM00CkcD0K1/ykQHsUrkfhgIhA61G4HgWR3kDNzMzMzKK8QOF6FK5Hw4VAUrgeheujoEAzMzMzs5OkQK5H4Xo0l91A9ihcj8I5jkB7FK5H4SKeQHsUrkfh+pJA7FG4HoVnh0AK16NwPaiTQKRwPQpXtrpAH4XrUfhosEDrUbgehfScQI/C9ShcuYdA9ihcj0Kes0DNzMzMnK3QQKRwPQrXOqJA61G4HoVEoUCuR+F6FPimQB+F61G4kaNAw/UoXNHiBkHNzMzMzMOZQAAAAAAAyHNAZmZmZmaKhEBI4XoUrquHQD0K16NwZZ1ACtejcD3ah0AK16NwPcycQOF6FK5HlJFAj8L1KFyFk0DrUbgehRueQKRwPQrXq6tAzczMzMyIhUDC9Shcj3KlQArXo3C91LdASOF6FNaD9UCuR+F6FNCmQHE9CtejAIhA4XoUrke8nEBH4XoUro+GQKRwPQrXupBAUrgehetlhECamZmZmRWGQDMzMzMzqKtAAAAAAACiokApXI/C9QyMQEjhehSuL4RASOF6FK5vjEDNzMzMzIGeQFyPwvUoNH5A7FG4HoVNkUBI4XoUrimMQIXrUbgeWa9A16NwPQpql0DD9ShcjwOrQDMzMzMzg3tASOF6FA74xEAzMzMzMy2TQOF6FK5HtJFApHA9ClfIokB7FK5H4RyXQNejcD0KTqFAhetRuB6PrkBxPQrXo0x4QI/C9SjcF6ZA7FG4HsW6s0BI4XoUrj+RQArXo3C9165A16NwPQojn0CF61G4Xp2xQHE9CtejXI5ApHA9CtdbikAAAAAAAPyfQBSuR+F64JtAj8L1KFxpk0A+Ctej8HOiQClcj8L1oaVAMzMzMzP2m0CkcD0KV12uQHsUrkchgbJA7FG4HoVfkkAVrkfhehekQPYoXI/CKppAAAAAAIAVp0CuR+F6FPGbQOF6FK5HwYZA7FG4HgUPoEA+CtejcJ2qQLgehetREJRACtejcD1FqEB7FK5H4ViZQGZmZmaGoNNArkfhehSdlUCPwvUonK3PQFyPwvWoNqNAw/UoXA/vqEApXI/CdWu2QDMzMzNzjLJAmpmZmRkyoUDhehSux5mjQHsUrkfh3ppAUrgehev1iEAUrkfhetSbQMP1KFyvuMNA16NwPcqBtUDNzMzMzPe0QPYoXI/Cr5JA4XoUrkeZokD2KFyPQlaqQDMzMzMzSpBAj8L1KFyno0CuR+F61Ki0QPYoXI8Cm8lAZmZmZmYdnUCamZmZGcSlQFyPwvUo5qFA4XoUrkcWnEBI4XoUri+bQArXo3B90bVAZ2ZmZmYBq0BSuB6F6xeKQJDC9ShcwqFA9ihcj0LxrkCkcD0K1/2SQHsUrkfhzoRA9ihcj8IknUAzMzMzM7aeQDMzMzMzz4VAPQrXo3BjiEBcj8L1KKSnQNejcD0KvJJAj8L1KFyPk0C4HoXrURCBQIXrUbieE7JAKVyPwrX9vUDhehSuR+GGQGZmZmZmyppAcD0K1yOarECkcD0K1y2fQHsUrkfh/5hACtejcD3qdUCF61G4HmKYQGZmZmZmEaJAXI/C9Ziy40B7FK5Hoai0QClcj8LVItpAXI/C9agjtEBmZmZmZhagQAAAAAAAsKhAAAAAAACsgkDsUbgeRdfDQJqZmZmZhZ1APgrXo3CRm0Bcj8L1KP6EQJqZmZmZa4ZAexSuR+EcjEAK16NwPX+RQHsUrkfhBnVAmpmZmRlssEBcj8L1KNSJQFyPwvWonKZAUrgehesxm0DhehSuR86UQD0K16NwXXhAH4XrUTjNsEC5HoXrUf6eQBSuR+HawelACtejcL3uoUD2KFyPwkGUQDMzMzMze31AcT0K1yN9pEAfhetRuCmRQLgehetRJodAj8L1KJwpsUAUrkfheg6HQDMzMzMznZdASOF6FK4TekAK16NwPS6XQHsUrkfh4IRArkfhehRuekAzMzMzM9OGQHE9CtcjQbBArkfhehR8gUDNzMzMTEugQHE9CtcjYLpAuB6F69GOoEBcj8L1KJiiQOF6FK5Hl59AexSuR+EwrkA+CtejcNWjQOtRuB4FkqRAPQrXo/CHrEApXI/C9fqFQHsUrkfhtMFAmpmZmZmSp0AzMzMzM3mMQDMzMzOzCaVAuB6F67NND0G4HoXrUfW+QIXrUbgeKJZA7FG4HsXbtUCkcD0K14icQI/C9Shc1ZFAKVyPwvVWkECPwvUonGTAQAAAAACAkaZAmpmZmRlbpkDsUbgehfeGQFyPwvUoM5lA16NwPQoulUBSuB6FK0K9QEjhehSuiJRASOF6FK4EnEAAAAAAAM+cQClcj8L1OZ9A16NwPQqJhUDD9ShcD9uzQDMzMzMz7Z5A9ihcj8J6pECuR+F6FI+fQArXo3A9JZBAFa5H4TqruEDsUbgeBfG0QJqZmZkZSLRAZ2ZmZuZsvEA0MzMzMzmlQKRwPQpXJKBAUrgehesRnEBSuB6F65GLQM3MzMzM2I5ASOF6FC4UoEAVrkfh+nChQIXrUbgel6NA9ihcj8KyoUA0MzMzM0WiQAAAAAAARqRAuB6F61HskkDD9Shcj/GnQPYoXI/CXaBAhetRuB61nEA=",
           "dtype": "f8"
          },
          "colorscale": [
           [
            0,
            "#440154"
           ],
           [
            0.1111111111111111,
            "#482878"
           ],
           [
            0.2222222222222222,
            "#3e4989"
           ],
           [
            0.3333333333333333,
            "#31688e"
           ],
           [
            0.4444444444444444,
            "#26828e"
           ],
           [
            0.5555555555555556,
            "#1f9e89"
           ],
           [
            0.6666666666666666,
            "#35b779"
           ],
           [
            0.7777777777777778,
            "#6ece58"
           ],
           [
            0.8888888888888888,
            "#b5de2b"
           ],
           [
            1,
            "#fde725"
           ]
          ],
          "opacity": 0.8,
          "size": 8
         },
         "mode": "markers",
         "type": "scatter3d",
         "x": {
          "bdata": "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",
          "dtype": "i2"
         },
         "y": {
          "bdata": "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",
          "dtype": "i2"
         },
         "z": {
          "bdata": "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",
          "dtype": "f8"
         }
        }
       ],
       "layout": {
        "scene": {
         "xaxis": {
          "title": {
           "text": "Recency"
          }
         },
         "yaxis": {
          "title": {
           "text": "Frequency"
          }
         },
         "zaxis": {
          "title": {
           "text": "Monetary Value"
          }
         }
        },
        "template": {
         "data": {
          "bar": [
           {
            "error_x": {
             "color": "#2a3f5f"
            },
            "error_y": {
             "color": "#2a3f5f"
            },
            "marker": {
             "line": {
              "color": "#E5ECF6",
              "width": 0.5
             },
             "pattern": {
              "fillmode": "overlay",
              "size": 10,
              "solidity": 0.2
             }
            },
            "type": "bar"
           }
          ],
          "barpolar": [
           {
            "marker": {
             "line": {
              "color": "#E5ECF6",
              "width": 0.5
             },
             "pattern": {
              "fillmode": "overlay",
              "size": 10,
              "solidity": 0.2
             }
            },
            "type": "barpolar"
           }
          ],
          "carpet": [
           {
            "aaxis": {
             "endlinecolor": "#2a3f5f",
             "gridcolor": "white",
             "linecolor": "white",
             "minorgridcolor": "white",
             "startlinecolor": "#2a3f5f"
            },
            "baxis": {
             "endlinecolor": "#2a3f5f",
             "gridcolor": "white",
             "linecolor": "white",
             "minorgridcolor": "white",
             "startlinecolor": "#2a3f5f"
            },
            "type": "carpet"
           }
          ],
          "choropleth": [
           {
            "colorbar": {
             "outlinewidth": 0,
             "ticks": ""
            },
            "type": "choropleth"
           }
          ],
          "contour": [
           {
            "colorbar": {
             "outlinewidth": 0,
             "ticks": ""
            },
            "colorscale": [
             [
              0,
              "#0d0887"
             ],
             [
              0.1111111111111111,
              "#46039f"
             ],
             [
              0.2222222222222222,
              "#7201a8"
             ],
             [
              0.3333333333333333,
              "#9c179e"
             ],
             [
              0.4444444444444444,
              "#bd3786"
             ],
             [
              0.5555555555555556,
              "#d8576b"
             ],
             [
              0.6666666666666666,
              "#ed7953"
             ],
             [
              0.7777777777777778,
              "#fb9f3a"
             ],
             [
              0.8888888888888888,
              "#fdca26"
             ],
             [
              1,
              "#f0f921"
             ]
            ],
            "type": "contour"
           }
          ],
          "contourcarpet": [
           {
            "colorbar": {
             "outlinewidth": 0,
             "ticks": ""
            },
            "type": "contourcarpet"
           }
          ],
          "heatmap": [
           {
            "colorbar": {
             "outlinewidth": 0,
             "ticks": ""
            },
            "colorscale": [
             [
              0,
              "#0d0887"
             ],
             [
              0.1111111111111111,
              "#46039f"
             ],
             [
              0.2222222222222222,
              "#7201a8"
             ],
             [
              0.3333333333333333,
              "#9c179e"
             ],
             [
              0.4444444444444444,
              "#bd3786"
             ],
             [
              0.5555555555555556,
              "#d8576b"
             ],
             [
              0.6666666666666666,
              "#ed7953"
             ],
             [
              0.7777777777777778,
              "#fb9f3a"
             ],
             [
              0.8888888888888888,
              "#fdca26"
             ],
             [
              1,
              "#f0f921"
             ]
            ],
            "type": "heatmap"
           }
          ],
          "histogram": [
           {
            "marker": {
             "pattern": {
              "fillmode": "overlay",
              "size": 10,
              "solidity": 0.2
             }
            },
            "type": "histogram"
           }
          ],
          "histogram2d": [
           {
            "colorbar": {
             "outlinewidth": 0,
             "ticks": ""
            },
            "colorscale": [
             [
              0,
              "#0d0887"
             ],
             [
              0.1111111111111111,
              "#46039f"
             ],
             [
              0.2222222222222222,
              "#7201a8"
             ],
             [
              0.3333333333333333,
              "#9c179e"
             ],
             [
              0.4444444444444444,
              "#bd3786"
             ],
             [
              0.5555555555555556,
              "#d8576b"
             ],
             [
              0.6666666666666666,
              "#ed7953"
             ],
             [
              0.7777777777777778,
              "#fb9f3a"
             ],
             [
              0.8888888888888888,
              "#fdca26"
             ],
             [
              1,
              "#f0f921"
             ]
            ],
            "type": "histogram2d"
           }
          ],
          "histogram2dcontour": [
           {
            "colorbar": {
             "outlinewidth": 0,
             "ticks": ""
            },
            "colorscale": [
             [
              0,
              "#0d0887"
             ],
             [
              0.1111111111111111,
              "#46039f"
             ],
             [
              0.2222222222222222,
              "#7201a8"
             ],
             [
              0.3333333333333333,
              "#9c179e"
             ],
             [
              0.4444444444444444,
              "#bd3786"
             ],
             [
              0.5555555555555556,
              "#d8576b"
             ],
             [
              0.6666666666666666,
              "#ed7953"
             ],
             [
              0.7777777777777778,
              "#fb9f3a"
             ],
             [
              0.8888888888888888,
              "#fdca26"
             ],
             [
              1,
              "#f0f921"
             ]
            ],
            "type": "histogram2dcontour"
           }
          ],
          "mesh3d": [
           {
            "colorbar": {
             "outlinewidth": 0,
             "ticks": ""
            },
            "type": "mesh3d"
           }
          ],
          "parcoords": [
           {
            "line": {
             "colorbar": {
              "outlinewidth": 0,
              "ticks": ""
             }
            },
            "type": "parcoords"
           }
          ],
          "pie": [
           {
            "automargin": true,
            "type": "pie"
           }
          ],
          "scatter": [
           {
            "fillpattern": {
             "fillmode": "overlay",
             "size": 10,
             "solidity": 0.2
            },
            "type": "scatter"
           }
          ],
          "scatter3d": [
           {
            "line": {
             "colorbar": {
              "outlinewidth": 0,
              "ticks": ""
             }
            },
            "marker": {
             "colorbar": {
              "outlinewidth": 0,
              "ticks": ""
             }
            },
            "type": "scatter3d"
           }
          ],
          "scattercarpet": [
           {
            "marker": {
             "colorbar": {
              "outlinewidth": 0,
              "ticks": ""
             }
            },
            "type": "scattercarpet"
           }
          ],
          "scattergeo": [
           {
            "marker": {
             "colorbar": {
              "outlinewidth": 0,
              "ticks": ""
             }
            },
            "type": "scattergeo"
           }
          ],
          "scattergl": [
           {
            "marker": {
             "colorbar": {
              "outlinewidth": 0,
              "ticks": ""
             }
            },
            "type": "scattergl"
           }
          ],
          "scattermap": [
           {
            "marker": {
             "colorbar": {
              "outlinewidth": 0,
              "ticks": ""
             }
            },
            "type": "scattermap"
           }
          ],
          "scattermapbox": [
           {
            "marker": {
             "colorbar": {
              "outlinewidth": 0,
              "ticks": ""
             }
            },
            "type": "scattermapbox"
           }
          ],
          "scatterpolar": [
           {
            "marker": {
             "colorbar": {
              "outlinewidth": 0,
              "ticks": ""
             }
            },
            "type": "scatterpolar"
           }
          ],
          "scatterpolargl": [
           {
            "marker": {
             "colorbar": {
              "outlinewidth": 0,
              "ticks": ""
             }
            },
            "type": "scatterpolargl"
           }
          ],
          "scatterternary": [
           {
            "marker": {
             "colorbar": {
              "outlinewidth": 0,
              "ticks": ""
             }
            },
            "type": "scatterternary"
           }
          ],
          "surface": [
           {
            "colorbar": {
             "outlinewidth": 0,
             "ticks": ""
            },
            "colorscale": [
             [
              0,
              "#0d0887"
             ],
             [
              0.1111111111111111,
              "#46039f"
             ],
             [
              0.2222222222222222,
              "#7201a8"
             ],
             [
              0.3333333333333333,
              "#9c179e"
             ],
             [
              0.4444444444444444,
              "#bd3786"
             ],
             [
              0.5555555555555556,
              "#d8576b"
             ],
             [
              0.6666666666666666,
              "#ed7953"
             ],
             [
              0.7777777777777778,
              "#fb9f3a"
             ],
             [
              0.8888888888888888,
              "#fdca26"
             ],
             [
              1,
              "#f0f921"
             ]
            ],
            "type": "surface"
           }
          ],
          "table": [
           {
            "cells": {
             "fill": {
              "color": "#EBF0F8"
             },
             "line": {
              "color": "white"
             }
            },
            "header": {
             "fill": {
              "color": "#C8D4E3"
             },
             "line": {
              "color": "white"
             }
            },
            "type": "table"
           }
          ]
         },
         "layout": {
          "annotationdefaults": {
           "arrowcolor": "#2a3f5f",
           "arrowhead": 0,
           "arrowwidth": 1
          },
          "autotypenumbers": "strict",
          "coloraxis": {
           "colorbar": {
            "outlinewidth": 0,
            "ticks": ""
           }
          },
          "colorscale": {
           "diverging": [
            [
             0,
             "#8e0152"
            ],
            [
             0.1,
             "#c51b7d"
            ],
            [
             0.2,
             "#de77ae"
            ],
            [
             0.3,
             "#f1b6da"
            ],
            [
             0.4,
             "#fde0ef"
            ],
            [
             0.5,
             "#f7f7f7"
            ],
            [
             0.6,
             "#e6f5d0"
            ],
            [
             0.7,
             "#b8e186"
            ],
            [
             0.8,
             "#7fbc41"
            ],
            [
             0.9,
             "#4d9221"
            ],
            [
             1,
             "#276419"
            ]
           ],
           "sequential": [
            [
             0,
             "#0d0887"
            ],
            [
             0.1111111111111111,
             "#46039f"
            ],
            [
             0.2222222222222222,
             "#7201a8"
            ],
            [
             0.3333333333333333,
             "#9c179e"
            ],
            [
             0.4444444444444444,
             "#bd3786"
            ],
            [
             0.5555555555555556,
             "#d8576b"
            ],
            [
             0.6666666666666666,
             "#ed7953"
            ],
            [
             0.7777777777777778,
             "#fb9f3a"
            ],
            [
             0.8888888888888888,
             "#fdca26"
            ],
            [
             1,
             "#f0f921"
            ]
           ],
           "sequentialminus": [
            [
             0,
             "#0d0887"
            ],
            [
             0.1111111111111111,
             "#46039f"
            ],
            [
             0.2222222222222222,
             "#7201a8"
            ],
            [
             0.3333333333333333,
             "#9c179e"
            ],
            [
             0.4444444444444444,
             "#bd3786"
            ],
            [
             0.5555555555555556,
             "#d8576b"
            ],
            [
             0.6666666666666666,
             "#ed7953"
            ],
            [
             0.7777777777777778,
             "#fb9f3a"
            ],
            [
             0.8888888888888888,
             "#fdca26"
            ],
            [
             1,
             "#f0f921"
            ]
           ]
          },
          "colorway": [
           "#636efa",
           "#EF553B",
           "#00cc96",
           "#ab63fa",
           "#FFA15A",
           "#19d3f3",
           "#FF6692",
           "#B6E880",
           "#FF97FF",
           "#FECB52"
          ],
          "font": {
           "color": "#2a3f5f"
          },
          "geo": {
           "bgcolor": "white",
           "lakecolor": "white",
           "landcolor": "#E5ECF6",
           "showlakes": true,
           "showland": true,
           "subunitcolor": "white"
          },
          "hoverlabel": {
           "align": "left"
          },
          "hovermode": "closest",
          "mapbox": {
           "style": "light"
          },
          "paper_bgcolor": "white",
          "plot_bgcolor": "#E5ECF6",
          "polar": {
           "angularaxis": {
            "gridcolor": "white",
            "linecolor": "white",
            "ticks": ""
           },
           "bgcolor": "#E5ECF6",
           "radialaxis": {
            "gridcolor": "white",
            "linecolor": "white",
            "ticks": ""
           }
          },
          "scene": {
           "xaxis": {
            "backgroundcolor": "#E5ECF6",
            "gridcolor": "white",
            "gridwidth": 2,
            "linecolor": "white",
            "showbackground": true,
            "ticks": "",
            "zerolinecolor": "white"
           },
           "yaxis": {
            "backgroundcolor": "#E5ECF6",
            "gridcolor": "white",
            "gridwidth": 2,
            "linecolor": "white",
            "showbackground": true,
            "ticks": "",
            "zerolinecolor": "white"
           },
           "zaxis": {
            "backgroundcolor": "#E5ECF6",
            "gridcolor": "white",
            "gridwidth": 2,
            "linecolor": "white",
            "showbackground": true,
            "ticks": "",
            "zerolinecolor": "white"
           }
          },
          "shapedefaults": {
           "line": {
            "color": "#2a3f5f"
           }
          },
          "ternary": {
           "aaxis": {
            "gridcolor": "white",
            "linecolor": "white",
            "ticks": ""
           },
           "baxis": {
            "gridcolor": "white",
            "linecolor": "white",
            "ticks": ""
           },
           "bgcolor": "#E5ECF6",
           "caxis": {
            "gridcolor": "white",
            "linecolor": "white",
            "ticks": ""
           }
          },
          "title": {
           "x": 0.05
          },
          "xaxis": {
           "automargin": true,
           "gridcolor": "white",
           "linecolor": "white",
           "ticks": "",
           "title": {
            "standoff": 15
           },
           "zerolinecolor": "white",
           "zerolinewidth": 2
          },
          "yaxis": {
           "automargin": true,
           "gridcolor": "white",
           "linecolor": "white",
           "ticks": "",
           "title": {
            "standoff": 15
           },
           "zerolinecolor": "white",
           "zerolinewidth": 2
          }
         }
        },
        "title": {
         "text": "3D Scatter plot of VIP/Loyal Customers"
        }
       }
      }
     },
     "metadata": {},
     "output_type": "display_data"
    }
   ],
   "source": [
    "vip_segments = RFM[RFM['RFM_Customer_Segment'] == 'VIP/Loyal Customers']\n",
    "\n",
    "fig = go.Figure()\n",
    "fig.add_trace(go.Scatter3d(\n",
    "    x=vip_segments['Recency'],\n",
    "    y=vip_segments['Frequency'],\n",
    "    z=vip_segments['MonetaryValue'],\n",
    "    mode='markers',\n",
    "    marker=dict(\n",
    "        size=8,\n",
    "        color=vip_segments['MonetaryValue'], \n",
    "        colorscale='Viridis',   \n",
    "        opacity=0.8\n",
    "    )\n",
    "))\n",
    "fig.update_layout(\n",
    "    title='3D Scatter plot of VIP/Loyal Customers',\n",
    "    scene=dict(\n",
    "        xaxis_title='Recency',\n",
    "        yaxis_title='Frequency',\n",
    "        zaxis_title='Monetary Value'\n",
    "    )\n",
    ")\n",
    "fig.show()"
   ]
  },
  {
   "cell_type": "code",
   "execution_count": null,
   "id": "8754a3fe",
   "metadata": {},
   "outputs": [],
   "source": []
  }
 ],
 "metadata": {
  "kernelspec": {
   "display_name": "my_venv",
   "language": "python",
   "name": "python3"
  },
  "language_info": {
   "codemirror_mode": {
    "name": "ipython",
    "version": 3
   },
   "file_extension": ".py",
   "mimetype": "text/x-python",
   "name": "python",
   "nbconvert_exporter": "python",
   "pygments_lexer": "ipython3",
   "version": "3.12.4"
  }
 },
 "nbformat": 4,
 "nbformat_minor": 5
}
